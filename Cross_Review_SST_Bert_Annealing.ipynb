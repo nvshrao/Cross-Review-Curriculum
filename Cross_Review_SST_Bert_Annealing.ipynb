{
  "nbformat": 4,
  "nbformat_minor": 0,
  "metadata": {
    "colab": {
      "name": " Cross Review SST Bert + Annealing 1,2",
      "provenance": [],
      "collapsed_sections": [
        "NykDWHMSagKA",
        "qh32Mdea9Iiz",
        "T2ru6p8JTO-x"
      ],
      "toc_visible": true,
      "machine_shape": "hm"
    },
    "language_info": {
      "codemirror_mode": {
        "name": "ipython",
        "version": 3
      },
      "file_extension": ".py",
      "mimetype": "text/x-python",
      "name": "python",
      "nbconvert_exporter": "python",
      "pygments_lexer": "ipython3",
      "version": "3.5.2"
    },
    "kernelspec": {
      "name": "python3",
      "display_name": "Python 3"
    },
    "accelerator": "GPU",
    "widgets": {
      "application/vnd.jupyter.widget-state+json": {
        "f418709a2a7a4daca971afb3bc856b34": {
          "model_module": "@jupyter-widgets/controls",
          "model_name": "HBoxModel",
          "state": {
            "_view_name": "HBoxView",
            "_dom_classes": [],
            "_model_name": "HBoxModel",
            "_view_module": "@jupyter-widgets/controls",
            "_model_module_version": "1.5.0",
            "_view_count": null,
            "_view_module_version": "1.5.0",
            "box_style": "",
            "layout": "IPY_MODEL_e0e568ba2cac4b1da4ab4638d1c12f47",
            "_model_module": "@jupyter-widgets/controls",
            "children": [
              "IPY_MODEL_dc38c4427dd84188bb574f4de8b3343f",
              "IPY_MODEL_9025e245076e4c1e95c1b9a5df51dbe3"
            ]
          }
        },
        "e0e568ba2cac4b1da4ab4638d1c12f47": {
          "model_module": "@jupyter-widgets/base",
          "model_name": "LayoutModel",
          "state": {
            "_view_name": "LayoutView",
            "grid_template_rows": null,
            "right": null,
            "justify_content": null,
            "_view_module": "@jupyter-widgets/base",
            "overflow": null,
            "_model_module_version": "1.2.0",
            "_view_count": null,
            "flex_flow": null,
            "width": null,
            "min_width": null,
            "border": null,
            "align_items": null,
            "bottom": null,
            "_model_module": "@jupyter-widgets/base",
            "top": null,
            "grid_column": null,
            "overflow_y": null,
            "overflow_x": null,
            "grid_auto_flow": null,
            "grid_area": null,
            "grid_template_columns": null,
            "flex": null,
            "_model_name": "LayoutModel",
            "justify_items": null,
            "grid_row": null,
            "max_height": null,
            "align_content": null,
            "visibility": null,
            "align_self": null,
            "height": null,
            "min_height": null,
            "padding": null,
            "grid_auto_rows": null,
            "grid_gap": null,
            "max_width": null,
            "order": null,
            "_view_module_version": "1.2.0",
            "grid_template_areas": null,
            "object_position": null,
            "object_fit": null,
            "grid_auto_columns": null,
            "margin": null,
            "display": null,
            "left": null
          }
        },
        "dc38c4427dd84188bb574f4de8b3343f": {
          "model_module": "@jupyter-widgets/controls",
          "model_name": "FloatProgressModel",
          "state": {
            "_view_name": "ProgressView",
            "style": "IPY_MODEL_e8f9e6c54e7249a5921465923856eb80",
            "_dom_classes": [],
            "description": "Downloading: 100%",
            "_model_name": "FloatProgressModel",
            "bar_style": "success",
            "max": 231508,
            "_view_module": "@jupyter-widgets/controls",
            "_model_module_version": "1.5.0",
            "value": 231508,
            "_view_count": null,
            "_view_module_version": "1.5.0",
            "orientation": "horizontal",
            "min": 0,
            "description_tooltip": null,
            "_model_module": "@jupyter-widgets/controls",
            "layout": "IPY_MODEL_7a55dbbedb8f44899ce6396a155480a2"
          }
        },
        "9025e245076e4c1e95c1b9a5df51dbe3": {
          "model_module": "@jupyter-widgets/controls",
          "model_name": "HTMLModel",
          "state": {
            "_view_name": "HTMLView",
            "style": "IPY_MODEL_faa5d451f894486eb1214bb33c5b2360",
            "_dom_classes": [],
            "description": "",
            "_model_name": "HTMLModel",
            "placeholder": "​",
            "_view_module": "@jupyter-widgets/controls",
            "_model_module_version": "1.5.0",
            "value": " 232k/232k [00:00&lt;00:00, 974kB/s]",
            "_view_count": null,
            "_view_module_version": "1.5.0",
            "description_tooltip": null,
            "_model_module": "@jupyter-widgets/controls",
            "layout": "IPY_MODEL_6d5cf732f198461d96c3d3e3aab4a6ff"
          }
        },
        "e8f9e6c54e7249a5921465923856eb80": {
          "model_module": "@jupyter-widgets/controls",
          "model_name": "ProgressStyleModel",
          "state": {
            "_view_name": "StyleView",
            "_model_name": "ProgressStyleModel",
            "description_width": "initial",
            "_view_module": "@jupyter-widgets/base",
            "_model_module_version": "1.5.0",
            "_view_count": null,
            "_view_module_version": "1.2.0",
            "bar_color": null,
            "_model_module": "@jupyter-widgets/controls"
          }
        },
        "7a55dbbedb8f44899ce6396a155480a2": {
          "model_module": "@jupyter-widgets/base",
          "model_name": "LayoutModel",
          "state": {
            "_view_name": "LayoutView",
            "grid_template_rows": null,
            "right": null,
            "justify_content": null,
            "_view_module": "@jupyter-widgets/base",
            "overflow": null,
            "_model_module_version": "1.2.0",
            "_view_count": null,
            "flex_flow": null,
            "width": null,
            "min_width": null,
            "border": null,
            "align_items": null,
            "bottom": null,
            "_model_module": "@jupyter-widgets/base",
            "top": null,
            "grid_column": null,
            "overflow_y": null,
            "overflow_x": null,
            "grid_auto_flow": null,
            "grid_area": null,
            "grid_template_columns": null,
            "flex": null,
            "_model_name": "LayoutModel",
            "justify_items": null,
            "grid_row": null,
            "max_height": null,
            "align_content": null,
            "visibility": null,
            "align_self": null,
            "height": null,
            "min_height": null,
            "padding": null,
            "grid_auto_rows": null,
            "grid_gap": null,
            "max_width": null,
            "order": null,
            "_view_module_version": "1.2.0",
            "grid_template_areas": null,
            "object_position": null,
            "object_fit": null,
            "grid_auto_columns": null,
            "margin": null,
            "display": null,
            "left": null
          }
        },
        "faa5d451f894486eb1214bb33c5b2360": {
          "model_module": "@jupyter-widgets/controls",
          "model_name": "DescriptionStyleModel",
          "state": {
            "_view_name": "StyleView",
            "_model_name": "DescriptionStyleModel",
            "description_width": "",
            "_view_module": "@jupyter-widgets/base",
            "_model_module_version": "1.5.0",
            "_view_count": null,
            "_view_module_version": "1.2.0",
            "_model_module": "@jupyter-widgets/controls"
          }
        },
        "6d5cf732f198461d96c3d3e3aab4a6ff": {
          "model_module": "@jupyter-widgets/base",
          "model_name": "LayoutModel",
          "state": {
            "_view_name": "LayoutView",
            "grid_template_rows": null,
            "right": null,
            "justify_content": null,
            "_view_module": "@jupyter-widgets/base",
            "overflow": null,
            "_model_module_version": "1.2.0",
            "_view_count": null,
            "flex_flow": null,
            "width": null,
            "min_width": null,
            "border": null,
            "align_items": null,
            "bottom": null,
            "_model_module": "@jupyter-widgets/base",
            "top": null,
            "grid_column": null,
            "overflow_y": null,
            "overflow_x": null,
            "grid_auto_flow": null,
            "grid_area": null,
            "grid_template_columns": null,
            "flex": null,
            "_model_name": "LayoutModel",
            "justify_items": null,
            "grid_row": null,
            "max_height": null,
            "align_content": null,
            "visibility": null,
            "align_self": null,
            "height": null,
            "min_height": null,
            "padding": null,
            "grid_auto_rows": null,
            "grid_gap": null,
            "max_width": null,
            "order": null,
            "_view_module_version": "1.2.0",
            "grid_template_areas": null,
            "object_position": null,
            "object_fit": null,
            "grid_auto_columns": null,
            "margin": null,
            "display": null,
            "left": null
          }
        },
        "70811f967640474db1c8a7129517cb34": {
          "model_module": "@jupyter-widgets/controls",
          "model_name": "HBoxModel",
          "state": {
            "_view_name": "HBoxView",
            "_dom_classes": [],
            "_model_name": "HBoxModel",
            "_view_module": "@jupyter-widgets/controls",
            "_model_module_version": "1.5.0",
            "_view_count": null,
            "_view_module_version": "1.5.0",
            "box_style": "",
            "layout": "IPY_MODEL_0efd0c463979474a9cb6d7250f029736",
            "_model_module": "@jupyter-widgets/controls",
            "children": [
              "IPY_MODEL_364fe87b49a74323a93bed6b239c286c",
              "IPY_MODEL_910c438233b042898aa1de8dee3536e4"
            ]
          }
        },
        "0efd0c463979474a9cb6d7250f029736": {
          "model_module": "@jupyter-widgets/base",
          "model_name": "LayoutModel",
          "state": {
            "_view_name": "LayoutView",
            "grid_template_rows": null,
            "right": null,
            "justify_content": null,
            "_view_module": "@jupyter-widgets/base",
            "overflow": null,
            "_model_module_version": "1.2.0",
            "_view_count": null,
            "flex_flow": null,
            "width": null,
            "min_width": null,
            "border": null,
            "align_items": null,
            "bottom": null,
            "_model_module": "@jupyter-widgets/base",
            "top": null,
            "grid_column": null,
            "overflow_y": null,
            "overflow_x": null,
            "grid_auto_flow": null,
            "grid_area": null,
            "grid_template_columns": null,
            "flex": null,
            "_model_name": "LayoutModel",
            "justify_items": null,
            "grid_row": null,
            "max_height": null,
            "align_content": null,
            "visibility": null,
            "align_self": null,
            "height": null,
            "min_height": null,
            "padding": null,
            "grid_auto_rows": null,
            "grid_gap": null,
            "max_width": null,
            "order": null,
            "_view_module_version": "1.2.0",
            "grid_template_areas": null,
            "object_position": null,
            "object_fit": null,
            "grid_auto_columns": null,
            "margin": null,
            "display": null,
            "left": null
          }
        },
        "364fe87b49a74323a93bed6b239c286c": {
          "model_module": "@jupyter-widgets/controls",
          "model_name": "FloatProgressModel",
          "state": {
            "_view_name": "ProgressView",
            "style": "IPY_MODEL_738b6448175845c0956a551fdc18058f",
            "_dom_classes": [],
            "description": "Downloading: 100%",
            "_model_name": "FloatProgressModel",
            "bar_style": "success",
            "max": 433,
            "_view_module": "@jupyter-widgets/controls",
            "_model_module_version": "1.5.0",
            "value": 433,
            "_view_count": null,
            "_view_module_version": "1.5.0",
            "orientation": "horizontal",
            "min": 0,
            "description_tooltip": null,
            "_model_module": "@jupyter-widgets/controls",
            "layout": "IPY_MODEL_bafb09edf75a48ea92757371915d5886"
          }
        },
        "910c438233b042898aa1de8dee3536e4": {
          "model_module": "@jupyter-widgets/controls",
          "model_name": "HTMLModel",
          "state": {
            "_view_name": "HTMLView",
            "style": "IPY_MODEL_1beb6105d2a1472dbc63ddcff7cf8170",
            "_dom_classes": [],
            "description": "",
            "_model_name": "HTMLModel",
            "placeholder": "​",
            "_view_module": "@jupyter-widgets/controls",
            "_model_module_version": "1.5.0",
            "value": " 433/433 [00:20&lt;00:00, 20.8B/s]",
            "_view_count": null,
            "_view_module_version": "1.5.0",
            "description_tooltip": null,
            "_model_module": "@jupyter-widgets/controls",
            "layout": "IPY_MODEL_34e03b6256cc440993577af3ca96bd70"
          }
        },
        "738b6448175845c0956a551fdc18058f": {
          "model_module": "@jupyter-widgets/controls",
          "model_name": "ProgressStyleModel",
          "state": {
            "_view_name": "StyleView",
            "_model_name": "ProgressStyleModel",
            "description_width": "initial",
            "_view_module": "@jupyter-widgets/base",
            "_model_module_version": "1.5.0",
            "_view_count": null,
            "_view_module_version": "1.2.0",
            "bar_color": null,
            "_model_module": "@jupyter-widgets/controls"
          }
        },
        "bafb09edf75a48ea92757371915d5886": {
          "model_module": "@jupyter-widgets/base",
          "model_name": "LayoutModel",
          "state": {
            "_view_name": "LayoutView",
            "grid_template_rows": null,
            "right": null,
            "justify_content": null,
            "_view_module": "@jupyter-widgets/base",
            "overflow": null,
            "_model_module_version": "1.2.0",
            "_view_count": null,
            "flex_flow": null,
            "width": null,
            "min_width": null,
            "border": null,
            "align_items": null,
            "bottom": null,
            "_model_module": "@jupyter-widgets/base",
            "top": null,
            "grid_column": null,
            "overflow_y": null,
            "overflow_x": null,
            "grid_auto_flow": null,
            "grid_area": null,
            "grid_template_columns": null,
            "flex": null,
            "_model_name": "LayoutModel",
            "justify_items": null,
            "grid_row": null,
            "max_height": null,
            "align_content": null,
            "visibility": null,
            "align_self": null,
            "height": null,
            "min_height": null,
            "padding": null,
            "grid_auto_rows": null,
            "grid_gap": null,
            "max_width": null,
            "order": null,
            "_view_module_version": "1.2.0",
            "grid_template_areas": null,
            "object_position": null,
            "object_fit": null,
            "grid_auto_columns": null,
            "margin": null,
            "display": null,
            "left": null
          }
        },
        "1beb6105d2a1472dbc63ddcff7cf8170": {
          "model_module": "@jupyter-widgets/controls",
          "model_name": "DescriptionStyleModel",
          "state": {
            "_view_name": "StyleView",
            "_model_name": "DescriptionStyleModel",
            "description_width": "",
            "_view_module": "@jupyter-widgets/base",
            "_model_module_version": "1.5.0",
            "_view_count": null,
            "_view_module_version": "1.2.0",
            "_model_module": "@jupyter-widgets/controls"
          }
        },
        "34e03b6256cc440993577af3ca96bd70": {
          "model_module": "@jupyter-widgets/base",
          "model_name": "LayoutModel",
          "state": {
            "_view_name": "LayoutView",
            "grid_template_rows": null,
            "right": null,
            "justify_content": null,
            "_view_module": "@jupyter-widgets/base",
            "overflow": null,
            "_model_module_version": "1.2.0",
            "_view_count": null,
            "flex_flow": null,
            "width": null,
            "min_width": null,
            "border": null,
            "align_items": null,
            "bottom": null,
            "_model_module": "@jupyter-widgets/base",
            "top": null,
            "grid_column": null,
            "overflow_y": null,
            "overflow_x": null,
            "grid_auto_flow": null,
            "grid_area": null,
            "grid_template_columns": null,
            "flex": null,
            "_model_name": "LayoutModel",
            "justify_items": null,
            "grid_row": null,
            "max_height": null,
            "align_content": null,
            "visibility": null,
            "align_self": null,
            "height": null,
            "min_height": null,
            "padding": null,
            "grid_auto_rows": null,
            "grid_gap": null,
            "max_width": null,
            "order": null,
            "_view_module_version": "1.2.0",
            "grid_template_areas": null,
            "object_position": null,
            "object_fit": null,
            "grid_auto_columns": null,
            "margin": null,
            "display": null,
            "left": null
          }
        },
        "10c76bb87ebc4e14955e8678fc58559c": {
          "model_module": "@jupyter-widgets/controls",
          "model_name": "HBoxModel",
          "state": {
            "_view_name": "HBoxView",
            "_dom_classes": [],
            "_model_name": "HBoxModel",
            "_view_module": "@jupyter-widgets/controls",
            "_model_module_version": "1.5.0",
            "_view_count": null,
            "_view_module_version": "1.5.0",
            "box_style": "",
            "layout": "IPY_MODEL_6eab45ec18814729af3e48df1408a35c",
            "_model_module": "@jupyter-widgets/controls",
            "children": [
              "IPY_MODEL_5ae88bc3b6fb4092bbbc9797aa099518",
              "IPY_MODEL_2e4ac1bfd5cf4b8f9c87bd1ad7a71714"
            ]
          }
        },
        "6eab45ec18814729af3e48df1408a35c": {
          "model_module": "@jupyter-widgets/base",
          "model_name": "LayoutModel",
          "state": {
            "_view_name": "LayoutView",
            "grid_template_rows": null,
            "right": null,
            "justify_content": null,
            "_view_module": "@jupyter-widgets/base",
            "overflow": null,
            "_model_module_version": "1.2.0",
            "_view_count": null,
            "flex_flow": null,
            "width": null,
            "min_width": null,
            "border": null,
            "align_items": null,
            "bottom": null,
            "_model_module": "@jupyter-widgets/base",
            "top": null,
            "grid_column": null,
            "overflow_y": null,
            "overflow_x": null,
            "grid_auto_flow": null,
            "grid_area": null,
            "grid_template_columns": null,
            "flex": null,
            "_model_name": "LayoutModel",
            "justify_items": null,
            "grid_row": null,
            "max_height": null,
            "align_content": null,
            "visibility": null,
            "align_self": null,
            "height": null,
            "min_height": null,
            "padding": null,
            "grid_auto_rows": null,
            "grid_gap": null,
            "max_width": null,
            "order": null,
            "_view_module_version": "1.2.0",
            "grid_template_areas": null,
            "object_position": null,
            "object_fit": null,
            "grid_auto_columns": null,
            "margin": null,
            "display": null,
            "left": null
          }
        },
        "5ae88bc3b6fb4092bbbc9797aa099518": {
          "model_module": "@jupyter-widgets/controls",
          "model_name": "FloatProgressModel",
          "state": {
            "_view_name": "ProgressView",
            "style": "IPY_MODEL_da3d5322a87347d5a768756f4c28f516",
            "_dom_classes": [],
            "description": "Downloading: 100%",
            "_model_name": "FloatProgressModel",
            "bar_style": "success",
            "max": 536063208,
            "_view_module": "@jupyter-widgets/controls",
            "_model_module_version": "1.5.0",
            "value": 536063208,
            "_view_count": null,
            "_view_module_version": "1.5.0",
            "orientation": "horizontal",
            "min": 0,
            "description_tooltip": null,
            "_model_module": "@jupyter-widgets/controls",
            "layout": "IPY_MODEL_2a72088c8b24446999fd8d57f7401f0e"
          }
        },
        "2e4ac1bfd5cf4b8f9c87bd1ad7a71714": {
          "model_module": "@jupyter-widgets/controls",
          "model_name": "HTMLModel",
          "state": {
            "_view_name": "HTMLView",
            "style": "IPY_MODEL_3c1a07b609c2465eac9c9b7a67199401",
            "_dom_classes": [],
            "description": "",
            "_model_name": "HTMLModel",
            "placeholder": "​",
            "_view_module": "@jupyter-widgets/controls",
            "_model_module_version": "1.5.0",
            "value": " 536M/536M [00:20&lt;00:00, 26.1MB/s]",
            "_view_count": null,
            "_view_module_version": "1.5.0",
            "description_tooltip": null,
            "_model_module": "@jupyter-widgets/controls",
            "layout": "IPY_MODEL_f51c0539a4d24eb182a681f01deed7fe"
          }
        },
        "da3d5322a87347d5a768756f4c28f516": {
          "model_module": "@jupyter-widgets/controls",
          "model_name": "ProgressStyleModel",
          "state": {
            "_view_name": "StyleView",
            "_model_name": "ProgressStyleModel",
            "description_width": "initial",
            "_view_module": "@jupyter-widgets/base",
            "_model_module_version": "1.5.0",
            "_view_count": null,
            "_view_module_version": "1.2.0",
            "bar_color": null,
            "_model_module": "@jupyter-widgets/controls"
          }
        },
        "2a72088c8b24446999fd8d57f7401f0e": {
          "model_module": "@jupyter-widgets/base",
          "model_name": "LayoutModel",
          "state": {
            "_view_name": "LayoutView",
            "grid_template_rows": null,
            "right": null,
            "justify_content": null,
            "_view_module": "@jupyter-widgets/base",
            "overflow": null,
            "_model_module_version": "1.2.0",
            "_view_count": null,
            "flex_flow": null,
            "width": null,
            "min_width": null,
            "border": null,
            "align_items": null,
            "bottom": null,
            "_model_module": "@jupyter-widgets/base",
            "top": null,
            "grid_column": null,
            "overflow_y": null,
            "overflow_x": null,
            "grid_auto_flow": null,
            "grid_area": null,
            "grid_template_columns": null,
            "flex": null,
            "_model_name": "LayoutModel",
            "justify_items": null,
            "grid_row": null,
            "max_height": null,
            "align_content": null,
            "visibility": null,
            "align_self": null,
            "height": null,
            "min_height": null,
            "padding": null,
            "grid_auto_rows": null,
            "grid_gap": null,
            "max_width": null,
            "order": null,
            "_view_module_version": "1.2.0",
            "grid_template_areas": null,
            "object_position": null,
            "object_fit": null,
            "grid_auto_columns": null,
            "margin": null,
            "display": null,
            "left": null
          }
        },
        "3c1a07b609c2465eac9c9b7a67199401": {
          "model_module": "@jupyter-widgets/controls",
          "model_name": "DescriptionStyleModel",
          "state": {
            "_view_name": "StyleView",
            "_model_name": "DescriptionStyleModel",
            "description_width": "",
            "_view_module": "@jupyter-widgets/base",
            "_model_module_version": "1.5.0",
            "_view_count": null,
            "_view_module_version": "1.2.0",
            "_model_module": "@jupyter-widgets/controls"
          }
        },
        "f51c0539a4d24eb182a681f01deed7fe": {
          "model_module": "@jupyter-widgets/base",
          "model_name": "LayoutModel",
          "state": {
            "_view_name": "LayoutView",
            "grid_template_rows": null,
            "right": null,
            "justify_content": null,
            "_view_module": "@jupyter-widgets/base",
            "overflow": null,
            "_model_module_version": "1.2.0",
            "_view_count": null,
            "flex_flow": null,
            "width": null,
            "min_width": null,
            "border": null,
            "align_items": null,
            "bottom": null,
            "_model_module": "@jupyter-widgets/base",
            "top": null,
            "grid_column": null,
            "overflow_y": null,
            "overflow_x": null,
            "grid_auto_flow": null,
            "grid_area": null,
            "grid_template_columns": null,
            "flex": null,
            "_model_name": "LayoutModel",
            "justify_items": null,
            "grid_row": null,
            "max_height": null,
            "align_content": null,
            "visibility": null,
            "align_self": null,
            "height": null,
            "min_height": null,
            "padding": null,
            "grid_auto_rows": null,
            "grid_gap": null,
            "max_width": null,
            "order": null,
            "_view_module_version": "1.2.0",
            "grid_template_areas": null,
            "object_position": null,
            "object_fit": null,
            "grid_auto_columns": null,
            "margin": null,
            "display": null,
            "left": null
          }
        }
      }
    }
  },
  "cells": [
    {
      "cell_type": "code",
      "metadata": {
        "nbpresent": {
          "id": "a1d001ff-4919-4660-ba59-166fb0337546"
        },
        "id": "juc30CFKy-Zl"
      },
      "source": [
        "%matplotlib inline\n",
        "#!/usr/bin/python\n",
        "#from __future__ import unicode_literals\"\"\"\"\"\""
      ],
      "execution_count": null,
      "outputs": []
    },
    {
      "cell_type": "code",
      "metadata": {
        "id": "Oq3Uk5TtBlXB"
      },
      "source": [
        ""
      ],
      "execution_count": null,
      "outputs": []
    },
    {
      "cell_type": "code",
      "metadata": {
        "id": "FfobR9ByXH9-",
        "outputId": "8d706aa3-dd9b-49e6-8669-6373b145b8a9",
        "colab": {
          "base_uri": "https://localhost:8080/",
          "height": 34
        }
      },
      "source": [
        "455488+455961+455927+53113"
      ],
      "execution_count": null,
      "outputs": [
        {
          "output_type": "execute_result",
          "data": {
            "text/plain": [
              "1420489"
            ]
          },
          "metadata": {
            "tags": []
          },
          "execution_count": 2
        }
      ]
    },
    {
      "cell_type": "code",
      "metadata": {
        "nbpresent": {
          "id": "a0bd5609-1892-4e70-8be6-8a681f0f5b11"
        },
        "id": "KX17NY63y-Zs",
        "outputId": "ba6d3272-5582-484e-ada1-abefc136d020",
        "colab": {
          "base_uri": "https://localhost:8080/",
          "height": 606
        }
      },
      "source": [
        "!pip install transformers==2.9.0\n",
        "import os\n",
        "import re\n",
        "import sys\n",
        "import random\n",
        "from copy import deepcopy\n",
        "import string\n",
        "from collections import Counter\n",
        "import math\n",
        "import time\n",
        "import pickle\n",
        "import ast\n",
        "import collections as C\n",
        "import copy\n",
        "import numpy as np\n",
        "import pandas as pd\n",
        "import sklearn as sk\n",
        "from sklearn.utils import shuffle\n",
        "from sklearn.model_selection import *\n",
        "from sklearn.metrics import *\n",
        "from matplotlib import pyplot as plt\n",
        "from ast import literal_eval\n",
        "import transformers\n",
        "import seaborn as sns\n",
        "from transformers import *"
      ],
      "execution_count": null,
      "outputs": [
        {
          "output_type": "stream",
          "text": [
            "Collecting transformers==2.9.0\n",
            "\u001b[?25l  Downloading https://files.pythonhosted.org/packages/cd/38/c9527aa055241c66c4d785381eaf6f80a28c224cae97daa1f8b183b5fabb/transformers-2.9.0-py3-none-any.whl (635kB)\n",
            "\r\u001b[K     |▌                               | 10kB 29.0MB/s eta 0:00:01\r\u001b[K     |█                               | 20kB 3.4MB/s eta 0:00:01\r\u001b[K     |█▌                              | 30kB 4.4MB/s eta 0:00:01\r\u001b[K     |██                              | 40kB 5.1MB/s eta 0:00:01\r\u001b[K     |██▋                             | 51kB 4.0MB/s eta 0:00:01\r\u001b[K     |███                             | 61kB 4.5MB/s eta 0:00:01\r\u001b[K     |███▋                            | 71kB 5.0MB/s eta 0:00:01\r\u001b[K     |████▏                           | 81kB 5.4MB/s eta 0:00:01\r\u001b[K     |████▋                           | 92kB 5.7MB/s eta 0:00:01\r\u001b[K     |█████▏                          | 102kB 5.4MB/s eta 0:00:01\r\u001b[K     |█████▊                          | 112kB 5.4MB/s eta 0:00:01\r\u001b[K     |██████▏                         | 122kB 5.4MB/s eta 0:00:01\r\u001b[K     |██████▊                         | 133kB 5.4MB/s eta 0:00:01\r\u001b[K     |███████▏                        | 143kB 5.4MB/s eta 0:00:01\r\u001b[K     |███████▊                        | 153kB 5.4MB/s eta 0:00:01\r\u001b[K     |████████▎                       | 163kB 5.4MB/s eta 0:00:01\r\u001b[K     |████████▊                       | 174kB 5.4MB/s eta 0:00:01\r\u001b[K     |█████████▎                      | 184kB 5.4MB/s eta 0:00:01\r\u001b[K     |█████████▉                      | 194kB 5.4MB/s eta 0:00:01\r\u001b[K     |██████████▎                     | 204kB 5.4MB/s eta 0:00:01\r\u001b[K     |██████████▉                     | 215kB 5.4MB/s eta 0:00:01\r\u001b[K     |███████████▍                    | 225kB 5.4MB/s eta 0:00:01\r\u001b[K     |███████████▉                    | 235kB 5.4MB/s eta 0:00:01\r\u001b[K     |████████████▍                   | 245kB 5.4MB/s eta 0:00:01\r\u001b[K     |████████████▉                   | 256kB 5.4MB/s eta 0:00:01\r\u001b[K     |█████████████▍                  | 266kB 5.4MB/s eta 0:00:01\r\u001b[K     |██████████████                  | 276kB 5.4MB/s eta 0:00:01\r\u001b[K     |██████████████▍                 | 286kB 5.4MB/s eta 0:00:01\r\u001b[K     |███████████████                 | 296kB 5.4MB/s eta 0:00:01\r\u001b[K     |███████████████▌                | 307kB 5.4MB/s eta 0:00:01\r\u001b[K     |████████████████                | 317kB 5.4MB/s eta 0:00:01\r\u001b[K     |████████████████▌               | 327kB 5.4MB/s eta 0:00:01\r\u001b[K     |█████████████████               | 337kB 5.4MB/s eta 0:00:01\r\u001b[K     |█████████████████▌              | 348kB 5.4MB/s eta 0:00:01\r\u001b[K     |██████████████████              | 358kB 5.4MB/s eta 0:00:01\r\u001b[K     |██████████████████▋             | 368kB 5.4MB/s eta 0:00:01\r\u001b[K     |███████████████████             | 378kB 5.4MB/s eta 0:00:01\r\u001b[K     |███████████████████▋            | 389kB 5.4MB/s eta 0:00:01\r\u001b[K     |████████████████████            | 399kB 5.4MB/s eta 0:00:01\r\u001b[K     |████████████████████▋           | 409kB 5.4MB/s eta 0:00:01\r\u001b[K     |█████████████████████▏          | 419kB 5.4MB/s eta 0:00:01\r\u001b[K     |█████████████████████▋          | 430kB 5.4MB/s eta 0:00:01\r\u001b[K     |██████████████████████▏         | 440kB 5.4MB/s eta 0:00:01\r\u001b[K     |██████████████████████▊         | 450kB 5.4MB/s eta 0:00:01\r\u001b[K     |███████████████████████▏        | 460kB 5.4MB/s eta 0:00:01\r\u001b[K     |███████████████████████▊        | 471kB 5.4MB/s eta 0:00:01\r\u001b[K     |████████████████████████▎       | 481kB 5.4MB/s eta 0:00:01\r\u001b[K     |████████████████████████▊       | 491kB 5.4MB/s eta 0:00:01\r\u001b[K     |█████████████████████████▎      | 501kB 5.4MB/s eta 0:00:01\r\u001b[K     |█████████████████████████▊      | 512kB 5.4MB/s eta 0:00:01\r\u001b[K     |██████████████████████████▎     | 522kB 5.4MB/s eta 0:00:01\r\u001b[K     |██████████████████████████▉     | 532kB 5.4MB/s eta 0:00:01\r\u001b[K     |███████████████████████████▎    | 542kB 5.4MB/s eta 0:00:01\r\u001b[K     |███████████████████████████▉    | 552kB 5.4MB/s eta 0:00:01\r\u001b[K     |████████████████████████████▍   | 563kB 5.4MB/s eta 0:00:01\r\u001b[K     |████████████████████████████▉   | 573kB 5.4MB/s eta 0:00:01\r\u001b[K     |█████████████████████████████▍  | 583kB 5.4MB/s eta 0:00:01\r\u001b[K     |██████████████████████████████  | 593kB 5.4MB/s eta 0:00:01\r\u001b[K     |██████████████████████████████▍ | 604kB 5.4MB/s eta 0:00:01\r\u001b[K     |███████████████████████████████ | 614kB 5.4MB/s eta 0:00:01\r\u001b[K     |███████████████████████████████▍| 624kB 5.4MB/s eta 0:00:01\r\u001b[K     |████████████████████████████████| 634kB 5.4MB/s eta 0:00:01\r\u001b[K     |████████████████████████████████| 645kB 5.4MB/s \n",
            "\u001b[?25hRequirement already satisfied: requests in /usr/local/lib/python3.6/dist-packages (from transformers==2.9.0) (2.23.0)\n",
            "Collecting tokenizers==0.7.0\n",
            "\u001b[?25l  Downloading https://files.pythonhosted.org/packages/14/e5/a26eb4716523808bb0a799fcfdceb6ebf77a18169d9591b2f46a9adb87d9/tokenizers-0.7.0-cp36-cp36m-manylinux1_x86_64.whl (3.8MB)\n",
            "\u001b[K     |████████████████████████████████| 3.8MB 28.9MB/s \n",
            "\u001b[?25hRequirement already satisfied: filelock in /usr/local/lib/python3.6/dist-packages (from transformers==2.9.0) (3.0.12)\n",
            "Requirement already satisfied: regex!=2019.12.17 in /usr/local/lib/python3.6/dist-packages (from transformers==2.9.0) (2019.12.20)\n",
            "Collecting sacremoses\n",
            "\u001b[?25l  Downloading https://files.pythonhosted.org/packages/7d/34/09d19aff26edcc8eb2a01bed8e98f13a1537005d31e95233fd48216eed10/sacremoses-0.0.43.tar.gz (883kB)\n",
            "\u001b[K     |████████████████████████████████| 890kB 56.5MB/s \n",
            "\u001b[?25hRequirement already satisfied: tqdm>=4.27 in /usr/local/lib/python3.6/dist-packages (from transformers==2.9.0) (4.41.1)\n",
            "Collecting sentencepiece\n",
            "\u001b[?25l  Downloading https://files.pythonhosted.org/packages/d4/a4/d0a884c4300004a78cca907a6ff9a5e9fe4f090f5d95ab341c53d28cbc58/sentencepiece-0.1.91-cp36-cp36m-manylinux1_x86_64.whl (1.1MB)\n",
            "\u001b[K     |████████████████████████████████| 1.1MB 58.2MB/s \n",
            "\u001b[?25hRequirement already satisfied: dataclasses; python_version < \"3.7\" in /usr/local/lib/python3.6/dist-packages (from transformers==2.9.0) (0.7)\n",
            "Requirement already satisfied: numpy in /usr/local/lib/python3.6/dist-packages (from transformers==2.9.0) (1.18.5)\n",
            "Requirement already satisfied: urllib3!=1.25.0,!=1.25.1,<1.26,>=1.21.1 in /usr/local/lib/python3.6/dist-packages (from requests->transformers==2.9.0) (1.24.3)\n",
            "Requirement already satisfied: idna<3,>=2.5 in /usr/local/lib/python3.6/dist-packages (from requests->transformers==2.9.0) (2.10)\n",
            "Requirement already satisfied: chardet<4,>=3.0.2 in /usr/local/lib/python3.6/dist-packages (from requests->transformers==2.9.0) (3.0.4)\n",
            "Requirement already satisfied: certifi>=2017.4.17 in /usr/local/lib/python3.6/dist-packages (from requests->transformers==2.9.0) (2020.6.20)\n",
            "Requirement already satisfied: six in /usr/local/lib/python3.6/dist-packages (from sacremoses->transformers==2.9.0) (1.15.0)\n",
            "Requirement already satisfied: click in /usr/local/lib/python3.6/dist-packages (from sacremoses->transformers==2.9.0) (7.1.2)\n",
            "Requirement already satisfied: joblib in /usr/local/lib/python3.6/dist-packages (from sacremoses->transformers==2.9.0) (0.16.0)\n",
            "Building wheels for collected packages: sacremoses\n",
            "  Building wheel for sacremoses (setup.py) ... \u001b[?25l\u001b[?25hdone\n",
            "  Created wheel for sacremoses: filename=sacremoses-0.0.43-cp36-none-any.whl size=893257 sha256=195b9d1940fb7b0d7ed4bc90c4cbc83649c7ca8a26683413d84c0b131d52cb24\n",
            "  Stored in directory: /root/.cache/pip/wheels/29/3c/fd/7ce5c3f0666dab31a50123635e6fb5e19ceb42ce38d4e58f45\n",
            "Successfully built sacremoses\n",
            "Installing collected packages: tokenizers, sacremoses, sentencepiece, transformers\n",
            "Successfully installed sacremoses-0.0.43 sentencepiece-0.1.91 tokenizers-0.7.0 transformers-2.9.0\n"
          ],
          "name": "stdout"
        },
        {
          "output_type": "stream",
          "text": [
            "/usr/local/lib/python3.6/dist-packages/statsmodels/tools/_testing.py:19: FutureWarning: pandas.util.testing is deprecated. Use the functions in the public API at pandas.testing instead.\n",
            "  import pandas.util.testing as tm\n"
          ],
          "name": "stderr"
        }
      ]
    },
    {
      "cell_type": "code",
      "metadata": {
        "id": "_BBMBy0oy-bX"
      },
      "source": [
        "from tensorflow.keras.preprocessing.sequence import pad_sequences\n",
        "from tensorflow.keras.preprocessing.text import Tokenizer\n",
        "from tensorflow.keras.callbacks import ModelCheckpoint,EarlyStopping\n",
        "#from keras.preprocessing import sequence\n",
        "from tensorflow.keras.models import Sequential,Model\n",
        "from tensorflow.keras.layers import Dense, Dropout, Activation,concatenate,Embedding,LSTM,Conv1D,MaxPooling1D,Flatten,Input,Bidirectional,LSTM,Concatenate,TimeDistributed\n",
        "from tensorflow.keras.layers import Subtract,Lambda,Add,Conv1D,Dot\n",
        "#from tensorflow.keras.utils.vis_utils import model_to_dot\t\n",
        "from tensorflow.keras.utils import plot_model,to_categorical\n",
        "from IPython.display import SVG\n",
        "#SVG(model_to_dot(model).create(prog='dot', format='svg'))\n"
      ],
      "execution_count": null,
      "outputs": []
    },
    {
      "cell_type": "markdown",
      "metadata": {
        "nbpresent": {
          "id": "d0f23d7d-9814-415d-8a79-8822b904bd97"
        },
        "id": "GbOlsqc9y-b6"
      },
      "source": [
        "## Load SST"
      ]
    },
    {
      "cell_type": "code",
      "metadata": {
        "id": "82xxALfg2LIh"
      },
      "source": [
        "#from google.colab import files\n",
        "#files.upload()"
      ],
      "execution_count": null,
      "outputs": []
    },
    {
      "cell_type": "code",
      "metadata": {
        "id": "M3WCM8ne9WDj",
        "outputId": "d49c6287-3f6f-4022-af8f-a08e3b519be6",
        "colab": {
          "base_uri": "https://localhost:8080/",
          "height": 1000
        }
      },
      "source": [
        "!wget https://github.com/harvardnlp/sent-conv-torch/raw/master/data/stsa.fine.dev\n",
        "!wget https://raw.githubusercontent.com/harvardnlp/sent-conv-torch/master/data/stsa.fine.phrases.train\n",
        "!wget https://github.com/harvardnlp/sent-conv-torch/raw/master/data/stsa.fine.train\n",
        "!wget https://github.com/harvardnlp/sent-conv-torch/raw/master/data/stsa.fine.test"
      ],
      "execution_count": null,
      "outputs": [
        {
          "output_type": "stream",
          "text": [
            "--2020-09-21 13:47:04--  https://github.com/harvardnlp/sent-conv-torch/raw/master/data/stsa.fine.dev\n",
            "Resolving github.com (github.com)... 192.30.255.113\n",
            "Connecting to github.com (github.com)|192.30.255.113|:443... connected.\n",
            "HTTP request sent, awaiting response... 302 Found\n",
            "Location: https://raw.githubusercontent.com/harvardnlp/sent-conv-torch/master/data/stsa.fine.dev [following]\n",
            "--2020-09-21 13:47:05--  https://raw.githubusercontent.com/harvardnlp/sent-conv-torch/master/data/stsa.fine.dev\n",
            "Resolving raw.githubusercontent.com (raw.githubusercontent.com)... 151.101.0.133, 151.101.64.133, 151.101.128.133, ...\n",
            "Connecting to raw.githubusercontent.com (raw.githubusercontent.com)|151.101.0.133|:443... connected.\n",
            "HTTP request sent, awaiting response... 200 OK\n",
            "Length: 117239 (114K) [text/plain]\n",
            "Saving to: ‘stsa.fine.dev’\n",
            "\n",
            "stsa.fine.dev       100%[===================>] 114.49K  --.-KB/s    in 0.02s   \n",
            "\n",
            "2020-09-21 13:47:05 (4.88 MB/s) - ‘stsa.fine.dev’ saved [117239/117239]\n",
            "\n",
            "--2020-09-21 13:47:05--  https://raw.githubusercontent.com/harvardnlp/sent-conv-torch/master/data/stsa.fine.phrases.train\n",
            "Resolving raw.githubusercontent.com (raw.githubusercontent.com)... 151.101.0.133, 151.101.64.133, 151.101.128.133, ...\n",
            "Connecting to raw.githubusercontent.com (raw.githubusercontent.com)|151.101.0.133|:443... connected.\n",
            "HTTP request sent, awaiting response... 200 OK\n",
            "Length: 6795887 (6.5M) [text/plain]\n",
            "Saving to: ‘stsa.fine.phrases.train’\n",
            "\n",
            "stsa.fine.phrases.t 100%[===================>]   6.48M  36.1MB/s    in 0.2s    \n",
            "\n",
            "2020-09-21 13:47:05 (36.1 MB/s) - ‘stsa.fine.phrases.train’ saved [6795887/6795887]\n",
            "\n",
            "--2020-09-21 13:47:05--  https://github.com/harvardnlp/sent-conv-torch/raw/master/data/stsa.fine.train\n",
            "Resolving github.com (github.com)... 192.30.255.113\n",
            "Connecting to github.com (github.com)|192.30.255.113|:443... connected.\n",
            "HTTP request sent, awaiting response... 302 Found\n",
            "Location: https://raw.githubusercontent.com/harvardnlp/sent-conv-torch/master/data/stsa.fine.train [following]\n",
            "--2020-09-21 13:47:06--  https://raw.githubusercontent.com/harvardnlp/sent-conv-torch/master/data/stsa.fine.train\n",
            "Resolving raw.githubusercontent.com (raw.githubusercontent.com)... 151.101.0.133, 151.101.64.133, 151.101.128.133, ...\n",
            "Connecting to raw.githubusercontent.com (raw.githubusercontent.com)|151.101.0.133|:443... connected.\n",
            "HTTP request sent, awaiting response... 200 OK\n",
            "Length: 902818 (882K) [text/plain]\n",
            "Saving to: ‘stsa.fine.train’\n",
            "\n",
            "stsa.fine.train     100%[===================>] 881.66K  --.-KB/s    in 0.05s   \n",
            "\n",
            "2020-09-21 13:47:06 (18.0 MB/s) - ‘stsa.fine.train’ saved [902818/902818]\n",
            "\n",
            "--2020-09-21 13:47:06--  https://github.com/harvardnlp/sent-conv-torch/raw/master/data/stsa.fine.test\n",
            "Resolving github.com (github.com)... 192.30.255.113\n",
            "Connecting to github.com (github.com)|192.30.255.113|:443... connected.\n",
            "HTTP request sent, awaiting response... 302 Found\n",
            "Location: https://raw.githubusercontent.com/harvardnlp/sent-conv-torch/master/data/stsa.fine.test [following]\n",
            "--2020-09-21 13:47:06--  https://raw.githubusercontent.com/harvardnlp/sent-conv-torch/master/data/stsa.fine.test\n",
            "Resolving raw.githubusercontent.com (raw.githubusercontent.com)... 151.101.0.133, 151.101.64.133, 151.101.128.133, ...\n",
            "Connecting to raw.githubusercontent.com (raw.githubusercontent.com)|151.101.0.133|:443... connected.\n",
            "HTTP request sent, awaiting response... 200 OK\n",
            "Length: 233634 (228K) [text/plain]\n",
            "Saving to: ‘stsa.fine.test’\n",
            "\n",
            "stsa.fine.test      100%[===================>] 228.16K  --.-KB/s    in 0.03s   \n",
            "\n",
            "2020-09-21 13:47:07 (6.98 MB/s) - ‘stsa.fine.test’ saved [233634/233634]\n",
            "\n"
          ],
          "name": "stdout"
        }
      ]
    },
    {
      "cell_type": "code",
      "metadata": {
        "id": "Rpwgm2f3hrxC"
      },
      "source": [
        "DPATH=\"./\"\n",
        "train=open(DPATH+\"stsa.fine.train\",\"r\",encoding=\"ISO-8859-1\").readlines()\n",
        "test=open(DPATH+\"stsa.fine.test\",\"r\",encoding=\"ISO-8859-1\").readlines()\n",
        "dev=open(DPATH+\"stsa.fine.dev\",\"r\",encoding=\"ISO-8859-1\").readlines()\n",
        "phras=open(DPATH+\"stsa.fine.phrases.train\",\"r\",encoding=\"ISO-8859-1\").readlines()\n",
        "train=[[int(i[0]),re.split(r'\\d\\s',i)[1].strip()] for i in train]\n",
        "test=[[int(i[0]),re.split(r'\\d\\s',i)[1].strip()] for i in test]\n",
        "dev=[[int(i[0]),re.split(r'\\d\\s',i)[1].strip()] for i in dev]\n",
        "phras=[[int(i[0]),re.split(r'\\d\\s',i)[1].strip()] for i in phras]\n",
        "trainlabels,traindata=list(zip(*train))\n",
        "testlabels,testdata=list(zip(*test))\n",
        "devlabels,devdata=list(zip(*dev))"
      ],
      "execution_count": null,
      "outputs": []
    },
    {
      "cell_type": "code",
      "metadata": {
        "id": "mj2cYMCMOMFh"
      },
      "source": [
        "train_sentences = traindata\n",
        "test_sentences = testdata\n",
        "dev_sentences = devdata"
      ],
      "execution_count": null,
      "outputs": []
    },
    {
      "cell_type": "code",
      "metadata": {
        "id": "uFKlEnKoG8K5"
      },
      "source": [
        "train_labels = trainlabels\n",
        "test_labels = testlabels\n",
        "dev_labels = devlabels"
      ],
      "execution_count": null,
      "outputs": []
    },
    {
      "cell_type": "code",
      "metadata": {
        "id": "n8-rnGnRPsZG"
      },
      "source": [
        "#train_labels"
      ],
      "execution_count": null,
      "outputs": []
    },
    {
      "cell_type": "code",
      "metadata": {
        "id": "GOuL9zGkPSUl",
        "outputId": "6a9f288e-a08c-42e9-8f0c-412ec79ec0f9",
        "colab": {
          "base_uri": "https://localhost:8080/",
          "height": 69
        }
      },
      "source": [
        "sentence_lengths = [len(sentence.split()) for sentence in train_sentences]\n",
        "max_sentence_length = max(sentence_lengths)\n",
        "print(\"Maximum Sentence Length: {} \".format(max_sentence_length))\n",
        "train_sentence = train_sentences\n",
        "dev_sentence = dev_sentences\n",
        "print(\"Training Data Size: {} \".format(len(train_sentence)))\n",
        "print(\"Validation Data Size: {} \".format(len(dev_sentence)))"
      ],
      "execution_count": null,
      "outputs": [
        {
          "output_type": "stream",
          "text": [
            "Maximum Sentence Length: 52 \n",
            "Training Data Size: 8544 \n",
            "Validation Data Size: 1101 \n"
          ],
          "name": "stdout"
        }
      ]
    },
    {
      "cell_type": "markdown",
      "metadata": {
        "id": "Eo0fqoeORvOH"
      },
      "source": [
        "## Tokenize"
      ]
    },
    {
      "cell_type": "code",
      "metadata": {
        "id": "w2q4DGvjIDGH",
        "outputId": "c56d4d87-d407-4121-9c76-21b4404efb37",
        "colab": {
          "base_uri": "https://localhost:8080/",
          "referenced_widgets": [
            "f418709a2a7a4daca971afb3bc856b34",
            "e0e568ba2cac4b1da4ab4638d1c12f47",
            "dc38c4427dd84188bb574f4de8b3343f",
            "9025e245076e4c1e95c1b9a5df51dbe3",
            "e8f9e6c54e7249a5921465923856eb80",
            "7a55dbbedb8f44899ce6396a155480a2",
            "faa5d451f894486eb1214bb33c5b2360",
            "6d5cf732f198461d96c3d3e3aab4a6ff"
          ]
        }
      },
      "source": [
        "import tensorflow as tf\n",
        "from tensorflow.keras.models import Sequential,Model\n",
        "from tensorflow.keras.layers import Dense, Dropout, Activation,concatenate,Embedding,LSTM,Conv1D,MaxPooling1D,Flatten,Input,Bidirectional, Input\n",
        "from tensorflow.keras.layers import Subtract,Lambda,Add,Conv1D,Reshape,Dropout,Permute\n",
        "from transformers import BertTokenizer, TFBertForSequenceClassification,TFBertModel, TFDistilBertModel, DistilBertTokenizer, TFAlbertModel , AlbertTokenizer\n",
        "import tensorflow.keras.backend as K\n",
        "from tensorflow.keras.callbacks import ModelCheckpoint,EarlyStopping\n",
        "from tensorflow.keras.utils import plot_model,to_categorical\n",
        "\n",
        "bert_tokenizer = BertTokenizer.from_pretrained('bert-base-uncased', do_lower_case = True)"
      ],
      "execution_count": null,
      "outputs": [
        {
          "output_type": "display_data",
          "data": {
            "application/vnd.jupyter.widget-view+json": {
              "model_id": "f418709a2a7a4daca971afb3bc856b34",
              "version_minor": 0,
              "version_major": 2
            },
            "text/plain": [
              "HBox(children=(FloatProgress(value=0.0, description='Downloading', max=231508.0, style=ProgressStyle(descripti…"
            ]
          },
          "metadata": {
            "tags": []
          }
        },
        {
          "output_type": "stream",
          "text": [
            "\n"
          ],
          "name": "stdout"
        }
      ]
    },
    {
      "cell_type": "code",
      "metadata": {
        "id": "rSFPdEr72kL8"
      },
      "source": [
        "T=55\n",
        "\n",
        "def tokenize_sentences(sentences,T=30):\n",
        "  input_ids = []\n",
        "  attention_masks = []\n",
        "  token_type_ids = []\n",
        "  tokenized_sentences=[]\n",
        "  for sentence in sentences:\n",
        "    encoded = bert_tokenizer.encode_plus(text=sentence,\n",
        "                                        add_special_tokens=True,\n",
        "                                        max_length=T,\n",
        "                                        pad_to_max_length=True,\n",
        "                                        return_attention_masks=True,\n",
        "                                        return_token_type_ids=True)\n",
        "    tokenized_sentence = bert_tokenizer.convert_ids_to_tokens(encoded['input_ids'])\n",
        "    input_ids.append(encoded['input_ids'])\n",
        "    attention_masks.append(encoded['attention_mask'])\n",
        "    token_type_ids.append(encoded['token_type_ids'])\n",
        "    tokenized_sentences.append(tokenized_sentence)\n",
        "  #print(len(input_ids))\n",
        "  #input_ids = torch.cat(input_ids, dim=0, out=None)\n",
        "  #attention_masks = torch.cat(attention_masks, dim=0, out=None)\n",
        "  #token_type_ids = torch.cat(token_type_ids, dim=0, out=None)\n",
        "  input_ids = np.array(input_ids)\n",
        "  attention_masks = np.array(attention_masks)\n",
        "  token_type_ids = np.array(token_type_ids)\n",
        "\n",
        "  return input_ids, attention_masks, token_type_ids,tokenized_sentences"
      ],
      "execution_count": null,
      "outputs": []
    },
    {
      "cell_type": "code",
      "metadata": {
        "id": "fZDWTFrdHVbP"
      },
      "source": [
        "train_input_ids, train_attention_masks, train_token_type_ids,_ = tokenize_sentences(train_sentences,T)\n",
        "dev_input_ids, dev_attention_masks, dev_token_type_ids,_ = tokenize_sentences(dev_sentences,T)\n",
        "test_input_ids, test_attention_masks, test_token_type_ids,_ = tokenize_sentences(test_sentences,T)"
      ],
      "execution_count": null,
      "outputs": []
    },
    {
      "cell_type": "code",
      "metadata": {
        "id": "tL4H_arc4HVE",
        "outputId": "a1098646-2ba4-49ba-eb43-efba467e2b76",
        "colab": {
          "base_uri": "https://localhost:8080/"
        }
      },
      "source": [
        "train_attention_masks[0]"
      ],
      "execution_count": null,
      "outputs": [
        {
          "output_type": "execute_result",
          "data": {
            "text/plain": [
              "array([1, 1, 1, 1, 1, 1, 1, 1, 1, 1, 1, 1, 1, 1, 1, 1, 1, 1, 1, 1, 1, 0,\n",
              "       0, 0, 0, 0, 0, 0, 0, 0, 0, 0, 0, 0, 0, 0, 0, 0, 0, 0, 0, 0, 0, 0,\n",
              "       0, 0, 0, 0, 0, 0, 0, 0, 0, 0, 0])"
            ]
          },
          "metadata": {
            "tags": []
          },
          "execution_count": 15
        }
      ]
    },
    {
      "cell_type": "code",
      "metadata": {
        "id": "IHCGRjfZ4HHp",
        "outputId": "3f5102d8-a511-4e89-e78b-adff00eb9055",
        "colab": {
          "base_uri": "https://localhost:8080/"
        }
      },
      "source": [
        "train_token_type_ids[0]"
      ],
      "execution_count": null,
      "outputs": [
        {
          "output_type": "execute_result",
          "data": {
            "text/plain": [
              "array([0, 0, 0, 0, 0, 0, 0, 0, 0, 0, 0, 0, 0, 0, 0, 0, 0, 0, 0, 0, 0, 0,\n",
              "       0, 0, 0, 0, 0, 0, 0, 0, 0, 0, 0, 0, 0, 0, 0, 0, 0, 0, 0, 0, 0, 0,\n",
              "       0, 0, 0, 0, 0, 0, 0, 0, 0, 0, 0])"
            ]
          },
          "metadata": {
            "tags": []
          },
          "execution_count": 16
        }
      ]
    },
    {
      "cell_type": "markdown",
      "metadata": {
        "id": "81p7R20CCZja"
      },
      "source": [
        ""
      ]
    },
    {
      "cell_type": "code",
      "metadata": {
        "id": "KrH_TcDAHs-L",
        "outputId": "fb59e850-9270-4887-ccd4-763ffca8482b",
        "colab": {
          "base_uri": "https://localhost:8080/"
        }
      },
      "source": [
        "print(\"First Sentence: \", train_sentence[0],train_input_ids[0],train_attention_masks[0],train_token_type_ids[0])"
      ],
      "execution_count": null,
      "outputs": [
        {
          "output_type": "stream",
          "text": [
            "First Sentence:  a stirring , funny and finally transporting re-imagining of beauty and the beast and 1930s horror films [  101  1037 18385  1010  6057  1998  2633 18276  2128  1011 16603  1997\n",
            "  5053  1998  1996  6841  1998  5687  5469  3152   102     0     0     0\n",
            "     0     0     0     0     0     0     0     0     0     0     0     0\n",
            "     0     0     0     0     0     0     0     0     0     0     0     0\n",
            "     0     0     0     0     0     0     0] [1 1 1 1 1 1 1 1 1 1 1 1 1 1 1 1 1 1 1 1 1 0 0 0 0 0 0 0 0 0 0 0 0 0 0 0 0\n",
            " 0 0 0 0 0 0 0 0 0 0 0 0 0 0 0 0 0 0] [0 0 0 0 0 0 0 0 0 0 0 0 0 0 0 0 0 0 0 0 0 0 0 0 0 0 0 0 0 0 0 0 0 0 0 0 0\n",
            " 0 0 0 0 0 0 0 0 0 0 0 0 0 0 0 0 0 0]\n"
          ],
          "name": "stdout"
        }
      ]
    },
    {
      "cell_type": "markdown",
      "metadata": {
        "id": "_NkH3bhcRxgP"
      },
      "source": [
        "## BERT Model"
      ]
    },
    {
      "cell_type": "code",
      "metadata": {
        "id": "J6lFGWHzoxKf"
      },
      "source": [
        "def bert_model(T):\n",
        "  model_base = TFBertModel.from_pretrained('bert-base-uncased',output_hidden_states=True,output_attentions=True)\n",
        "  In=Input(shape=(T,),name=\"Input_Sentence\",dtype=np.int64)\n",
        "  At=Input(shape=(T,),name=\"Attention_Mask\",dtype=np.int64)\n",
        "  To=Input(shape=(T,),name=\"Token_Type\",dtype=np.int64)\n",
        "  ############################\n",
        "  o1,o2,o3,o4=model_base([In,At,To])\n",
        "  ##########################\n",
        "  #o = K.stack(o3,axis=-1)\n",
        "  #o=tf.convert_to_tensor(o)\n",
        "  #print(o.shape)\n",
        "  #o = Permute((1,3,2))(o)\n",
        "  #o=o[:,0,:,:]\n",
        "  #o=o[:,1:,:]# since first is embedding\n",
        "  #o=LSTM(64,return_sequences=False)(o)\n",
        "  o=Dropout(0.1)(o1[:,0,:])\n",
        "  o=Dense(5,activation=\"softmax\")(o)##################### MENTION number of classes\n",
        "  model_o=Model(inputs=[In,At,To],outputs=[o])\n",
        "  attentionmodel=Model(inputs=[In,At,To],outputs=[o4])\n",
        "  return model_o,attentionmodel"
      ],
      "execution_count": null,
      "outputs": []
    },
    {
      "cell_type": "code",
      "metadata": {
        "id": "BgTsRMyCoxEq",
        "outputId": "47460cff-88ab-436d-969b-c6f590519b6f",
        "colab": {
          "base_uri": "https://localhost:8080/",
          "referenced_widgets": [
            "70811f967640474db1c8a7129517cb34",
            "0efd0c463979474a9cb6d7250f029736",
            "364fe87b49a74323a93bed6b239c286c",
            "910c438233b042898aa1de8dee3536e4",
            "738b6448175845c0956a551fdc18058f",
            "bafb09edf75a48ea92757371915d5886",
            "1beb6105d2a1472dbc63ddcff7cf8170",
            "34e03b6256cc440993577af3ca96bd70",
            "10c76bb87ebc4e14955e8678fc58559c",
            "6eab45ec18814729af3e48df1408a35c",
            "5ae88bc3b6fb4092bbbc9797aa099518",
            "2e4ac1bfd5cf4b8f9c87bd1ad7a71714",
            "da3d5322a87347d5a768756f4c28f516",
            "2a72088c8b24446999fd8d57f7401f0e",
            "3c1a07b609c2465eac9c9b7a67199401",
            "f51c0539a4d24eb182a681f01deed7fe"
          ]
        }
      },
      "source": [
        "m1,m2=bert_model(T)\n",
        "m1.summary()"
      ],
      "execution_count": null,
      "outputs": [
        {
          "output_type": "display_data",
          "data": {
            "application/vnd.jupyter.widget-view+json": {
              "model_id": "70811f967640474db1c8a7129517cb34",
              "version_minor": 0,
              "version_major": 2
            },
            "text/plain": [
              "HBox(children=(FloatProgress(value=0.0, description='Downloading', max=433.0, style=ProgressStyle(description_…"
            ]
          },
          "metadata": {
            "tags": []
          }
        },
        {
          "output_type": "stream",
          "text": [
            "\n"
          ],
          "name": "stdout"
        },
        {
          "output_type": "display_data",
          "data": {
            "application/vnd.jupyter.widget-view+json": {
              "model_id": "10c76bb87ebc4e14955e8678fc58559c",
              "version_minor": 0,
              "version_major": 2
            },
            "text/plain": [
              "HBox(children=(FloatProgress(value=0.0, description='Downloading', max=536063208.0, style=ProgressStyle(descri…"
            ]
          },
          "metadata": {
            "tags": []
          }
        },
        {
          "output_type": "stream",
          "text": [
            "\n",
            "Model: \"functional_1\"\n",
            "__________________________________________________________________________________________________\n",
            "Layer (type)                    Output Shape         Param #     Connected to                     \n",
            "==================================================================================================\n",
            "Input_Sentence (InputLayer)     [(None, 55)]         0                                            \n",
            "__________________________________________________________________________________________________\n",
            "Attention_Mask (InputLayer)     [(None, 55)]         0                                            \n",
            "__________________________________________________________________________________________________\n",
            "Token_Type (InputLayer)         [(None, 55)]         0                                            \n",
            "__________________________________________________________________________________________________\n",
            "tf_bert_model (TFBertModel)     ((None, 55, 768), (N 109482240   Input_Sentence[0][0]             \n",
            "                                                                 Attention_Mask[0][0]             \n",
            "                                                                 Token_Type[0][0]                 \n",
            "__________________________________________________________________________________________________\n",
            "tf_op_layer_strided_slice (Tens [(None, 768)]        0           tf_bert_model[0][14]             \n",
            "__________________________________________________________________________________________________\n",
            "dropout_37 (Dropout)            (None, 768)          0           tf_op_layer_strided_slice[0][0]  \n",
            "__________________________________________________________________________________________________\n",
            "dense (Dense)                   (None, 5)            3845        dropout_37[0][0]                 \n",
            "==================================================================================================\n",
            "Total params: 109,486,085\n",
            "Trainable params: 109,486,085\n",
            "Non-trainable params: 0\n",
            "__________________________________________________________________________________________________\n"
          ],
          "name": "stdout"
        }
      ]
    },
    {
      "cell_type": "code",
      "metadata": {
        "id": "MvDtNNvg6OcN"
      },
      "source": [
        "#train_input_ids, train_attention_masks, train_token_type_ids,train_tokenized_sentences = tokenize_sentences(train_sentence, train_aspect,T=T)\n",
        "#dev_input_ids, dev_attention_masks, dev_token_type_ids,dev_tokenized_sentences = tokenize_sentences(dev_sentence, dev_aspect,T=T)\n",
        "#test_input_ids, test_attention_masks, test_token_type_ids,test_tokenized_sentences = tokenize_sentences(test_sentence, test_aspect,T=T)"
      ],
      "execution_count": null,
      "outputs": []
    },
    {
      "cell_type": "markdown",
      "metadata": {
        "id": "21_fUt2QR4wn"
      },
      "source": [
        "## Training"
      ]
    },
    {
      "cell_type": "code",
      "metadata": {
        "id": "nLxp789_7I9Q"
      },
      "source": [
        "train_labels_categorical = to_categorical(train_labels)\n",
        "dev_labels_categorical  = to_categorical(dev_labels)\n",
        "test_labels_categorical  = to_categorical(test_labels)"
      ],
      "execution_count": null,
      "outputs": []
    },
    {
      "cell_type": "code",
      "metadata": {
        "id": "yVhvu7orOjqh"
      },
      "source": [
        "e=10\n",
        "lr=5e-5 # 1e-5, 2e-5, 5e-5\n",
        "custom_adam = tf.keras.optimizers.Adam(learning_rate=lr,epsilon=1e-8,decay=0.01)"
      ],
      "execution_count": null,
      "outputs": []
    },
    {
      "cell_type": "code",
      "metadata": {
        "id": "keqL2OEvLb2Y"
      },
      "source": [
        "\"\"\"\n",
        "def fit_model(XX,yy,model,verbose=0,epochs=e):\n",
        "  model.compile(loss=\"categorical_crossentropy\",metrics=[\"acc\"],optimizer=custom_adam)\n",
        "  es = EarlyStopping(monitor='val_loss', mode='min', verbose=verbose, patience=5,restore_best_weights=True)\n",
        "  history=model.fit(x=XX,y=yy,epochs=epochs,batch_size=8,validation_data=([dev_input_ids, dev_attention_masks, dev_token_type_ids],dev_labels_categorical),callbacks=[es],verbose=verbose)\n",
        "  return model,history\n",
        "\"\"\"\n",
        "def fit_model(XX,yy,model,verbose=0,epochs=e):\n",
        "  tf.random.set_seed(seed)\n",
        "  np.random.seed(seed)\n",
        "  random.seed(seed)\n",
        "  model.compile(loss=\"categorical_crossentropy\",metrics=[\"acc\"],optimizer=custom_adam)\n",
        "  es = EarlyStopping(monitor='val_loss', mode='min', verbose=verbose, patience=5,restore_best_weights=True)\n",
        "  history=model.fit(x=XX,y=yy,epochs=epochs,batch_size=8,validation_data=([dev_input_ids, dev_attention_masks, dev_token_type_ids],dev_labels_categorical),callbacks=[es],verbose=verbose)\n",
        "  return model,history"
      ],
      "execution_count": null,
      "outputs": []
    },
    {
      "cell_type": "code",
      "metadata": {
        "id": "NANevXzIeOfq",
        "outputId": "2916157a-4193-40fd-899a-01ae15e60a84",
        "colab": {
          "base_uri": "https://localhost:8080/",
          "height": 34
        }
      },
      "source": [
        "print(train_input_ids.shape,train_labels_categorical.shape,test_input_ids.shape, test_labels_categorical.shape,dev_input_ids.shape, dev_labels_categorical.shape)"
      ],
      "execution_count": null,
      "outputs": [
        {
          "output_type": "stream",
          "text": [
            "(8544, 55) (8544, 5) (2210, 55) (2210, 5) (1101, 55) (1101, 5)\n"
          ],
          "name": "stdout"
        }
      ]
    },
    {
      "cell_type": "code",
      "metadata": {
        "id": "1M77Dgne20wJ"
      },
      "source": [
        "#X_train=X_train[:1000]\n",
        "#Xs_train=Xs_train[:1000]\n",
        "#y_train=y_train[:1000]\n",
        "#X_test=X_test[:500]\n",
        "#y_test=y_test[:500]"
      ],
      "execution_count": null,
      "outputs": []
    },
    {
      "cell_type": "code",
      "metadata": {
        "id": "qgCiLgSSo4L0"
      },
      "source": [
        "def indexer(test_list,index_list,nparr=True):\n",
        "  if nparr==True:\n",
        "    return np.array([test_list[i] for i in index_list])\n",
        "  else:\n",
        "    return [test_list[i] for i in index_list]"
      ],
      "execution_count": null,
      "outputs": []
    },
    {
      "cell_type": "code",
      "metadata": {
        "id": "JrDPUwt4I4TT"
      },
      "source": [
        "# till here skip"
      ],
      "execution_count": null,
      "outputs": []
    },
    {
      "cell_type": "markdown",
      "metadata": {
        "id": "Vl-gSZSHy-cm"
      },
      "source": [
        "## Non Curriculum"
      ]
    },
    {
      "cell_type": "code",
      "metadata": {
        "id": "hKYxhKyqD3KR",
        "outputId": "7fa8cbc5-41c9-4a85-d4b8-f119177a817c",
        "colab": {
          "base_uri": "https://localhost:8080/",
          "height": 612
        }
      },
      "source": [
        "seed=0\n",
        "ncc=[]\n",
        "modelspairs=[]\n",
        "for i in np.arange(1):\n",
        "  tf.random.set_seed(seed)\n",
        "  random.seed(seed)\n",
        "  np.random.seed(seed)\n",
        "  model_o,atten_model = bert_model(T)\n",
        "  model_o,history = fit_model([train_input_ids, train_attention_masks, train_token_type_ids],train_labels_categorical,model_o,verbose=1,epochs=25)\n",
        "  ncc.append(model_o.evaluate([test_input_ids, test_attention_masks, test_token_type_ids],test_labels_categorical)[1])\n",
        "  print(ncc)\n",
        "  plt.plot(history.history[\"acc\"])\n",
        "  plt.plot(history.history[\"val_acc\"])\n",
        "  plt.show()\n",
        "  modelspairs.append([model_o,atten_model])\n",
        "NC=np.mean(ncc)"
      ],
      "execution_count": null,
      "outputs": [
        {
          "output_type": "stream",
          "text": [
            "Epoch 1/25\n",
            "WARNING:tensorflow:Gradients do not exist for variables ['tf_bert_model_1/bert/pooler/dense/kernel:0', 'tf_bert_model_1/bert/pooler/dense/bias:0'] when minimizing the loss.\n",
            "WARNING:tensorflow:Gradients do not exist for variables ['tf_bert_model_1/bert/pooler/dense/kernel:0', 'tf_bert_model_1/bert/pooler/dense/bias:0'] when minimizing the loss.\n",
            "WARNING:tensorflow:Gradients do not exist for variables ['tf_bert_model_1/bert/pooler/dense/kernel:0', 'tf_bert_model_1/bert/pooler/dense/bias:0'] when minimizing the loss.\n",
            "WARNING:tensorflow:Gradients do not exist for variables ['tf_bert_model_1/bert/pooler/dense/kernel:0', 'tf_bert_model_1/bert/pooler/dense/bias:0'] when minimizing the loss.\n",
            "1068/1068 [==============================] - 81s 76ms/step - loss: 1.2041 - acc: 0.4710 - val_loss: 1.1142 - val_acc: 0.5095\n",
            "Epoch 2/25\n",
            "1068/1068 [==============================] - 78s 73ms/step - loss: 0.9210 - acc: 0.6037 - val_loss: 1.1404 - val_acc: 0.5041\n",
            "Epoch 3/25\n",
            "1068/1068 [==============================] - 78s 73ms/step - loss: 0.8124 - acc: 0.6564 - val_loss: 1.1874 - val_acc: 0.5032\n",
            "Epoch 4/25\n",
            "1068/1068 [==============================] - 78s 73ms/step - loss: 0.7487 - acc: 0.6840 - val_loss: 1.2441 - val_acc: 0.5005\n",
            "Epoch 5/25\n",
            "1068/1068 [==============================] - 78s 73ms/step - loss: 0.6998 - acc: 0.7162 - val_loss: 1.2884 - val_acc: 0.5059\n",
            "Epoch 6/25\n",
            "1068/1068 [==============================] - ETA: 0s - loss: 0.6629 - acc: 0.7308Restoring model weights from the end of the best epoch.\n",
            "1068/1068 [==============================] - 78s 73ms/step - loss: 0.6629 - acc: 0.7308 - val_loss: 1.3179 - val_acc: 0.4959\n",
            "Epoch 00006: early stopping\n",
            "70/70 [==============================] - 5s 77ms/step - loss: 1.0655 - acc: 0.5262\n",
            "[0.5262443423271179]\n"
          ],
          "name": "stdout"
        },
        {
          "output_type": "display_data",
          "data": {
            "image/png": "[encoded data removed]",
            "text/plain": [
              "<Figure size 432x288 with 1 Axes>"
            ]
          },
          "metadata": {
            "tags": [],
            "needs_background": "light"
          }
        }
      ]
    },
    {
      "cell_type": "markdown",
      "metadata": {
        "id": "AFXtHTjyPjn5"
      },
      "source": [
        ""
      ]
    },
    {
      "cell_type": "code",
      "metadata": {
        "id": "BumIQ29XvXcd"
      },
      "source": [
        "NC=np.mean(ncc)"
      ],
      "execution_count": null,
      "outputs": []
    },
    {
      "cell_type": "code",
      "metadata": {
        "id": "lWPoJ8spFwut",
        "outputId": "ffaa850a-6ebd-4121-a6bd-e46d82b85708",
        "colab": {
          "base_uri": "https://localhost:8080/",
          "height": 34
        }
      },
      "source": [
        "ncc, NC "
      ],
      "execution_count": null,
      "outputs": [
        {
          "output_type": "execute_result",
          "data": {
            "text/plain": [
              "([0.5262443423271179], 0.5262443423271179)"
            ]
          },
          "metadata": {
            "tags": []
          },
          "execution_count": 30
        }
      ]
    },
    {
      "cell_type": "markdown",
      "metadata": {
        "id": "vGxxN7pvT5_Z"
      },
      "source": [
        "## Cross Review Method"
      ]
    },
    {
      "cell_type": "code",
      "metadata": {
        "id": "lQzCQq0QqtLh",
        "outputId": "6a0ee23a-0f25-4842-dce4-3d3dac224fd7",
        "colab": {
          "base_uri": "https://localhost:8080/",
          "height": 34
        }
      },
      "source": [
        "print(train_input_ids.shape,train_labels_categorical.shape,test_input_ids.shape, test_labels_categorical.shape,dev_input_ids.shape, dev_labels_categorical.shape)"
      ],
      "execution_count": null,
      "outputs": [
        {
          "output_type": "stream",
          "text": [
            "(8544, 55) (8544, 5) (2210, 55) (2210, 5) (1101, 55) (1101, 5)\n"
          ],
          "name": "stdout"
        }
      ]
    },
    {
      "cell_type": "code",
      "metadata": {
        "id": "xFvjjXnIqtIu"
      },
      "source": [
        "indicies = np.arange(len(train_input_ids))"
      ],
      "execution_count": null,
      "outputs": []
    },
    {
      "cell_type": "code",
      "metadata": {
        "id": "2lGzy_OLuxzU",
        "outputId": "1d050fde-09df-4b4e-a956-3e463ede9fbf",
        "colab": {
          "base_uri": "https://localhost:8080/",
          "height": 34
        }
      },
      "source": [
        "(train_input_ids).shape[0]"
      ],
      "execution_count": null,
      "outputs": [
        {
          "output_type": "execute_result",
          "data": {
            "text/plain": [
              "8544"
            ]
          },
          "metadata": {
            "tags": []
          },
          "execution_count": 33
        }
      ]
    },
    {
      "cell_type": "code",
      "metadata": {
        "id": "M9V8qmseqtF6"
      },
      "source": [
        "n=5\n",
        "temp = list(np.arange(train_input_ids.shape[0]))\n",
        "np.random.seed(1)\n",
        "np.random.shuffle(temp)\n",
        "#random_indicies = random.shuffle(list(np.arange(train_input_ids.shape[0])))# Divide into n\n",
        "n_train_sets = np.array_split(temp,n)"
      ],
      "execution_count": null,
      "outputs": []
    },
    {
      "cell_type": "code",
      "metadata": {
        "id": "GhR-BVmfqtDe",
        "outputId": "885cddd7-1efe-4b62-ac27-5538b65e5717",
        "colab": {
          "base_uri": "https://localhost:8080/",
          "height": 1000
        }
      },
      "source": [
        "%%time\n",
        "seed=0\n",
        "models_list=[]\n",
        "for i,nth_train_set in enumerate(n_train_sets):\n",
        "  print(\"Nth Set Training\",len(nth_train_set),i)\n",
        "  tf.random.set_seed(seed)\n",
        "  random.seed(seed)\n",
        "  np.random.seed(seed)\n",
        "  a = indexer(train_input_ids,nth_train_set)\n",
        "  b = indexer(train_attention_masks,nth_train_set)\n",
        "  c = indexer(train_token_type_ids,nth_train_set)\n",
        "  y = indexer(train_labels_categorical,nth_train_set)\n",
        "  print(\"datapoints to be searched from this iteration and trained on\",len(a),\"datapoints\")\n",
        "  model1,atten_model = bert_model(T)\n",
        "  model1,history = fit_model([np.array(a),np.array(b),np.array(c)],np.array(y),model1,verbose=1,epochs=30)\n",
        "  models_list.append(model1)\n",
        "  ###\n",
        "  plt.plot(history.history[\"acc\"])\n",
        "  plt.plot(history.history[\"val_acc\"])\n",
        "  plt.show()"
      ],
      "execution_count": null,
      "outputs": [
        {
          "output_type": "stream",
          "text": [
            "Nth Set Training 1709 0\n",
            "datapoints to be searched from this iteration and trained on 1709 datapoints\n",
            "Epoch 1/30\n",
            "WARNING:tensorflow:Gradients do not exist for variables ['tf_bert_model_2/bert/pooler/dense/kernel:0', 'tf_bert_model_2/bert/pooler/dense/bias:0'] when minimizing the loss.\n",
            "WARNING:tensorflow:Gradients do not exist for variables ['tf_bert_model_2/bert/pooler/dense/kernel:0', 'tf_bert_model_2/bert/pooler/dense/bias:0'] when minimizing the loss.\n",
            "WARNING:tensorflow:Gradients do not exist for variables ['tf_bert_model_2/bert/pooler/dense/kernel:0', 'tf_bert_model_2/bert/pooler/dense/bias:0'] when minimizing the loss.\n",
            "WARNING:tensorflow:Gradients do not exist for variables ['tf_bert_model_2/bert/pooler/dense/kernel:0', 'tf_bert_model_2/bert/pooler/dense/bias:0'] when minimizing the loss.\n",
            "214/214 [==============================] - 25s 115ms/step - loss: 1.6275 - acc: 0.2879 - val_loss: 1.5102 - val_acc: 0.3506\n",
            "Epoch 2/30\n",
            "214/214 [==============================] - 22s 105ms/step - loss: 1.4832 - acc: 0.3581 - val_loss: 1.4462 - val_acc: 0.3978\n",
            "Epoch 3/30\n",
            "214/214 [==============================] - 22s 104ms/step - loss: 1.3893 - acc: 0.4266 - val_loss: 1.3921 - val_acc: 0.4051\n",
            "Epoch 4/30\n",
            "214/214 [==============================] - 22s 104ms/step - loss: 1.2880 - acc: 0.4611 - val_loss: 1.3360 - val_acc: 0.4151\n",
            "Epoch 5/30\n",
            "214/214 [==============================] - 23s 106ms/step - loss: 1.2329 - acc: 0.4734 - val_loss: 1.3012 - val_acc: 0.4223\n",
            "Epoch 6/30\n",
            "214/214 [==============================] - 23s 105ms/step - loss: 1.1879 - acc: 0.5003 - val_loss: 1.2840 - val_acc: 0.4242\n",
            "Epoch 7/30\n",
            "214/214 [==============================] - 22s 104ms/step - loss: 1.1252 - acc: 0.5377 - val_loss: 1.2821 - val_acc: 0.4269\n",
            "Epoch 8/30\n",
            "214/214 [==============================] - 22s 103ms/step - loss: 1.0856 - acc: 0.5372 - val_loss: 1.2901 - val_acc: 0.4287\n",
            "Epoch 9/30\n",
            "214/214 [==============================] - 22s 104ms/step - loss: 1.0325 - acc: 0.5805 - val_loss: 1.2814 - val_acc: 0.4351\n",
            "Epoch 10/30\n",
            "214/214 [==============================] - 22s 104ms/step - loss: 1.0195 - acc: 0.5711 - val_loss: 1.2703 - val_acc: 0.4369\n",
            "Epoch 11/30\n",
            "214/214 [==============================] - 22s 103ms/step - loss: 0.9967 - acc: 0.5892 - val_loss: 1.2857 - val_acc: 0.4342\n",
            "Epoch 12/30\n",
            "214/214 [==============================] - 22s 102ms/step - loss: 0.9705 - acc: 0.6068 - val_loss: 1.2807 - val_acc: 0.4260\n",
            "Epoch 13/30\n",
            "214/214 [==============================] - 22s 103ms/step - loss: 0.9497 - acc: 0.6050 - val_loss: 1.2833 - val_acc: 0.4351\n",
            "Epoch 14/30\n",
            "214/214 [==============================] - 22s 103ms/step - loss: 0.9173 - acc: 0.6296 - val_loss: 1.2945 - val_acc: 0.4305\n",
            "Epoch 15/30\n",
            "214/214 [==============================] - ETA: 0s - loss: 0.8863 - acc: 0.6425Restoring model weights from the end of the best epoch.\n",
            "214/214 [==============================] - 22s 104ms/step - loss: 0.8863 - acc: 0.6425 - val_loss: 1.2959 - val_acc: 0.4287\n",
            "Epoch 00015: early stopping\n"
          ],
          "name": "stdout"
        },
        {
          "output_type": "display_data",
          "data": {
            "image/png": "[encoded data removed]",
            "text/plain": [
              "<Figure size 432x288 with 1 Axes>"
            ]
          },
          "metadata": {
            "tags": [],
            "needs_background": "light"
          }
        },
        {
          "output_type": "stream",
          "text": [
            "Nth Set Training 1709 1\n",
            "datapoints to be searched from this iteration and trained on 1709 datapoints\n",
            "Epoch 1/30\n",
            "WARNING:tensorflow:Gradients do not exist for variables ['tf_bert_model_3/bert/pooler/dense/kernel:0', 'tf_bert_model_3/bert/pooler/dense/bias:0'] when minimizing the loss.\n",
            "WARNING:tensorflow:Gradients do not exist for variables ['tf_bert_model_3/bert/pooler/dense/kernel:0', 'tf_bert_model_3/bert/pooler/dense/bias:0'] when minimizing the loss.\n",
            "WARNING:tensorflow:Gradients do not exist for variables ['tf_bert_model_3/bert/pooler/dense/kernel:0', 'tf_bert_model_3/bert/pooler/dense/bias:0'] when minimizing the loss.\n",
            "WARNING:tensorflow:Gradients do not exist for variables ['tf_bert_model_3/bert/pooler/dense/kernel:0', 'tf_bert_model_3/bert/pooler/dense/bias:0'] when minimizing the loss.\n",
            "214/214 [==============================] - 25s 115ms/step - loss: 1.6718 - acc: 0.2686 - val_loss: 1.5436 - val_acc: 0.3215\n",
            "Epoch 2/30\n",
            "214/214 [==============================] - 22s 104ms/step - loss: 1.5399 - acc: 0.3388 - val_loss: 1.4985 - val_acc: 0.3488\n",
            "Epoch 3/30\n",
            "214/214 [==============================] - 22s 105ms/step - loss: 1.4784 - acc: 0.3640 - val_loss: 1.4601 - val_acc: 0.3678\n",
            "Epoch 4/30\n",
            "214/214 [==============================] - 23s 105ms/step - loss: 1.4289 - acc: 0.3967 - val_loss: 1.4214 - val_acc: 0.3896\n",
            "Epoch 5/30\n",
            "214/214 [==============================] - 22s 104ms/step - loss: 1.3676 - acc: 0.4365 - val_loss: 1.3859 - val_acc: 0.3915\n",
            "Epoch 6/30\n",
            "214/214 [==============================] - 22s 104ms/step - loss: 1.3261 - acc: 0.4342 - val_loss: 1.3569 - val_acc: 0.4078\n",
            "Epoch 7/30\n",
            "214/214 [==============================] - 22s 104ms/step - loss: 1.2707 - acc: 0.4710 - val_loss: 1.3281 - val_acc: 0.4133\n",
            "Epoch 8/30\n",
            "214/214 [==============================] - 22s 104ms/step - loss: 1.2295 - acc: 0.4845 - val_loss: 1.3018 - val_acc: 0.4196\n",
            "Epoch 9/30\n",
            "214/214 [==============================] - 22s 104ms/step - loss: 1.1927 - acc: 0.4956 - val_loss: 1.2882 - val_acc: 0.4223\n",
            "Epoch 10/30\n",
            "214/214 [==============================] - 22s 104ms/step - loss: 1.1502 - acc: 0.5108 - val_loss: 1.2764 - val_acc: 0.4196\n",
            "Epoch 11/30\n",
            "214/214 [==============================] - 22s 104ms/step - loss: 1.1210 - acc: 0.5143 - val_loss: 1.2674 - val_acc: 0.4332\n",
            "Epoch 12/30\n",
            "214/214 [==============================] - 22s 102ms/step - loss: 1.0960 - acc: 0.5319 - val_loss: 1.2676 - val_acc: 0.4205\n",
            "Epoch 13/30\n",
            "214/214 [==============================] - 22s 104ms/step - loss: 1.0837 - acc: 0.5325 - val_loss: 1.2565 - val_acc: 0.4305\n",
            "Epoch 14/30\n",
            "214/214 [==============================] - 22s 103ms/step - loss: 1.0461 - acc: 0.5693 - val_loss: 1.2597 - val_acc: 0.4342\n",
            "Epoch 15/30\n",
            "214/214 [==============================] - 22s 103ms/step - loss: 1.0263 - acc: 0.5676 - val_loss: 1.2598 - val_acc: 0.4287\n",
            "Epoch 16/30\n",
            "214/214 [==============================] - 22s 104ms/step - loss: 1.0193 - acc: 0.5723 - val_loss: 1.2548 - val_acc: 0.4314\n",
            "Epoch 17/30\n",
            "214/214 [==============================] - 22s 104ms/step - loss: 0.9727 - acc: 0.5840 - val_loss: 1.2598 - val_acc: 0.4323\n",
            "Epoch 18/30\n",
            "214/214 [==============================] - 22s 105ms/step - loss: 0.9540 - acc: 0.6109 - val_loss: 1.2530 - val_acc: 0.4396\n",
            "Epoch 19/30\n",
            "214/214 [==============================] - 22s 102ms/step - loss: 0.9503 - acc: 0.6027 - val_loss: 1.2599 - val_acc: 0.4378\n",
            "Epoch 20/30\n",
            "214/214 [==============================] - 22s 103ms/step - loss: 0.9415 - acc: 0.6074 - val_loss: 1.2611 - val_acc: 0.4369\n",
            "Epoch 21/30\n",
            "214/214 [==============================] - 22s 102ms/step - loss: 0.9321 - acc: 0.6109 - val_loss: 1.2625 - val_acc: 0.4405\n",
            "Epoch 22/30\n",
            "214/214 [==============================] - 22s 103ms/step - loss: 0.9001 - acc: 0.6238 - val_loss: 1.2665 - val_acc: 0.4369\n",
            "Epoch 23/30\n",
            "214/214 [==============================] - ETA: 0s - loss: 0.8839 - acc: 0.6249Restoring model weights from the end of the best epoch.\n",
            "214/214 [==============================] - 22s 103ms/step - loss: 0.8839 - acc: 0.6249 - val_loss: 1.2683 - val_acc: 0.4450\n",
            "Epoch 00023: early stopping\n"
          ],
          "name": "stdout"
        },
        {
          "output_type": "display_data",
          "data": {
            "image/png": "[encoded data removed]",
            "text/plain": [
              "<Figure size 432x288 with 1 Axes>"
            ]
          },
          "metadata": {
            "tags": [],
            "needs_background": "light"
          }
        },
        {
          "output_type": "stream",
          "text": [
            "Nth Set Training 1709 2\n",
            "datapoints to be searched from this iteration and trained on 1709 datapoints\n",
            "Epoch 1/30\n",
            "WARNING:tensorflow:Gradients do not exist for variables ['tf_bert_model_4/bert/pooler/dense/kernel:0', 'tf_bert_model_4/bert/pooler/dense/bias:0'] when minimizing the loss.\n",
            "WARNING:tensorflow:Gradients do not exist for variables ['tf_bert_model_4/bert/pooler/dense/kernel:0', 'tf_bert_model_4/bert/pooler/dense/bias:0'] when minimizing the loss.\n",
            "WARNING:tensorflow:Gradients do not exist for variables ['tf_bert_model_4/bert/pooler/dense/kernel:0', 'tf_bert_model_4/bert/pooler/dense/bias:0'] when minimizing the loss.\n",
            "WARNING:tensorflow:Gradients do not exist for variables ['tf_bert_model_4/bert/pooler/dense/kernel:0', 'tf_bert_model_4/bert/pooler/dense/bias:0'] when minimizing the loss.\n",
            "214/214 [==============================] - 24s 114ms/step - loss: 1.7159 - acc: 0.2341 - val_loss: 1.5730 - val_acc: 0.3034\n",
            "Epoch 2/30\n",
            "214/214 [==============================] - 22s 104ms/step - loss: 1.5842 - acc: 0.2885 - val_loss: 1.5482 - val_acc: 0.3243\n",
            "Epoch 3/30\n",
            "214/214 [==============================] - 22s 104ms/step - loss: 1.5683 - acc: 0.3002 - val_loss: 1.5215 - val_acc: 0.3397\n",
            "Epoch 4/30\n",
            "214/214 [==============================] - 22s 104ms/step - loss: 1.5227 - acc: 0.3329 - val_loss: 1.5041 - val_acc: 0.3479\n",
            "Epoch 5/30\n",
            "214/214 [==============================] - 22s 104ms/step - loss: 1.4902 - acc: 0.3406 - val_loss: 1.4832 - val_acc: 0.3542\n",
            "Epoch 6/30\n",
            "214/214 [==============================] - 22s 104ms/step - loss: 1.4673 - acc: 0.3634 - val_loss: 1.4630 - val_acc: 0.3742\n",
            "Epoch 7/30\n",
            "214/214 [==============================] - 22s 104ms/step - loss: 1.4450 - acc: 0.3721 - val_loss: 1.4431 - val_acc: 0.3806\n",
            "Epoch 8/30\n",
            "214/214 [==============================] - 22s 105ms/step - loss: 1.4141 - acc: 0.3745 - val_loss: 1.4240 - val_acc: 0.3806\n",
            "Epoch 9/30\n",
            "214/214 [==============================] - 22s 104ms/step - loss: 1.3803 - acc: 0.4102 - val_loss: 1.4080 - val_acc: 0.3860\n",
            "Epoch 10/30\n",
            "214/214 [==============================] - 22s 104ms/step - loss: 1.3504 - acc: 0.4447 - val_loss: 1.3847 - val_acc: 0.3960\n",
            "Epoch 11/30\n",
            "214/214 [==============================] - 22s 104ms/step - loss: 1.3109 - acc: 0.4558 - val_loss: 1.3659 - val_acc: 0.4042\n",
            "Epoch 12/30\n",
            "214/214 [==============================] - 22s 104ms/step - loss: 1.2820 - acc: 0.4640 - val_loss: 1.3529 - val_acc: 0.4005\n",
            "Epoch 13/30\n",
            "214/214 [==============================] - 22s 104ms/step - loss: 1.2540 - acc: 0.4880 - val_loss: 1.3434 - val_acc: 0.3969\n",
            "Epoch 14/30\n",
            "214/214 [==============================] - 22s 104ms/step - loss: 1.2366 - acc: 0.4816 - val_loss: 1.3223 - val_acc: 0.3960\n",
            "Epoch 15/30\n",
            "214/214 [==============================] - 22s 104ms/step - loss: 1.2074 - acc: 0.4886 - val_loss: 1.3130 - val_acc: 0.4005\n",
            "Epoch 16/30\n",
            "214/214 [==============================] - 22s 104ms/step - loss: 1.1879 - acc: 0.4898 - val_loss: 1.3059 - val_acc: 0.4042\n",
            "Epoch 17/30\n",
            "214/214 [==============================] - 22s 104ms/step - loss: 1.1803 - acc: 0.4833 - val_loss: 1.2924 - val_acc: 0.4042\n",
            "Epoch 18/30\n",
            "214/214 [==============================] - 22s 102ms/step - loss: 1.1608 - acc: 0.5026 - val_loss: 1.2935 - val_acc: 0.4078\n",
            "Epoch 19/30\n",
            "214/214 [==============================] - 22s 103ms/step - loss: 1.1299 - acc: 0.5097 - val_loss: 1.2908 - val_acc: 0.4087\n",
            "Epoch 20/30\n",
            "214/214 [==============================] - 22s 104ms/step - loss: 1.1250 - acc: 0.5208 - val_loss: 1.2784 - val_acc: 0.4178\n",
            "Epoch 21/30\n",
            "214/214 [==============================] - 22s 103ms/step - loss: 1.1103 - acc: 0.5196 - val_loss: 1.2862 - val_acc: 0.4096\n",
            "Epoch 22/30\n",
            "214/214 [==============================] - 22s 103ms/step - loss: 1.0856 - acc: 0.5407 - val_loss: 1.2869 - val_acc: 0.4133\n",
            "Epoch 23/30\n",
            "214/214 [==============================] - 22s 102ms/step - loss: 1.0603 - acc: 0.5588 - val_loss: 1.2800 - val_acc: 0.4105\n",
            "Epoch 24/30\n",
            "214/214 [==============================] - 22s 102ms/step - loss: 1.0547 - acc: 0.5541 - val_loss: 1.2824 - val_acc: 0.4178\n",
            "Epoch 25/30\n",
            "214/214 [==============================] - ETA: 0s - loss: 1.0495 - acc: 0.5489Restoring model weights from the end of the best epoch.\n",
            "214/214 [==============================] - 22s 103ms/step - loss: 1.0495 - acc: 0.5489 - val_loss: 1.2870 - val_acc: 0.4205\n",
            "Epoch 00025: early stopping\n"
          ],
          "name": "stdout"
        },
        {
          "output_type": "display_data",
          "data": {
            "image/png": "[encoded data removed]",
            "text/plain": [
              "<Figure size 432x288 with 1 Axes>"
            ]
          },
          "metadata": {
            "tags": [],
            "needs_background": "light"
          }
        },
        {
          "output_type": "stream",
          "text": [
            "Nth Set Training 1709 3\n",
            "datapoints to be searched from this iteration and trained on 1709 datapoints\n",
            "Epoch 1/30\n",
            "WARNING:tensorflow:Gradients do not exist for variables ['tf_bert_model_5/bert/pooler/dense/kernel:0', 'tf_bert_model_5/bert/pooler/dense/bias:0'] when minimizing the loss.\n",
            "WARNING:tensorflow:Gradients do not exist for variables ['tf_bert_model_5/bert/pooler/dense/kernel:0', 'tf_bert_model_5/bert/pooler/dense/bias:0'] when minimizing the loss.\n",
            "WARNING:tensorflow:Gradients do not exist for variables ['tf_bert_model_5/bert/pooler/dense/kernel:0', 'tf_bert_model_5/bert/pooler/dense/bias:0'] when minimizing the loss.\n",
            "WARNING:tensorflow:Gradients do not exist for variables ['tf_bert_model_5/bert/pooler/dense/kernel:0', 'tf_bert_model_5/bert/pooler/dense/bias:0'] when minimizing the loss.\n",
            "214/214 [==============================] - 24s 114ms/step - loss: 1.7411 - acc: 0.2481 - val_loss: 1.5904 - val_acc: 0.2897\n",
            "Epoch 2/30\n",
            "214/214 [==============================] - 22s 104ms/step - loss: 1.5882 - acc: 0.2891 - val_loss: 1.5687 - val_acc: 0.3015\n",
            "Epoch 3/30\n",
            "214/214 [==============================] - 22s 104ms/step - loss: 1.5717 - acc: 0.2978 - val_loss: 1.5478 - val_acc: 0.3243\n",
            "Epoch 4/30\n",
            "214/214 [==============================] - 22s 104ms/step - loss: 1.5391 - acc: 0.3259 - val_loss: 1.5341 - val_acc: 0.3279\n",
            "Epoch 5/30\n",
            "214/214 [==============================] - 22s 104ms/step - loss: 1.5090 - acc: 0.3388 - val_loss: 1.5190 - val_acc: 0.3388\n",
            "Epoch 6/30\n",
            "214/214 [==============================] - 22s 104ms/step - loss: 1.5022 - acc: 0.3411 - val_loss: 1.5052 - val_acc: 0.3379\n",
            "Epoch 7/30\n",
            "214/214 [==============================] - 22s 104ms/step - loss: 1.4781 - acc: 0.3558 - val_loss: 1.4917 - val_acc: 0.3406\n",
            "Epoch 8/30\n",
            "214/214 [==============================] - 22s 104ms/step - loss: 1.4633 - acc: 0.3686 - val_loss: 1.4763 - val_acc: 0.3588\n",
            "Epoch 9/30\n",
            "214/214 [==============================] - 22s 104ms/step - loss: 1.4363 - acc: 0.3967 - val_loss: 1.4641 - val_acc: 0.3678\n",
            "Epoch 10/30\n",
            "214/214 [==============================] - 22s 105ms/step - loss: 1.4346 - acc: 0.3809 - val_loss: 1.4494 - val_acc: 0.3824\n",
            "Epoch 11/30\n",
            "214/214 [==============================] - 22s 104ms/step - loss: 1.3946 - acc: 0.4114 - val_loss: 1.4365 - val_acc: 0.3860\n",
            "Epoch 12/30\n",
            "214/214 [==============================] - 22s 104ms/step - loss: 1.3785 - acc: 0.4272 - val_loss: 1.4250 - val_acc: 0.3915\n",
            "Epoch 13/30\n",
            "214/214 [==============================] - 22s 104ms/step - loss: 1.3638 - acc: 0.4301 - val_loss: 1.4100 - val_acc: 0.3960\n",
            "Epoch 14/30\n",
            "214/214 [==============================] - 22s 104ms/step - loss: 1.3413 - acc: 0.4459 - val_loss: 1.4014 - val_acc: 0.3933\n",
            "Epoch 15/30\n",
            "214/214 [==============================] - 22s 104ms/step - loss: 1.3161 - acc: 0.4506 - val_loss: 1.3884 - val_acc: 0.3978\n",
            "Epoch 16/30\n",
            "214/214 [==============================] - 22s 104ms/step - loss: 1.3158 - acc: 0.4652 - val_loss: 1.3774 - val_acc: 0.4024\n",
            "Epoch 17/30\n",
            "214/214 [==============================] - 22s 104ms/step - loss: 1.2841 - acc: 0.4646 - val_loss: 1.3644 - val_acc: 0.4105\n",
            "Epoch 18/30\n",
            "214/214 [==============================] - 22s 104ms/step - loss: 1.2595 - acc: 0.4763 - val_loss: 1.3559 - val_acc: 0.4142\n",
            "Epoch 19/30\n",
            "214/214 [==============================] - 22s 104ms/step - loss: 1.2436 - acc: 0.4681 - val_loss: 1.3468 - val_acc: 0.4151\n",
            "Epoch 20/30\n",
            "214/214 [==============================] - 22s 104ms/step - loss: 1.2249 - acc: 0.4816 - val_loss: 1.3400 - val_acc: 0.4214\n",
            "Epoch 21/30\n",
            "214/214 [==============================] - 22s 104ms/step - loss: 1.2079 - acc: 0.5085 - val_loss: 1.3305 - val_acc: 0.4214\n",
            "Epoch 22/30\n",
            "214/214 [==============================] - 22s 104ms/step - loss: 1.1895 - acc: 0.4991 - val_loss: 1.3234 - val_acc: 0.4233\n",
            "Epoch 23/30\n",
            "214/214 [==============================] - 22s 105ms/step - loss: 1.1955 - acc: 0.5061 - val_loss: 1.3207 - val_acc: 0.4178\n",
            "Epoch 24/30\n",
            "214/214 [==============================] - 22s 105ms/step - loss: 1.1644 - acc: 0.5149 - val_loss: 1.3123 - val_acc: 0.4187\n",
            "Epoch 25/30\n",
            "214/214 [==============================] - 22s 104ms/step - loss: 1.1629 - acc: 0.5073 - val_loss: 1.3042 - val_acc: 0.4196\n",
            "Epoch 26/30\n",
            "214/214 [==============================] - 22s 104ms/step - loss: 1.1360 - acc: 0.5313 - val_loss: 1.3032 - val_acc: 0.4196\n",
            "Epoch 27/30\n",
            "214/214 [==============================] - 22s 104ms/step - loss: 1.1331 - acc: 0.5260 - val_loss: 1.2974 - val_acc: 0.4260\n",
            "Epoch 28/30\n",
            "214/214 [==============================] - 22s 103ms/step - loss: 1.1127 - acc: 0.5284 - val_loss: 1.2981 - val_acc: 0.4223\n",
            "Epoch 29/30\n",
            "214/214 [==============================] - 22s 104ms/step - loss: 1.1063 - acc: 0.5407 - val_loss: 1.2898 - val_acc: 0.4242\n",
            "Epoch 30/30\n",
            "214/214 [==============================] - 22s 104ms/step - loss: 1.0982 - acc: 0.5418 - val_loss: 1.2890 - val_acc: 0.4287\n"
          ],
          "name": "stdout"
        },
        {
          "output_type": "display_data",
          "data": {
            "image/png": "[encoded data removed]",
            "text/plain": [
              "<Figure size 432x288 with 1 Axes>"
            ]
          },
          "metadata": {
            "tags": [],
            "needs_background": "light"
          }
        },
        {
          "output_type": "stream",
          "text": [
            "Nth Set Training 1708 4\n",
            "datapoints to be searched from this iteration and trained on 1708 datapoints\n",
            "Epoch 1/30\n",
            "WARNING:tensorflow:Gradients do not exist for variables ['tf_bert_model_6/bert/pooler/dense/kernel:0', 'tf_bert_model_6/bert/pooler/dense/bias:0'] when minimizing the loss.\n",
            "WARNING:tensorflow:Gradients do not exist for variables ['tf_bert_model_6/bert/pooler/dense/kernel:0', 'tf_bert_model_6/bert/pooler/dense/bias:0'] when minimizing the loss.\n",
            "WARNING:tensorflow:Gradients do not exist for variables ['tf_bert_model_6/bert/pooler/dense/kernel:0', 'tf_bert_model_6/bert/pooler/dense/bias:0'] when minimizing the loss.\n",
            "WARNING:tensorflow:Gradients do not exist for variables ['tf_bert_model_6/bert/pooler/dense/kernel:0', 'tf_bert_model_6/bert/pooler/dense/bias:0'] when minimizing the loss.\n",
            "214/214 [==============================] - 25s 115ms/step - loss: 1.7823 - acc: 0.2313 - val_loss: 1.6099 - val_acc: 0.2652\n",
            "Epoch 2/30\n",
            "214/214 [==============================] - 22s 104ms/step - loss: 1.6196 - acc: 0.2787 - val_loss: 1.5867 - val_acc: 0.2997\n",
            "Epoch 3/30\n",
            "214/214 [==============================] - 22s 104ms/step - loss: 1.5954 - acc: 0.3004 - val_loss: 1.5675 - val_acc: 0.3079\n",
            "Epoch 4/30\n",
            "214/214 [==============================] - 22s 104ms/step - loss: 1.5595 - acc: 0.3103 - val_loss: 1.5560 - val_acc: 0.3152\n",
            "Epoch 5/30\n",
            "214/214 [==============================] - 22s 104ms/step - loss: 1.5452 - acc: 0.3150 - val_loss: 1.5451 - val_acc: 0.3224\n",
            "Epoch 6/30\n",
            "214/214 [==============================] - 22s 104ms/step - loss: 1.5309 - acc: 0.3454 - val_loss: 1.5333 - val_acc: 0.3297\n",
            "Epoch 7/30\n",
            "214/214 [==============================] - 23s 105ms/step - loss: 1.5322 - acc: 0.3226 - val_loss: 1.5233 - val_acc: 0.3351\n",
            "Epoch 8/30\n",
            "214/214 [==============================] - 22s 104ms/step - loss: 1.5058 - acc: 0.3536 - val_loss: 1.5148 - val_acc: 0.3379\n",
            "Epoch 9/30\n",
            "214/214 [==============================] - 22s 104ms/step - loss: 1.4950 - acc: 0.3519 - val_loss: 1.5048 - val_acc: 0.3406\n",
            "Epoch 10/30\n",
            "214/214 [==============================] - 22s 104ms/step - loss: 1.4807 - acc: 0.3671 - val_loss: 1.4959 - val_acc: 0.3460\n",
            "Epoch 11/30\n",
            "214/214 [==============================] - 22s 104ms/step - loss: 1.4709 - acc: 0.3753 - val_loss: 1.4891 - val_acc: 0.3479\n",
            "Epoch 12/30\n",
            "214/214 [==============================] - 22s 104ms/step - loss: 1.4628 - acc: 0.3741 - val_loss: 1.4799 - val_acc: 0.3624\n",
            "Epoch 13/30\n",
            "214/214 [==============================] - 22s 104ms/step - loss: 1.4463 - acc: 0.3735 - val_loss: 1.4694 - val_acc: 0.3624\n",
            "Epoch 14/30\n",
            "214/214 [==============================] - 22s 104ms/step - loss: 1.4485 - acc: 0.3770 - val_loss: 1.4599 - val_acc: 0.3642\n",
            "Epoch 15/30\n",
            "214/214 [==============================] - 22s 104ms/step - loss: 1.4273 - acc: 0.3811 - val_loss: 1.4516 - val_acc: 0.3669\n",
            "Epoch 16/30\n",
            "214/214 [==============================] - 22s 104ms/step - loss: 1.4186 - acc: 0.4052 - val_loss: 1.4414 - val_acc: 0.3769\n",
            "Epoch 17/30\n",
            "214/214 [==============================] - 22s 104ms/step - loss: 1.3893 - acc: 0.3981 - val_loss: 1.4327 - val_acc: 0.3824\n",
            "Epoch 18/30\n",
            "214/214 [==============================] - 22s 104ms/step - loss: 1.3813 - acc: 0.4081 - val_loss: 1.4229 - val_acc: 0.3896\n",
            "Epoch 19/30\n",
            "214/214 [==============================] - 22s 104ms/step - loss: 1.3575 - acc: 0.4274 - val_loss: 1.4127 - val_acc: 0.3924\n",
            "Epoch 20/30\n",
            "214/214 [==============================] - 22s 105ms/step - loss: 1.3534 - acc: 0.4251 - val_loss: 1.4049 - val_acc: 0.3960\n",
            "Epoch 21/30\n",
            "214/214 [==============================] - 22s 105ms/step - loss: 1.3405 - acc: 0.4292 - val_loss: 1.3961 - val_acc: 0.4024\n",
            "Epoch 22/30\n",
            "214/214 [==============================] - 22s 104ms/step - loss: 1.3350 - acc: 0.4215 - val_loss: 1.3870 - val_acc: 0.4051\n",
            "Epoch 23/30\n",
            "214/214 [==============================] - 22s 104ms/step - loss: 1.3246 - acc: 0.4432 - val_loss: 1.3794 - val_acc: 0.4096\n",
            "Epoch 24/30\n",
            "214/214 [==============================] - 22s 104ms/step - loss: 1.2965 - acc: 0.4549 - val_loss: 1.3706 - val_acc: 0.4096\n",
            "Epoch 25/30\n",
            "214/214 [==============================] - 22s 104ms/step - loss: 1.2915 - acc: 0.4660 - val_loss: 1.3652 - val_acc: 0.4169\n",
            "Epoch 26/30\n",
            "214/214 [==============================] - 22s 104ms/step - loss: 1.2772 - acc: 0.4578 - val_loss: 1.3567 - val_acc: 0.4169\n",
            "Epoch 27/30\n",
            "214/214 [==============================] - 22s 104ms/step - loss: 1.2723 - acc: 0.4561 - val_loss: 1.3498 - val_acc: 0.4178\n",
            "Epoch 28/30\n",
            "214/214 [==============================] - 22s 104ms/step - loss: 1.2657 - acc: 0.4555 - val_loss: 1.3397 - val_acc: 0.4178\n",
            "Epoch 29/30\n",
            "214/214 [==============================] - 22s 104ms/step - loss: 1.2558 - acc: 0.4690 - val_loss: 1.3329 - val_acc: 0.4151\n",
            "Epoch 30/30\n",
            "214/214 [==============================] - 22s 104ms/step - loss: 1.2334 - acc: 0.4672 - val_loss: 1.3288 - val_acc: 0.4142\n"
          ],
          "name": "stdout"
        },
        {
          "output_type": "display_data",
          "data": {
            "image/png": "[encoded data removed]",
            "text/plain": [
              "<Figure size 432x288 with 1 Axes>"
            ]
          },
          "metadata": {
            "tags": [],
            "needs_background": "light"
          }
        },
        {
          "output_type": "stream",
          "text": [
            "CPU times: user 38min 35s, sys: 6min 48s, total: 45min 23s\n",
            "Wall time: 47min 14s\n"
          ],
          "name": "stdout"
        }
      ]
    },
    {
      "cell_type": "code",
      "metadata": {
        "id": "qcfmCXaDqtA0",
        "outputId": "e45bed9c-ef7e-466b-ab4b-6b590900be23",
        "colab": {
          "base_uri": "https://localhost:8080/",
          "height": 190
        }
      },
      "source": [
        "total_performance=[]\n",
        "for i,model in enumerate(models_list):\n",
        "  print('Testing',i+1)\n",
        "  out  = model.predict([train_input_ids,train_attention_masks, train_token_type_ids]) #train_labels_categorical[i])\n",
        "  performance = (np.argmax(out,axis=-1) == np.argmax(train_labels_categorical,axis=-1)).astype(int)\n",
        "  total_performance.append(performance)\n",
        "  print(np.sum(performance)/len(performance))"
      ],
      "execution_count": null,
      "outputs": [
        {
          "output_type": "stream",
          "text": [
            "Testing 1\n",
            "0.5021067415730337\n",
            "Testing 2\n",
            "0.49754213483146065\n",
            "Testing 3\n",
            "0.4830290262172285\n",
            "Testing 4\n",
            "0.4790496254681648\n",
            "Testing 5\n",
            "0.45915262172284643\n"
          ],
          "name": "stdout"
        }
      ]
    },
    {
      "cell_type": "code",
      "metadata": {
        "id": "c61lSqIqVnrG"
      },
      "source": [
        "#scores = np.random.randint(0,5,train_input_ids.shape[0])"
      ],
      "execution_count": null,
      "outputs": []
    },
    {
      "cell_type": "code",
      "metadata": {
        "id": "bjmj0TYZ-CRe"
      },
      "source": [
        "scores = np.sum(total_performance,axis=0)"
      ],
      "execution_count": null,
      "outputs": []
    },
    {
      "cell_type": "code",
      "metadata": {
        "id": "anPEVu_jTJM9"
      },
      "source": [
        ""
      ],
      "execution_count": null,
      "outputs": []
    },
    {
      "cell_type": "code",
      "metadata": {
        "id": "UgNPeg_6F5E5",
        "outputId": "f0db97b0-04e0-43b3-e209-19573b216732",
        "colab": {
          "base_uri": "https://localhost:8080/",
          "height": 265
        }
      },
      "source": [
        "plt.bar(np.arange(len(scores)),sorted(scores))\n",
        "sorted_indices=[x for _, x in sorted(zip(scores,np.arange(len(scores))), key=lambda pair: pair[0],reverse=False)]"
      ],
      "execution_count": null,
      "outputs": [
        {
          "output_type": "display_data",
          "data": {
            "image/png": "[encoded data removed]",
            "text/plain": [
              "<Figure size 432x288 with 1 Axes>"
            ]
          },
          "metadata": {
            "tags": [],
            "needs_background": "light"
          }
        }
      ]
    },
    {
      "cell_type": "code",
      "metadata": {
        "id": "QNdKBiNx-wNr",
        "outputId": "a8a430cd-be2a-4023-8849-c141db4cbd78",
        "colab": {
          "base_uri": "https://localhost:8080/",
          "height": 34
        }
      },
      "source": [
        "n"
      ],
      "execution_count": null,
      "outputs": [
        {
          "output_type": "execute_result",
          "data": {
            "text/plain": [
              "5"
            ]
          },
          "metadata": {
            "tags": []
          },
          "execution_count": 40
        }
      ]
    },
    {
      "cell_type": "code",
      "metadata": {
        "id": "mEc30_9nnOIl"
      },
      "source": [
        "sorted_labels = indexer(train_labels,sorted_indices)"
      ],
      "execution_count": null,
      "outputs": []
    },
    {
      "cell_type": "code",
      "metadata": {
        "id": "mbcfe6bWirRL"
      },
      "source": [
        "sorted_sentences = indexer(train_sentences, sorted_indices)"
      ],
      "execution_count": null,
      "outputs": []
    },
    {
      "cell_type": "code",
      "metadata": {
        "id": "Fvg_dpnHnep_",
        "outputId": "4766db81-fcdc-4f1c-ae59-f182ae2f4e4f",
        "colab": {
          "base_uri": "https://localhost:8080/",
          "height": 282
        }
      },
      "source": [
        "plt.plot((sorted_labels))"
      ],
      "execution_count": null,
      "outputs": [
        {
          "output_type": "execute_result",
          "data": {
            "text/plain": [
              "[<matplotlib.lines.Line2D at 0x7f4d09f59898>]"
            ]
          },
          "metadata": {
            "tags": []
          },
          "execution_count": 43
        },
        {
          "output_type": "display_data",
          "data": {
            "image/png": "[encoded data removed]",
            "text/plain": [
              "<Figure size 432x288 with 1 Axes>"
            ]
          },
          "metadata": {
            "tags": [],
            "needs_background": "light"
          }
        }
      ]
    },
    {
      "cell_type": "code",
      "metadata": {
        "id": "t1MPWoLLymdq"
      },
      "source": [
        "sorted_sentences = indexer(train_sentences,sorted_indices)"
      ],
      "execution_count": null,
      "outputs": []
    },
    {
      "cell_type": "code",
      "metadata": {
        "id": "PYumJ_zWjh_A"
      },
      "source": [
        "sorted_sentences_labels = [[j,sorted_labels[i]] for i,j in enumerate(sorted_sentences)]"
      ],
      "execution_count": null,
      "outputs": []
    },
    {
      "cell_type": "code",
      "metadata": {
        "id": "A3L3i4A2y2Gt"
      },
      "source": [
        "#sorted_sentences_labels[:50]#sorted_sentences_labels[-50:]"
      ],
      "execution_count": null,
      "outputs": []
    },
    {
      "cell_type": "code",
      "metadata": {
        "id": "WE6MA5YljUFr",
        "outputId": "457b91e7-0895-433d-8350-e5264e3eccb5",
        "colab": {
          "base_uri": "https://localhost:8080/",
          "height": 34
        }
      },
      "source": [
        "np.array([1,2,3,4]).take([0,3])"
      ],
      "execution_count": null,
      "outputs": [
        {
          "output_type": "execute_result",
          "data": {
            "text/plain": [
              "array([1, 4])"
            ]
          },
          "metadata": {
            "tags": []
          },
          "execution_count": 47
        }
      ]
    },
    {
      "cell_type": "code",
      "metadata": {
        "id": "MeP2EYEgWZ55",
        "outputId": "251421f1-6cb8-418c-db11-b7ef6bc00dc6",
        "colab": {
          "base_uri": "https://localhost:8080/",
          "height": 34
        }
      },
      "source": [
        "sorted_scores = np.array(sorted(scores))\n",
        "n_sorted_arrays = [np.array(sorted_indices).take([np.where(sorted_scores==i)])[0][0] for i in np.arange(n)]\n",
        "print([len(i) for i in n_sorted_arrays])"
      ],
      "execution_count": null,
      "outputs": [
        {
          "output_type": "stream",
          "text": [
            "[2564, 1125, 786, 683, 992]\n"
          ],
          "name": "stdout"
        }
      ]
    },
    {
      "cell_type": "code",
      "metadata": {
        "id": "jpzFrycmYfZM"
      },
      "source": [
        ""
      ],
      "execution_count": null,
      "outputs": []
    },
    {
      "cell_type": "markdown",
      "metadata": {
        "id": "ovhsGNKMhXZi"
      },
      "source": [
        "## Fetch Examples of Hard and Easy"
      ]
    },
    {
      "cell_type": "code",
      "metadata": {
        "id": "dCAvenF7pcz-"
      },
      "source": [
        "with open(\"sorted_indices.txt\", \"w\") as outfile:\n",
        "    outfile.write(\"\\n\".join(str(item) for item in sorted_indices))\n",
        "\n",
        "with open(\"sorted_sentences.txt\", \"w\") as outfile:\n",
        "    outfile.write(\"\\n\".join(str(item) for item in sorted_sentences))\n"
      ],
      "execution_count": null,
      "outputs": []
    },
    {
      "cell_type": "code",
      "metadata": {
        "id": "AtCAtrEpnTZT",
        "outputId": "8eb69afe-5341-4f76-9c53-7706f0f6e352",
        "colab": {
          "base_uri": "https://localhost:8080/",
          "height": 282
        }
      },
      "source": [
        "#_,_ = plt.figsize(1,3)\n",
        "plt.scatter(np.arange(len(sorted_labels)),sorted_labels,c=sorted_labels)"
      ],
      "execution_count": null,
      "outputs": [
        {
          "output_type": "execute_result",
          "data": {
            "text/plain": [
              "<matplotlib.collections.PathCollection at 0x7f4d09bff080>"
            ]
          },
          "metadata": {
            "tags": []
          },
          "execution_count": 50
        },
        {
          "output_type": "display_data",
          "data": {
            "image/png": "[encoded data removed]",
            "text/plain": [
              "<Figure size 432x288 with 1 Axes>"
            ]
          },
          "metadata": {
            "tags": [],
            "needs_background": "light"
          }
        }
      ]
    },
    {
      "cell_type": "code",
      "metadata": {
        "id": "h61kwl2yifij"
      },
      "source": [
        "sorted_sentences = indexer(train_sentences,sorted_indices)"
      ],
      "execution_count": null,
      "outputs": []
    },
    {
      "cell_type": "code",
      "metadata": {
        "id": "t62TF6FDvrl7"
      },
      "source": [
        "short_train_input_ids = indexer(train_input_ids,sorted_indices[:5])\n",
        "short_train_attention_masks = indexer(train_attention_masks,sorted_indices[:5])\n",
        "short_train_token_type_ids = indexer(train_token_type_ids,sorted_indices[:5])\n",
        "short_train_labels_categorical = indexer(train_labels_categorical,sorted_indices[:5])"
      ],
      "execution_count": null,
      "outputs": []
    },
    {
      "cell_type": "code",
      "metadata": {
        "id": "JlVESkyJ3EOc"
      },
      "source": [
        "#model.predict([short_train_input_ids, short_train_attention_masks, short_train_token_type_ids]) , short_train_labels_categorical"
      ],
      "execution_count": null,
      "outputs": []
    },
    {
      "cell_type": "code",
      "metadata": {
        "id": "I2bXPZjckVOa",
        "outputId": "3ad9ffce-a6ce-486d-b6cd-d356137a2274",
        "colab": {
          "base_uri": "https://localhost:8080/",
          "height": 282
        }
      },
      "source": [
        "plt.plot(sorted(scores))"
      ],
      "execution_count": null,
      "outputs": [
        {
          "output_type": "execute_result",
          "data": {
            "text/plain": [
              "[<matplotlib.lines.Line2D at 0x7f4d09a72be0>]"
            ]
          },
          "metadata": {
            "tags": []
          },
          "execution_count": 54
        },
        {
          "output_type": "display_data",
          "data": {
            "image/png": "[encoded data removed]",
            "text/plain": [
              "<Figure size 432x288 with 1 Axes>"
            ]
          },
          "metadata": {
            "tags": [],
            "needs_background": "light"
          }
        }
      ]
    },
    {
      "cell_type": "code",
      "metadata": {
        "id": "5QOc3F-fxz1U"
      },
      "source": [
        ""
      ],
      "execution_count": null,
      "outputs": []
    },
    {
      "cell_type": "markdown",
      "metadata": {
        "id": "TMYErqrSsVCh"
      },
      "source": [
        "##### Annealing Original"
      ]
    },
    {
      "cell_type": "code",
      "metadata": {
        "id": "hY6_aEelkWP4"
      },
      "source": [
        ""
      ],
      "execution_count": null,
      "outputs": []
    },
    {
      "cell_type": "code",
      "metadata": {
        "id": "kLKHji2dsbyq",
        "outputId": "5fa73f54-ce04-4a9b-bd54-07520296d6c6",
        "colab": {
          "base_uri": "https://localhost:8080/",
          "height": 34
        }
      },
      "source": [
        "n=int(len(sorted_indices)/1600)\n",
        "print(n)"
      ],
      "execution_count": null,
      "outputs": [
        {
          "output_type": "stream",
          "text": [
            "5\n"
          ],
          "name": "stdout"
        }
      ]
    },
    {
      "cell_type": "code",
      "metadata": {
        "id": "abbxpFi_7oOu"
      },
      "source": [
        ""
      ],
      "execution_count": null,
      "outputs": []
    },
    {
      "cell_type": "markdown",
      "metadata": {
        "id": "Ac9qq0bQciOk"
      },
      "source": [
        "###### Create N sets"
      ]
    },
    {
      "cell_type": "code",
      "metadata": {
        "id": "J0S5QSMT8thS"
      },
      "source": [
        "s= sorted(scores)\n",
        "for i,j in enumerate(sorted_sentences):\n",
        "  s[i]!=s[i-1]\n",
        "  "
      ],
      "execution_count": null,
      "outputs": []
    },
    {
      "cell_type": "markdown",
      "metadata": {
        "id": "E7JHo1peEGgR"
      },
      "source": [
        "###### Create NewSet"
      ]
    },
    {
      "cell_type": "code",
      "metadata": {
        "id": "Y6mY6B0s3l-S",
        "outputId": "3ff44e79-bbc8-44b7-a765-1329061f6cdc",
        "colab": {
          "base_uri": "https://localhost:8080/",
          "height": 34
        }
      },
      "source": [
        "newsets=[]\n",
        "#temp=np.arange(50)+1\n",
        "temp=sorted_indices\n",
        "n=5\n",
        "big_sets = n_sorted_arrays##### take non equal sized big arrays\n",
        "all_sets = np.array([np.array_split(np.random.permutation(d),n) for d in big_sets])\n",
        "for it1 in np.arange(n):\n",
        "  newitem=[]\n",
        "  for it2 in np.arange(it1+1):\n",
        "    #print(it1-it2,it2)\n",
        "    newitem = newitem+ list(all_sets[it1-it2][it2])\n",
        "  #print(\"-----\")\n",
        "  newsets.append(newitem)\n",
        "assert len(set.intersection(*map(set,newsets))) == 0\n",
        "[len(i) for i in newsets]"
      ],
      "execution_count": null,
      "outputs": [
        {
          "output_type": "execute_result",
          "data": {
            "text/plain": [
              "[513, 738, 896, 1032, 1230]"
            ]
          },
          "metadata": {
            "tags": []
          },
          "execution_count": 58
        }
      ]
    },
    {
      "cell_type": "code",
      "metadata": {
        "id": "g8ONq33W_gbV",
        "outputId": "2a44e049-9507-4e9e-be63-33f9fc3b4133",
        "colab": {
          "base_uri": "https://localhost:8080/",
          "height": 34
        }
      },
      "source": [
        "import gc\n",
        "gc.collect()"
      ],
      "execution_count": null,
      "outputs": [
        {
          "output_type": "execute_result",
          "data": {
            "text/plain": [
              "583188"
            ]
          },
          "metadata": {
            "tags": []
          },
          "execution_count": 59
        }
      ]
    },
    {
      "cell_type": "markdown",
      "metadata": {
        "id": "orMdnxr6EaRn"
      },
      "source": [
        "###### Training all Equal epochs"
      ]
    },
    {
      "cell_type": "code",
      "metadata": {
        "id": "kp-mrCrasXnL",
        "outputId": "2a3fb59b-dacb-4473-bfc4-0ccd0b1a23e3",
        "colab": {
          "base_uri": "https://localhost:8080/",
          "height": 1000
        }
      },
      "source": [
        "seed=0\n",
        "growth_list=[]\n",
        "for nn in np.arange(2):\n",
        "  growth=[]\n",
        "  newa=[]\n",
        "  newb=[]\n",
        "  newc=[]\n",
        "  newy=[]\n",
        "  model1,atten_model1=bert_model(T)\n",
        "  for iter,batch_ind in enumerate(newsets):\n",
        "    a = indexer(train_input_ids,batch_ind)\n",
        "    b = indexer(train_attention_masks,batch_ind)\n",
        "    c = indexer(train_token_type_ids,batch_ind)\n",
        "    y = indexer(train_labels_categorical,batch_ind)\n",
        "    print(\"datapoints to be searched from this iteration and trained on\",len(a),\"datapoints\")\n",
        "    ####\n",
        "    tf.random.set_seed(seed) \n",
        "    random.seed(seed)\n",
        "    np.random.seed(seed)\n",
        "    model1,history = fit_model([np.array(a),np.array(b),np.array(c)],np.array(y),model1,verbose=1,epochs=8)\n",
        "    ###\n",
        "    growth.append(model1.evaluate([test_input_ids, test_attention_masks, test_token_type_ids],test_labels_categorical)[1])\n",
        "  plt.plot(growth)\n",
        "  growth_list.append(growth)\n",
        "  plt.hlines(NC,0, len(growth))\n",
        "  print(growth[-1])\n",
        "growth_list=np.array(growth_list)\n",
        "plt.show()"
      ],
      "execution_count": null,
      "outputs": [
        {
          "output_type": "stream",
          "text": [
            "datapoints to be searched from this iteration and trained on 513 datapoints\n",
            "Epoch 1/8\n",
            "WARNING:tensorflow:Gradients do not exist for variables ['tf_bert_model_7/bert/pooler/dense/kernel:0', 'tf_bert_model_7/bert/pooler/dense/bias:0'] when minimizing the loss.\n",
            "WARNING:tensorflow:Gradients do not exist for variables ['tf_bert_model_7/bert/pooler/dense/kernel:0', 'tf_bert_model_7/bert/pooler/dense/bias:0'] when minimizing the loss.\n",
            "WARNING:tensorflow:Gradients do not exist for variables ['tf_bert_model_7/bert/pooler/dense/kernel:0', 'tf_bert_model_7/bert/pooler/dense/bias:0'] when minimizing the loss.\n",
            "WARNING:tensorflow:Gradients do not exist for variables ['tf_bert_model_7/bert/pooler/dense/kernel:0', 'tf_bert_model_7/bert/pooler/dense/bias:0'] when minimizing the loss.\n",
            "65/65 [==============================] - 12s 190ms/step - loss: 1.9923 - acc: 0.2924 - val_loss: 1.9810 - val_acc: 0.2053\n",
            "Epoch 2/8\n",
            "65/65 [==============================] - 10s 155ms/step - loss: 1.7894 - acc: 0.2963 - val_loss: 1.8608 - val_acc: 0.2025\n",
            "Epoch 3/8\n",
            "65/65 [==============================] - 10s 155ms/step - loss: 1.7444 - acc: 0.2749 - val_loss: 1.8119 - val_acc: 0.2044\n",
            "Epoch 4/8\n",
            "65/65 [==============================] - 10s 154ms/step - loss: 1.7106 - acc: 0.2632 - val_loss: 1.7866 - val_acc: 0.2053\n",
            "Epoch 5/8\n",
            "65/65 [==============================] - 10s 155ms/step - loss: 1.6838 - acc: 0.2827 - val_loss: 1.7834 - val_acc: 0.2025\n",
            "Epoch 6/8\n",
            "65/65 [==============================] - 10s 154ms/step - loss: 1.6915 - acc: 0.2671 - val_loss: 1.7737 - val_acc: 0.1998\n",
            "Epoch 7/8\n",
            "65/65 [==============================] - 10s 155ms/step - loss: 1.6286 - acc: 0.2904 - val_loss: 1.7676 - val_acc: 0.1971\n",
            "Epoch 8/8\n",
            "65/65 [==============================] - 10s 150ms/step - loss: 1.6373 - acc: 0.3041 - val_loss: 1.7725 - val_acc: 0.1971\n",
            "70/70 [==============================] - 5s 77ms/step - loss: 1.8018 - acc: 0.1697\n",
            "datapoints to be searched from this iteration and trained on 738 datapoints\n",
            "Epoch 1/8\n",
            "WARNING:tensorflow:Gradients do not exist for variables ['tf_bert_model_7/bert/pooler/dense/kernel:0', 'tf_bert_model_7/bert/pooler/dense/bias:0'] when minimizing the loss.\n",
            "WARNING:tensorflow:Gradients do not exist for variables ['tf_bert_model_7/bert/pooler/dense/kernel:0', 'tf_bert_model_7/bert/pooler/dense/bias:0'] when minimizing the loss.\n",
            "WARNING:tensorflow:Gradients do not exist for variables ['tf_bert_model_7/bert/pooler/dense/kernel:0', 'tf_bert_model_7/bert/pooler/dense/bias:0'] when minimizing the loss.\n",
            "WARNING:tensorflow:Gradients do not exist for variables ['tf_bert_model_7/bert/pooler/dense/kernel:0', 'tf_bert_model_7/bert/pooler/dense/bias:0'] when minimizing the loss.\n",
            "93/93 [==============================] - 15s 157ms/step - loss: 1.7734 - acc: 0.2317 - val_loss: 1.7301 - val_acc: 0.1971\n",
            "Epoch 2/8\n",
            "93/93 [==============================] - 12s 133ms/step - loss: 1.7267 - acc: 0.2304 - val_loss: 1.7069 - val_acc: 0.2007\n",
            "Epoch 3/8\n",
            "93/93 [==============================] - 12s 133ms/step - loss: 1.7213 - acc: 0.2236 - val_loss: 1.6929 - val_acc: 0.2035\n",
            "Epoch 4/8\n",
            "93/93 [==============================] - 12s 133ms/step - loss: 1.7239 - acc: 0.2114 - val_loss: 1.6848 - val_acc: 0.2025\n",
            "Epoch 5/8\n",
            "93/93 [==============================] - 12s 133ms/step - loss: 1.7107 - acc: 0.2195 - val_loss: 1.6730 - val_acc: 0.1998\n",
            "Epoch 6/8\n",
            "93/93 [==============================] - 12s 133ms/step - loss: 1.7163 - acc: 0.2127 - val_loss: 1.6702 - val_acc: 0.2007\n",
            "Epoch 7/8\n",
            "93/93 [==============================] - 12s 133ms/step - loss: 1.7132 - acc: 0.2154 - val_loss: 1.6657 - val_acc: 0.2007\n",
            "Epoch 8/8\n",
            "93/93 [==============================] - 12s 132ms/step - loss: 1.7105 - acc: 0.2290 - val_loss: 1.6616 - val_acc: 0.2025\n",
            "70/70 [==============================] - 5s 76ms/step - loss: 1.6806 - acc: 0.1778\n",
            "datapoints to be searched from this iteration and trained on 896 datapoints\n",
            "Epoch 1/8\n",
            "WARNING:tensorflow:Gradients do not exist for variables ['tf_bert_model_7/bert/pooler/dense/kernel:0', 'tf_bert_model_7/bert/pooler/dense/bias:0'] when minimizing the loss.\n",
            "WARNING:tensorflow:Gradients do not exist for variables ['tf_bert_model_7/bert/pooler/dense/kernel:0', 'tf_bert_model_7/bert/pooler/dense/bias:0'] when minimizing the loss.\n",
            "WARNING:tensorflow:Gradients do not exist for variables ['tf_bert_model_7/bert/pooler/dense/kernel:0', 'tf_bert_model_7/bert/pooler/dense/bias:0'] when minimizing the loss.\n",
            "WARNING:tensorflow:Gradients do not exist for variables ['tf_bert_model_7/bert/pooler/dense/kernel:0', 'tf_bert_model_7/bert/pooler/dense/bias:0'] when minimizing the loss.\n",
            "112/112 [==============================] - 15s 132ms/step - loss: 1.6723 - acc: 0.2578 - val_loss: 1.6650 - val_acc: 0.2016\n",
            "Epoch 2/8\n",
            "112/112 [==============================] - 13s 112ms/step - loss: 1.6671 - acc: 0.2623 - val_loss: 1.6627 - val_acc: 0.2053\n",
            "Epoch 3/8\n",
            "112/112 [==============================] - 13s 112ms/step - loss: 1.6453 - acc: 0.2690 - val_loss: 1.6624 - val_acc: 0.2025\n",
            "Epoch 4/8\n",
            "112/112 [==============================] - 13s 112ms/step - loss: 1.6612 - acc: 0.2623 - val_loss: 1.6614 - val_acc: 0.2016\n",
            "Epoch 5/8\n",
            "112/112 [==============================] - 13s 114ms/step - loss: 1.6308 - acc: 0.2634 - val_loss: 1.6599 - val_acc: 0.1998\n",
            "Epoch 6/8\n",
            "112/112 [==============================] - 13s 112ms/step - loss: 1.6535 - acc: 0.2667 - val_loss: 1.6559 - val_acc: 0.2007\n",
            "Epoch 7/8\n",
            "112/112 [==============================] - 12s 109ms/step - loss: 1.6258 - acc: 0.2857 - val_loss: 1.6581 - val_acc: 0.2025\n",
            "Epoch 8/8\n",
            "112/112 [==============================] - 13s 112ms/step - loss: 1.6380 - acc: 0.2600 - val_loss: 1.6554 - val_acc: 0.2035\n",
            "70/70 [==============================] - 5s 77ms/step - loss: 1.6819 - acc: 0.1851\n",
            "datapoints to be searched from this iteration and trained on 1032 datapoints\n",
            "Epoch 1/8\n",
            "WARNING:tensorflow:Gradients do not exist for variables ['tf_bert_model_7/bert/pooler/dense/kernel:0', 'tf_bert_model_7/bert/pooler/dense/bias:0'] when minimizing the loss.\n",
            "WARNING:tensorflow:Gradients do not exist for variables ['tf_bert_model_7/bert/pooler/dense/kernel:0', 'tf_bert_model_7/bert/pooler/dense/bias:0'] when minimizing the loss.\n",
            "WARNING:tensorflow:Gradients do not exist for variables ['tf_bert_model_7/bert/pooler/dense/kernel:0', 'tf_bert_model_7/bert/pooler/dense/bias:0'] when minimizing the loss.\n",
            "WARNING:tensorflow:Gradients do not exist for variables ['tf_bert_model_7/bert/pooler/dense/kernel:0', 'tf_bert_model_7/bert/pooler/dense/bias:0'] when minimizing the loss.\n",
            "129/129 [==============================] - 16s 123ms/step - loss: 1.6546 - acc: 0.2432 - val_loss: 1.6405 - val_acc: 0.2007\n",
            "Epoch 2/8\n",
            "129/129 [==============================] - 14s 106ms/step - loss: 1.6578 - acc: 0.2384 - val_loss: 1.6279 - val_acc: 0.2044\n",
            "Epoch 3/8\n",
            "129/129 [==============================] - 14s 106ms/step - loss: 1.6507 - acc: 0.2345 - val_loss: 1.6224 - val_acc: 0.2080\n",
            "Epoch 4/8\n",
            "129/129 [==============================] - 14s 106ms/step - loss: 1.6520 - acc: 0.2267 - val_loss: 1.6151 - val_acc: 0.2098\n",
            "Epoch 5/8\n",
            "129/129 [==============================] - 14s 106ms/step - loss: 1.6479 - acc: 0.2326 - val_loss: 1.6110 - val_acc: 0.2107\n",
            "Epoch 6/8\n",
            "129/129 [==============================] - 14s 106ms/step - loss: 1.6400 - acc: 0.2238 - val_loss: 1.6074 - val_acc: 0.2125\n",
            "Epoch 7/8\n",
            "129/129 [==============================] - 14s 106ms/step - loss: 1.6188 - acc: 0.2655 - val_loss: 1.6040 - val_acc: 0.2171\n",
            "Epoch 8/8\n",
            "129/129 [==============================] - 14s 106ms/step - loss: 1.6169 - acc: 0.2626 - val_loss: 1.6009 - val_acc: 0.2207\n",
            "70/70 [==============================] - 5s 77ms/step - loss: 1.6208 - acc: 0.1955\n",
            "datapoints to be searched from this iteration and trained on 1230 datapoints\n",
            "Epoch 1/8\n",
            "WARNING:tensorflow:Gradients do not exist for variables ['tf_bert_model_7/bert/pooler/dense/kernel:0', 'tf_bert_model_7/bert/pooler/dense/bias:0'] when minimizing the loss.\n",
            "WARNING:tensorflow:Gradients do not exist for variables ['tf_bert_model_7/bert/pooler/dense/kernel:0', 'tf_bert_model_7/bert/pooler/dense/bias:0'] when minimizing the loss.\n",
            "WARNING:tensorflow:Gradients do not exist for variables ['tf_bert_model_7/bert/pooler/dense/kernel:0', 'tf_bert_model_7/bert/pooler/dense/bias:0'] when minimizing the loss.\n",
            "WARNING:tensorflow:Gradients do not exist for variables ['tf_bert_model_7/bert/pooler/dense/kernel:0', 'tf_bert_model_7/bert/pooler/dense/bias:0'] when minimizing the loss.\n",
            "154/154 [==============================] - 20s 128ms/step - loss: 1.6506 - acc: 0.2285 - val_loss: 1.5906 - val_acc: 0.2180\n",
            "Epoch 2/8\n",
            "154/154 [==============================] - 17s 113ms/step - loss: 1.6319 - acc: 0.2350 - val_loss: 1.5831 - val_acc: 0.2216\n",
            "Epoch 3/8\n",
            "154/154 [==============================] - 17s 113ms/step - loss: 1.6109 - acc: 0.2358 - val_loss: 1.5783 - val_acc: 0.2252\n",
            "Epoch 4/8\n",
            "154/154 [==============================] - 17s 113ms/step - loss: 1.6245 - acc: 0.2577 - val_loss: 1.5725 - val_acc: 0.2289\n",
            "Epoch 5/8\n",
            "154/154 [==============================] - 17s 113ms/step - loss: 1.6208 - acc: 0.2130 - val_loss: 1.5700 - val_acc: 0.2289\n",
            "Epoch 6/8\n",
            "154/154 [==============================] - 17s 113ms/step - loss: 1.6263 - acc: 0.2260 - val_loss: 1.5651 - val_acc: 0.2298\n",
            "Epoch 7/8\n",
            "154/154 [==============================] - 17s 113ms/step - loss: 1.6284 - acc: 0.2366 - val_loss: 1.5600 - val_acc: 0.2434\n",
            "Epoch 8/8\n",
            "154/154 [==============================] - 17s 114ms/step - loss: 1.6226 - acc: 0.2390 - val_loss: 1.5567 - val_acc: 0.2389\n",
            "70/70 [==============================] - 5s 77ms/step - loss: 1.5767 - acc: 0.2330\n",
            "0.23303167521953583\n",
            "datapoints to be searched from this iteration and trained on 513 datapoints\n",
            "Epoch 1/8\n",
            "WARNING:tensorflow:Gradients do not exist for variables ['tf_bert_model_8/bert/pooler/dense/kernel:0', 'tf_bert_model_8/bert/pooler/dense/bias:0'] when minimizing the loss.\n",
            "WARNING:tensorflow:Gradients do not exist for variables ['tf_bert_model_8/bert/pooler/dense/kernel:0', 'tf_bert_model_8/bert/pooler/dense/bias:0'] when minimizing the loss.\n",
            "WARNING:tensorflow:Gradients do not exist for variables ['tf_bert_model_8/bert/pooler/dense/kernel:0', 'tf_bert_model_8/bert/pooler/dense/bias:0'] when minimizing the loss.\n",
            "WARNING:tensorflow:Gradients do not exist for variables ['tf_bert_model_8/bert/pooler/dense/kernel:0', 'tf_bert_model_8/bert/pooler/dense/bias:0'] when minimizing the loss.\n",
            "65/65 [==============================] - 12s 190ms/step - loss: 2.0064 - acc: 0.3002 - val_loss: 2.0207 - val_acc: 0.2035\n",
            "Epoch 2/8\n",
            "65/65 [==============================] - 10s 155ms/step - loss: 1.8124 - acc: 0.2982 - val_loss: 1.8931 - val_acc: 0.2025\n",
            "Epoch 3/8\n",
            "65/65 [==============================] - 10s 155ms/step - loss: 1.7646 - acc: 0.2788 - val_loss: 1.8351 - val_acc: 0.2025\n",
            "Epoch 4/8\n",
            "65/65 [==============================] - 10s 154ms/step - loss: 1.7279 - acc: 0.2710 - val_loss: 1.8014 - val_acc: 0.2089\n",
            "Epoch 5/8\n",
            "65/65 [==============================] - 10s 155ms/step - loss: 1.6990 - acc: 0.2788 - val_loss: 1.7925 - val_acc: 0.2035\n",
            "Epoch 6/8\n",
            "65/65 [==============================] - 10s 154ms/step - loss: 1.7066 - acc: 0.2671 - val_loss: 1.7803 - val_acc: 0.2025\n",
            "Epoch 7/8\n",
            "65/65 [==============================] - 10s 154ms/step - loss: 1.6425 - acc: 0.2865 - val_loss: 1.7723 - val_acc: 0.1971\n",
            "Epoch 8/8\n",
            "65/65 [==============================] - 10s 150ms/step - loss: 1.6508 - acc: 0.3021 - val_loss: 1.7752 - val_acc: 0.1998\n",
            "70/70 [==============================] - 5s 77ms/step - loss: 1.8045 - acc: 0.1692\n",
            "datapoints to be searched from this iteration and trained on 738 datapoints\n",
            "Epoch 1/8\n",
            "WARNING:tensorflow:Gradients do not exist for variables ['tf_bert_model_8/bert/pooler/dense/kernel:0', 'tf_bert_model_8/bert/pooler/dense/bias:0'] when minimizing the loss.\n",
            "WARNING:tensorflow:Gradients do not exist for variables ['tf_bert_model_8/bert/pooler/dense/kernel:0', 'tf_bert_model_8/bert/pooler/dense/bias:0'] when minimizing the loss.\n",
            "WARNING:tensorflow:Gradients do not exist for variables ['tf_bert_model_8/bert/pooler/dense/kernel:0', 'tf_bert_model_8/bert/pooler/dense/bias:0'] when minimizing the loss.\n",
            "WARNING:tensorflow:Gradients do not exist for variables ['tf_bert_model_8/bert/pooler/dense/kernel:0', 'tf_bert_model_8/bert/pooler/dense/bias:0'] when minimizing the loss.\n",
            "93/93 [==============================] - 15s 158ms/step - loss: 1.7796 - acc: 0.2317 - val_loss: 1.7351 - val_acc: 0.1953\n",
            "Epoch 2/8\n",
            "93/93 [==============================] - 12s 133ms/step - loss: 1.7337 - acc: 0.2304 - val_loss: 1.7125 - val_acc: 0.1953\n",
            "Epoch 3/8\n",
            "93/93 [==============================] - 12s 132ms/step - loss: 1.7291 - acc: 0.2263 - val_loss: 1.6983 - val_acc: 0.1980\n",
            "Epoch 4/8\n",
            "93/93 [==============================] - 12s 133ms/step - loss: 1.7314 - acc: 0.2046 - val_loss: 1.6899 - val_acc: 0.2016\n",
            "Epoch 5/8\n",
            "93/93 [==============================] - 12s 133ms/step - loss: 1.7189 - acc: 0.2141 - val_loss: 1.6783 - val_acc: 0.1989\n",
            "Epoch 6/8\n",
            "93/93 [==============================] - 12s 133ms/step - loss: 1.7252 - acc: 0.2087 - val_loss: 1.6749 - val_acc: 0.1962\n",
            "Epoch 7/8\n",
            "93/93 [==============================] - 12s 133ms/step - loss: 1.7215 - acc: 0.2087 - val_loss: 1.6701 - val_acc: 0.1989\n",
            "Epoch 8/8\n",
            "93/93 [==============================] - 12s 133ms/step - loss: 1.7189 - acc: 0.2236 - val_loss: 1.6659 - val_acc: 0.1998\n",
            "70/70 [==============================] - 5s 77ms/step - loss: 1.6859 - acc: 0.1801\n",
            "datapoints to be searched from this iteration and trained on 896 datapoints\n",
            "Epoch 1/8\n",
            "WARNING:tensorflow:Gradients do not exist for variables ['tf_bert_model_8/bert/pooler/dense/kernel:0', 'tf_bert_model_8/bert/pooler/dense/bias:0'] when minimizing the loss.\n",
            "WARNING:tensorflow:Gradients do not exist for variables ['tf_bert_model_8/bert/pooler/dense/kernel:0', 'tf_bert_model_8/bert/pooler/dense/bias:0'] when minimizing the loss.\n",
            "WARNING:tensorflow:Gradients do not exist for variables ['tf_bert_model_8/bert/pooler/dense/kernel:0', 'tf_bert_model_8/bert/pooler/dense/bias:0'] when minimizing the loss.\n",
            "WARNING:tensorflow:Gradients do not exist for variables ['tf_bert_model_8/bert/pooler/dense/kernel:0', 'tf_bert_model_8/bert/pooler/dense/bias:0'] when minimizing the loss.\n",
            "112/112 [==============================] - 15s 132ms/step - loss: 1.6781 - acc: 0.2522 - val_loss: 1.6684 - val_acc: 0.2025\n",
            "Epoch 2/8\n",
            "112/112 [==============================] - 13s 112ms/step - loss: 1.6731 - acc: 0.2634 - val_loss: 1.6663 - val_acc: 0.2016\n",
            "Epoch 3/8\n",
            "112/112 [==============================] - 13s 112ms/step - loss: 1.6525 - acc: 0.2612 - val_loss: 1.6657 - val_acc: 0.2025\n",
            "Epoch 4/8\n",
            "112/112 [==============================] - 13s 112ms/step - loss: 1.6684 - acc: 0.2545 - val_loss: 1.6645 - val_acc: 0.2035\n",
            "Epoch 5/8\n",
            "112/112 [==============================] - 13s 113ms/step - loss: 1.6381 - acc: 0.2656 - val_loss: 1.6629 - val_acc: 0.2035\n",
            "Epoch 6/8\n",
            "112/112 [==============================] - 12s 112ms/step - loss: 1.6620 - acc: 0.2656 - val_loss: 1.6593 - val_acc: 0.2007\n",
            "Epoch 7/8\n",
            "112/112 [==============================] - 12s 109ms/step - loss: 1.6335 - acc: 0.2790 - val_loss: 1.6612 - val_acc: 0.2016\n",
            "Epoch 8/8\n",
            "112/112 [==============================] - 13s 112ms/step - loss: 1.6467 - acc: 0.2522 - val_loss: 1.6588 - val_acc: 0.2016\n",
            "70/70 [==============================] - 5s 76ms/step - loss: 1.6859 - acc: 0.1833\n",
            "datapoints to be searched from this iteration and trained on 1032 datapoints\n",
            "Epoch 1/8\n",
            "WARNING:tensorflow:Gradients do not exist for variables ['tf_bert_model_8/bert/pooler/dense/kernel:0', 'tf_bert_model_8/bert/pooler/dense/bias:0'] when minimizing the loss.\n",
            "WARNING:tensorflow:Gradients do not exist for variables ['tf_bert_model_8/bert/pooler/dense/kernel:0', 'tf_bert_model_8/bert/pooler/dense/bias:0'] when minimizing the loss.\n",
            "WARNING:tensorflow:Gradients do not exist for variables ['tf_bert_model_8/bert/pooler/dense/kernel:0', 'tf_bert_model_8/bert/pooler/dense/bias:0'] when minimizing the loss.\n",
            "WARNING:tensorflow:Gradients do not exist for variables ['tf_bert_model_8/bert/pooler/dense/kernel:0', 'tf_bert_model_8/bert/pooler/dense/bias:0'] when minimizing the loss.\n",
            "129/129 [==============================] - 16s 123ms/step - loss: 1.6609 - acc: 0.2384 - val_loss: 1.6451 - val_acc: 0.1980\n",
            "Epoch 2/8\n",
            "129/129 [==============================] - 14s 107ms/step - loss: 1.6653 - acc: 0.2345 - val_loss: 1.6332 - val_acc: 0.2089\n",
            "Epoch 3/8\n",
            "129/129 [==============================] - 14s 106ms/step - loss: 1.6581 - acc: 0.2316 - val_loss: 1.6277 - val_acc: 0.2080\n",
            "Epoch 4/8\n",
            "129/129 [==============================] - 14s 106ms/step - loss: 1.6599 - acc: 0.2248 - val_loss: 1.6206 - val_acc: 0.2062\n",
            "Epoch 5/8\n",
            "129/129 [==============================] - 14s 106ms/step - loss: 1.6561 - acc: 0.2277 - val_loss: 1.6165 - val_acc: 0.2080\n",
            "Epoch 6/8\n",
            "129/129 [==============================] - 14s 106ms/step - loss: 1.6490 - acc: 0.2238 - val_loss: 1.6129 - val_acc: 0.2116\n",
            "Epoch 7/8\n",
            "129/129 [==============================] - 14s 106ms/step - loss: 1.6282 - acc: 0.2548 - val_loss: 1.6095 - val_acc: 0.2144\n",
            "Epoch 8/8\n",
            "129/129 [==============================] - 14s 106ms/step - loss: 1.6261 - acc: 0.2558 - val_loss: 1.6066 - val_acc: 0.2180\n",
            "70/70 [==============================] - 5s 77ms/step - loss: 1.6273 - acc: 0.1905\n",
            "datapoints to be searched from this iteration and trained on 1230 datapoints\n",
            "Epoch 1/8\n",
            "WARNING:tensorflow:Gradients do not exist for variables ['tf_bert_model_8/bert/pooler/dense/kernel:0', 'tf_bert_model_8/bert/pooler/dense/bias:0'] when minimizing the loss.\n",
            "WARNING:tensorflow:Gradients do not exist for variables ['tf_bert_model_8/bert/pooler/dense/kernel:0', 'tf_bert_model_8/bert/pooler/dense/bias:0'] when minimizing the loss.\n",
            "WARNING:tensorflow:Gradients do not exist for variables ['tf_bert_model_8/bert/pooler/dense/kernel:0', 'tf_bert_model_8/bert/pooler/dense/bias:0'] when minimizing the loss.\n",
            "WARNING:tensorflow:Gradients do not exist for variables ['tf_bert_model_8/bert/pooler/dense/kernel:0', 'tf_bert_model_8/bert/pooler/dense/bias:0'] when minimizing the loss.\n",
            "154/154 [==============================] - 20s 128ms/step - loss: 1.6581 - acc: 0.2268 - val_loss: 1.5971 - val_acc: 0.2171\n",
            "Epoch 2/8\n",
            "154/154 [==============================] - 17s 113ms/step - loss: 1.6399 - acc: 0.2293 - val_loss: 1.5898 - val_acc: 0.2207\n",
            "Epoch 3/8\n",
            "154/154 [==============================] - 17s 113ms/step - loss: 1.6191 - acc: 0.2285 - val_loss: 1.5851 - val_acc: 0.2243\n",
            "Epoch 4/8\n",
            "154/154 [==============================] - 17s 113ms/step - loss: 1.6336 - acc: 0.2480 - val_loss: 1.5797 - val_acc: 0.2234\n",
            "Epoch 5/8\n",
            "154/154 [==============================] - 17s 113ms/step - loss: 1.6305 - acc: 0.2114 - val_loss: 1.5774 - val_acc: 0.2234\n",
            "Epoch 6/8\n",
            "154/154 [==============================] - 17s 113ms/step - loss: 1.6358 - acc: 0.2236 - val_loss: 1.5729 - val_acc: 0.2262\n",
            "Epoch 7/8\n",
            "154/154 [==============================] - 18s 115ms/step - loss: 1.6386 - acc: 0.2309 - val_loss: 1.5683 - val_acc: 0.2380\n",
            "Epoch 8/8\n",
            "154/154 [==============================] - 17s 113ms/step - loss: 1.6335 - acc: 0.2350 - val_loss: 1.5653 - val_acc: 0.2361\n",
            "70/70 [==============================] - 5s 77ms/step - loss: 1.5856 - acc: 0.2308\n",
            "0.23076923191547394\n"
          ],
          "name": "stdout"
        },
        {
          "output_type": "display_data",
          "data": {
            "image/png": "[encoded data removed]",
            "text/plain": [
              "<Figure size 432x288 with 1 Axes>"
            ]
          },
          "metadata": {
            "tags": [],
            "needs_background": "light"
          }
        }
      ]
    },
    {
      "cell_type": "code",
      "metadata": {
        "id": "frbHveij8AzC"
      },
      "source": [
        ""
      ],
      "execution_count": null,
      "outputs": []
    },
    {
      "cell_type": "code",
      "metadata": {
        "id": "G2c-q4Up2UDU",
        "outputId": "0df7f2f1-fafa-486d-db68-07a6e8c16898",
        "colab": {
          "base_uri": "https://localhost:8080/",
          "height": 52
        }
      },
      "source": [
        "growth_list"
      ],
      "execution_count": null,
      "outputs": [
        {
          "output_type": "execute_result",
          "data": {
            "text/plain": [
              "array([[0.16968326, 0.17782806, 0.18506788, 0.19547512, 0.23303168],\n",
              "       [0.16923077, 0.1800905 , 0.18325792, 0.19049774, 0.23076923]])"
            ]
          },
          "metadata": {
            "tags": []
          },
          "execution_count": 61
        }
      ]
    },
    {
      "cell_type": "code",
      "metadata": {
        "id": "NqgQGVjdDUIz",
        "outputId": "df471ab2-edd3-41be-a786-e9773e5ab34f",
        "colab": {
          "base_uri": "https://localhost:8080/",
          "height": 52
        }
      },
      "source": [
        "growth_list"
      ],
      "execution_count": null,
      "outputs": [
        {
          "output_type": "execute_result",
          "data": {
            "text/plain": [
              "array([[0.16968326, 0.17782806, 0.18506788, 0.19547512, 0.23303168],\n",
              "       [0.16923077, 0.1800905 , 0.18325792, 0.19049774, 0.23076923]])"
            ]
          },
          "metadata": {
            "tags": []
          },
          "execution_count": 62
        }
      ]
    },
    {
      "cell_type": "markdown",
      "metadata": {
        "id": "MvfLNW32_fWf"
      },
      "source": [
        "###### Training More like the original Paper"
      ]
    },
    {
      "cell_type": "markdown",
      "metadata": {
        "id": "VcIoKyeOVv_k"
      },
      "source": [
        "Which is to train on all sets for 1 epoch followed by combined training untill saturation"
      ]
    },
    {
      "cell_type": "code",
      "metadata": {
        "id": "llF8Gzy4_lwf",
        "outputId": "9e1b7cce-75a8-49e5-a3fc-0872cfd63d86",
        "colab": {
          "base_uri": "https://localhost:8080/",
          "height": 1000
        }
      },
      "source": [
        "newsets_updated = deepcopy(newsets)\n",
        "newsets_updated.append(sorted_indices)# End with the whole data\n",
        "print([len(i) for i in newsets_updated])\n",
        "seed=0\n",
        "Batch_size=1600\n",
        "growth_list=[]\n",
        "for nn in np.arange(2):\n",
        "  growth=[]\n",
        "  newa=[]\n",
        "  newb=[]\n",
        "  newc=[]\n",
        "  newy=[]\n",
        "  model1,atten_model1=bert_model(T)\n",
        "  for iter,batch_ind in enumerate(newsets_updated):\n",
        "    a = indexer(train_input_ids,batch_ind)\n",
        "    b = indexer(train_attention_masks,batch_ind)\n",
        "    c = indexer(train_token_type_ids,batch_ind)\n",
        "    y = indexer(train_labels_categorical,batch_ind)\n",
        "    print(\"datapoints to be searched from this iteration and trained on\",len(a),\"datapoints\")\n",
        "    ####\n",
        "    tf.random.set_seed(seed) \n",
        "    random.seed(seed)\n",
        "    np.random.seed(seed)\n",
        "    if len(a)!=len(sorted_indices):\n",
        "      model1,history = fit_model([np.array(a),np.array(b),np.array(c)],np.array(y),model1,verbose=1,epochs=1)\n",
        "    else:\n",
        "      model1,history = fit_model([np.array(a),np.array(b),np.array(c)],np.array(y),model1,verbose=1,epochs=25)\n",
        "    ###\n",
        "    growth.append(model1.evaluate([test_input_ids, test_attention_masks, test_token_type_ids],test_labels_categorical)[1])\n",
        "  plt.plot(growth)\n",
        "  growth_list.append(growth)\n",
        "  plt.hlines(NC,0, len(growth))\n",
        "  print(growth[-1])\n",
        "growth_list=np.array(growth_list)\n",
        "plt.show()"
      ],
      "execution_count": null,
      "outputs": [
        {
          "output_type": "stream",
          "text": [
            "[513, 738, 896, 1032, 1230, 8544]\n",
            "datapoints to be searched from this iteration and trained on 513 datapoints\n",
            "WARNING:tensorflow:Gradients do not exist for variables ['tf_bert_model_9/bert/pooler/dense/kernel:0', 'tf_bert_model_9/bert/pooler/dense/bias:0'] when minimizing the loss.\n",
            "WARNING:tensorflow:Gradients do not exist for variables ['tf_bert_model_9/bert/pooler/dense/kernel:0', 'tf_bert_model_9/bert/pooler/dense/bias:0'] when minimizing the loss.\n",
            "WARNING:tensorflow:Gradients do not exist for variables ['tf_bert_model_9/bert/pooler/dense/kernel:0', 'tf_bert_model_9/bert/pooler/dense/bias:0'] when minimizing the loss.\n",
            "WARNING:tensorflow:Gradients do not exist for variables ['tf_bert_model_9/bert/pooler/dense/kernel:0', 'tf_bert_model_9/bert/pooler/dense/bias:0'] when minimizing the loss.\n",
            "65/65 [==============================] - 12s 191ms/step - loss: 2.0182 - acc: 0.3060 - val_loss: 2.0550 - val_acc: 0.2044\n",
            "70/70 [==============================] - 5s 77ms/step - loss: 2.0929 - acc: 0.1719\n",
            "datapoints to be searched from this iteration and trained on 738 datapoints\n",
            "WARNING:tensorflow:Gradients do not exist for variables ['tf_bert_model_9/bert/pooler/dense/kernel:0', 'tf_bert_model_9/bert/pooler/dense/bias:0'] when minimizing the loss.\n",
            "WARNING:tensorflow:Gradients do not exist for variables ['tf_bert_model_9/bert/pooler/dense/kernel:0', 'tf_bert_model_9/bert/pooler/dense/bias:0'] when minimizing the loss.\n",
            "WARNING:tensorflow:Gradients do not exist for variables ['tf_bert_model_9/bert/pooler/dense/kernel:0', 'tf_bert_model_9/bert/pooler/dense/bias:0'] when minimizing the loss.\n",
            "WARNING:tensorflow:Gradients do not exist for variables ['tf_bert_model_9/bert/pooler/dense/kernel:0', 'tf_bert_model_9/bert/pooler/dense/bias:0'] when minimizing the loss.\n",
            "93/93 [==============================] - 15s 157ms/step - loss: 1.9186 - acc: 0.2480 - val_loss: 1.8330 - val_acc: 0.2025\n",
            "70/70 [==============================] - 5s 77ms/step - loss: 1.8612 - acc: 0.1706\n",
            "datapoints to be searched from this iteration and trained on 896 datapoints\n",
            "WARNING:tensorflow:Gradients do not exist for variables ['tf_bert_model_9/bert/pooler/dense/kernel:0', 'tf_bert_model_9/bert/pooler/dense/bias:0'] when minimizing the loss.\n",
            "WARNING:tensorflow:Gradients do not exist for variables ['tf_bert_model_9/bert/pooler/dense/kernel:0', 'tf_bert_model_9/bert/pooler/dense/bias:0'] when minimizing the loss.\n",
            "WARNING:tensorflow:Gradients do not exist for variables ['tf_bert_model_9/bert/pooler/dense/kernel:0', 'tf_bert_model_9/bert/pooler/dense/bias:0'] when minimizing the loss.\n",
            "WARNING:tensorflow:Gradients do not exist for variables ['tf_bert_model_9/bert/pooler/dense/kernel:0', 'tf_bert_model_9/bert/pooler/dense/bias:0'] when minimizing the loss.\n",
            "112/112 [==============================] - 15s 132ms/step - loss: 1.7596 - acc: 0.2779 - val_loss: 1.7535 - val_acc: 0.2044\n",
            "70/70 [==============================] - 5s 77ms/step - loss: 1.7804 - acc: 0.1729\n",
            "datapoints to be searched from this iteration and trained on 1032 datapoints\n",
            "WARNING:tensorflow:Gradients do not exist for variables ['tf_bert_model_9/bert/pooler/dense/kernel:0', 'tf_bert_model_9/bert/pooler/dense/bias:0'] when minimizing the loss.\n",
            "WARNING:tensorflow:Gradients do not exist for variables ['tf_bert_model_9/bert/pooler/dense/kernel:0', 'tf_bert_model_9/bert/pooler/dense/bias:0'] when minimizing the loss.\n",
            "WARNING:tensorflow:Gradients do not exist for variables ['tf_bert_model_9/bert/pooler/dense/kernel:0', 'tf_bert_model_9/bert/pooler/dense/bias:0'] when minimizing the loss.\n",
            "WARNING:tensorflow:Gradients do not exist for variables ['tf_bert_model_9/bert/pooler/dense/kernel:0', 'tf_bert_model_9/bert/pooler/dense/bias:0'] when minimizing the loss.\n",
            "129/129 [==============================] - 16s 124ms/step - loss: 1.7319 - acc: 0.2171 - val_loss: 1.6900 - val_acc: 0.2189\n",
            "70/70 [==============================] - 5s 77ms/step - loss: 1.7145 - acc: 0.1787\n",
            "datapoints to be searched from this iteration and trained on 1230 datapoints\n",
            "WARNING:tensorflow:Gradients do not exist for variables ['tf_bert_model_9/bert/pooler/dense/kernel:0', 'tf_bert_model_9/bert/pooler/dense/bias:0'] when minimizing the loss.\n",
            "WARNING:tensorflow:Gradients do not exist for variables ['tf_bert_model_9/bert/pooler/dense/kernel:0', 'tf_bert_model_9/bert/pooler/dense/bias:0'] when minimizing the loss.\n",
            "WARNING:tensorflow:Gradients do not exist for variables ['tf_bert_model_9/bert/pooler/dense/kernel:0', 'tf_bert_model_9/bert/pooler/dense/bias:0'] when minimizing the loss.\n",
            "WARNING:tensorflow:Gradients do not exist for variables ['tf_bert_model_9/bert/pooler/dense/kernel:0', 'tf_bert_model_9/bert/pooler/dense/bias:0'] when minimizing the loss.\n",
            "154/154 [==============================] - 20s 128ms/step - loss: 1.7443 - acc: 0.2016 - val_loss: 1.6462 - val_acc: 0.2153\n",
            "70/70 [==============================] - 5s 77ms/step - loss: 1.6688 - acc: 0.1878\n",
            "datapoints to be searched from this iteration and trained on 8544 datapoints\n",
            "Epoch 1/25\n",
            "WARNING:tensorflow:Gradients do not exist for variables ['tf_bert_model_9/bert/pooler/dense/kernel:0', 'tf_bert_model_9/bert/pooler/dense/bias:0'] when minimizing the loss.\n",
            "WARNING:tensorflow:Gradients do not exist for variables ['tf_bert_model_9/bert/pooler/dense/kernel:0', 'tf_bert_model_9/bert/pooler/dense/bias:0'] when minimizing the loss.\n",
            "WARNING:tensorflow:Gradients do not exist for variables ['tf_bert_model_9/bert/pooler/dense/kernel:0', 'tf_bert_model_9/bert/pooler/dense/bias:0'] when minimizing the loss.\n",
            "WARNING:tensorflow:Gradients do not exist for variables ['tf_bert_model_9/bert/pooler/dense/kernel:0', 'tf_bert_model_9/bert/pooler/dense/bias:0'] when minimizing the loss.\n",
            "1068/1068 [==============================] - 81s 76ms/step - loss: 1.6271 - acc: 0.2589 - val_loss: 1.5667 - val_acc: 0.3079\n",
            "Epoch 2/25\n",
            "1068/1068 [==============================] - 79s 74ms/step - loss: 1.5840 - acc: 0.2844 - val_loss: 1.5346 - val_acc: 0.3252\n",
            "Epoch 3/25\n",
            "1068/1068 [==============================] - 79s 74ms/step - loss: 1.5611 - acc: 0.3018 - val_loss: 1.5089 - val_acc: 0.3424\n",
            "Epoch 4/25\n",
            "1068/1068 [==============================] - 79s 74ms/step - loss: 1.5295 - acc: 0.3246 - val_loss: 1.4836 - val_acc: 0.3688\n",
            "Epoch 5/25\n",
            "1068/1068 [==============================] - 79s 74ms/step - loss: 1.4991 - acc: 0.3489 - val_loss: 1.4580 - val_acc: 0.3787\n",
            "Epoch 6/25\n",
            "1068/1068 [==============================] - 79s 74ms/step - loss: 1.4735 - acc: 0.3621 - val_loss: 1.4260 - val_acc: 0.3933\n",
            "Epoch 7/25\n",
            "1068/1068 [==============================] - 79s 74ms/step - loss: 1.4456 - acc: 0.3765 - val_loss: 1.3962 - val_acc: 0.4160\n",
            "Epoch 8/25\n",
            "1068/1068 [==============================] - 79s 74ms/step - loss: 1.4148 - acc: 0.3922 - val_loss: 1.3658 - val_acc: 0.4169\n",
            "Epoch 9/25\n",
            "1068/1068 [==============================] - 79s 74ms/step - loss: 1.3755 - acc: 0.4079 - val_loss: 1.3384 - val_acc: 0.4251\n",
            "Epoch 10/25\n",
            "1068/1068 [==============================] - 79s 74ms/step - loss: 1.3449 - acc: 0.4209 - val_loss: 1.3130 - val_acc: 0.4396\n",
            "Epoch 11/25\n",
            "1068/1068 [==============================] - 79s 74ms/step - loss: 1.3162 - acc: 0.4293 - val_loss: 1.2942 - val_acc: 0.4360\n",
            "Epoch 12/25\n",
            "1068/1068 [==============================] - 79s 74ms/step - loss: 1.2973 - acc: 0.4386 - val_loss: 1.2762 - val_acc: 0.4378\n",
            "Epoch 13/25\n",
            "1068/1068 [==============================] - 79s 74ms/step - loss: 1.2776 - acc: 0.4423 - val_loss: 1.2650 - val_acc: 0.4405\n",
            "Epoch 14/25\n",
            "1068/1068 [==============================] - 79s 74ms/step - loss: 1.2573 - acc: 0.4507 - val_loss: 1.2529 - val_acc: 0.4332\n",
            "Epoch 15/25\n",
            "1068/1068 [==============================] - 79s 74ms/step - loss: 1.2364 - acc: 0.4548 - val_loss: 1.2425 - val_acc: 0.4423\n",
            "Epoch 16/25\n",
            "1068/1068 [==============================] - 79s 74ms/step - loss: 1.2260 - acc: 0.4613 - val_loss: 1.2340 - val_acc: 0.4405\n",
            "Epoch 17/25\n",
            "1068/1068 [==============================] - 79s 74ms/step - loss: 1.2144 - acc: 0.4659 - val_loss: 1.2310 - val_acc: 0.4450\n",
            "Epoch 18/25\n",
            "1068/1068 [==============================] - 79s 74ms/step - loss: 1.2174 - acc: 0.4693 - val_loss: 1.2217 - val_acc: 0.4469\n",
            "Epoch 19/25\n",
            "1068/1068 [==============================] - 79s 74ms/step - loss: 1.1996 - acc: 0.4744 - val_loss: 1.2189 - val_acc: 0.4487\n",
            "Epoch 20/25\n",
            "1068/1068 [==============================] - 79s 74ms/step - loss: 1.1925 - acc: 0.4796 - val_loss: 1.2161 - val_acc: 0.4514\n",
            "Epoch 21/25\n",
            "1068/1068 [==============================] - 79s 74ms/step - loss: 1.1840 - acc: 0.4730 - val_loss: 1.2139 - val_acc: 0.4559\n",
            "Epoch 22/25\n",
            "1068/1068 [==============================] - 79s 74ms/step - loss: 1.1809 - acc: 0.4803 - val_loss: 1.2117 - val_acc: 0.4550\n",
            "Epoch 23/25\n",
            "1068/1068 [==============================] - 79s 74ms/step - loss: 1.1700 - acc: 0.4848 - val_loss: 1.2075 - val_acc: 0.4596\n",
            "Epoch 24/25\n",
            "1068/1068 [==============================] - 79s 74ms/step - loss: 1.1627 - acc: 0.4895 - val_loss: 1.2063 - val_acc: 0.4578\n",
            "Epoch 25/25\n",
            "1068/1068 [==============================] - 79s 74ms/step - loss: 1.1631 - acc: 0.4851 - val_loss: 1.2019 - val_acc: 0.4659\n",
            "70/70 [==============================] - 6s 79ms/step - loss: 1.1582 - acc: 0.4955\n",
            "0.4954751133918762\n",
            "datapoints to be searched from this iteration and trained on 513 datapoints\n",
            "WARNING:tensorflow:Gradients do not exist for variables ['tf_bert_model_10/bert/pooler/dense/kernel:0', 'tf_bert_model_10/bert/pooler/dense/bias:0'] when minimizing the loss.\n",
            "WARNING:tensorflow:Gradients do not exist for variables ['tf_bert_model_10/bert/pooler/dense/kernel:0', 'tf_bert_model_10/bert/pooler/dense/bias:0'] when minimizing the loss.\n",
            "WARNING:tensorflow:Gradients do not exist for variables ['tf_bert_model_10/bert/pooler/dense/kernel:0', 'tf_bert_model_10/bert/pooler/dense/bias:0'] when minimizing the loss.\n",
            "WARNING:tensorflow:Gradients do not exist for variables ['tf_bert_model_10/bert/pooler/dense/kernel:0', 'tf_bert_model_10/bert/pooler/dense/bias:0'] when minimizing the loss.\n",
            "65/65 [==============================] - 13s 207ms/step - loss: 2.0624 - acc: 0.3138 - val_loss: 2.1893 - val_acc: 0.2062\n",
            "70/70 [==============================] - 5s 77ms/step - loss: 2.2319 - acc: 0.1742\n",
            "datapoints to be searched from this iteration and trained on 738 datapoints\n",
            "WARNING:tensorflow:Gradients do not exist for variables ['tf_bert_model_10/bert/pooler/dense/kernel:0', 'tf_bert_model_10/bert/pooler/dense/bias:0'] when minimizing the loss.\n",
            "WARNING:tensorflow:Gradients do not exist for variables ['tf_bert_model_10/bert/pooler/dense/kernel:0', 'tf_bert_model_10/bert/pooler/dense/bias:0'] when minimizing the loss.\n",
            "WARNING:tensorflow:Gradients do not exist for variables ['tf_bert_model_10/bert/pooler/dense/kernel:0', 'tf_bert_model_10/bert/pooler/dense/bias:0'] when minimizing the loss.\n",
            "WARNING:tensorflow:Gradients do not exist for variables ['tf_bert_model_10/bert/pooler/dense/kernel:0', 'tf_bert_model_10/bert/pooler/dense/bias:0'] when minimizing the loss.\n",
            "93/93 [==============================] - 15s 158ms/step - loss: 2.0202 - acc: 0.2642 - val_loss: 1.9988 - val_acc: 0.2035\n",
            "70/70 [==============================] - 5s 77ms/step - loss: 2.0335 - acc: 0.1715\n",
            "datapoints to be searched from this iteration and trained on 896 datapoints\n",
            "WARNING:tensorflow:Gradients do not exist for variables ['tf_bert_model_10/bert/pooler/dense/kernel:0', 'tf_bert_model_10/bert/pooler/dense/bias:0'] when minimizing the loss.\n",
            "WARNING:tensorflow:Gradients do not exist for variables ['tf_bert_model_10/bert/pooler/dense/kernel:0', 'tf_bert_model_10/bert/pooler/dense/bias:0'] when minimizing the loss.\n",
            "WARNING:tensorflow:Gradients do not exist for variables ['tf_bert_model_10/bert/pooler/dense/kernel:0', 'tf_bert_model_10/bert/pooler/dense/bias:0'] when minimizing the loss.\n",
            "WARNING:tensorflow:Gradients do not exist for variables ['tf_bert_model_10/bert/pooler/dense/kernel:0', 'tf_bert_model_10/bert/pooler/dense/bias:0'] when minimizing the loss.\n",
            "112/112 [==============================] - 15s 132ms/step - loss: 1.8431 - acc: 0.2846 - val_loss: 1.8910 - val_acc: 0.2035\n",
            "70/70 [==============================] - 5s 77ms/step - loss: 1.9225 - acc: 0.1729\n",
            "datapoints to be searched from this iteration and trained on 1032 datapoints\n",
            "WARNING:tensorflow:Gradients do not exist for variables ['tf_bert_model_10/bert/pooler/dense/kernel:0', 'tf_bert_model_10/bert/pooler/dense/bias:0'] when minimizing the loss.\n",
            "WARNING:tensorflow:Gradients do not exist for variables ['tf_bert_model_10/bert/pooler/dense/kernel:0', 'tf_bert_model_10/bert/pooler/dense/bias:0'] when minimizing the loss.\n",
            "WARNING:tensorflow:Gradients do not exist for variables ['tf_bert_model_10/bert/pooler/dense/kernel:0', 'tf_bert_model_10/bert/pooler/dense/bias:0'] when minimizing the loss.\n",
            "WARNING:tensorflow:Gradients do not exist for variables ['tf_bert_model_10/bert/pooler/dense/kernel:0', 'tf_bert_model_10/bert/pooler/dense/bias:0'] when minimizing the loss.\n",
            "129/129 [==============================] - 16s 124ms/step - loss: 1.8080 - acc: 0.2413 - val_loss: 1.7961 - val_acc: 0.2044\n",
            "70/70 [==============================] - 5s 77ms/step - loss: 1.8243 - acc: 0.1706\n",
            "datapoints to be searched from this iteration and trained on 1230 datapoints\n",
            "WARNING:tensorflow:Gradients do not exist for variables ['tf_bert_model_10/bert/pooler/dense/kernel:0', 'tf_bert_model_10/bert/pooler/dense/bias:0'] when minimizing the loss.\n",
            "WARNING:tensorflow:Gradients do not exist for variables ['tf_bert_model_10/bert/pooler/dense/kernel:0', 'tf_bert_model_10/bert/pooler/dense/bias:0'] when minimizing the loss.\n",
            "WARNING:tensorflow:Gradients do not exist for variables ['tf_bert_model_10/bert/pooler/dense/kernel:0', 'tf_bert_model_10/bert/pooler/dense/bias:0'] when minimizing the loss.\n",
            "WARNING:tensorflow:Gradients do not exist for variables ['tf_bert_model_10/bert/pooler/dense/kernel:0', 'tf_bert_model_10/bert/pooler/dense/bias:0'] when minimizing the loss.\n",
            "154/154 [==============================] - 20s 129ms/step - loss: 1.8180 - acc: 0.2146 - val_loss: 1.7194 - val_acc: 0.2180\n",
            "70/70 [==============================] - 5s 77ms/step - loss: 1.7446 - acc: 0.1774\n",
            "datapoints to be searched from this iteration and trained on 8544 datapoints\n",
            "Epoch 1/25\n",
            "WARNING:tensorflow:Gradients do not exist for variables ['tf_bert_model_10/bert/pooler/dense/kernel:0', 'tf_bert_model_10/bert/pooler/dense/bias:0'] when minimizing the loss.\n",
            "WARNING:tensorflow:Gradients do not exist for variables ['tf_bert_model_10/bert/pooler/dense/kernel:0', 'tf_bert_model_10/bert/pooler/dense/bias:0'] when minimizing the loss.\n",
            "WARNING:tensorflow:Gradients do not exist for variables ['tf_bert_model_10/bert/pooler/dense/kernel:0', 'tf_bert_model_10/bert/pooler/dense/bias:0'] when minimizing the loss.\n",
            "WARNING:tensorflow:Gradients do not exist for variables ['tf_bert_model_10/bert/pooler/dense/kernel:0', 'tf_bert_model_10/bert/pooler/dense/bias:0'] when minimizing the loss.\n",
            "1068/1068 [==============================] - 81s 76ms/step - loss: 1.6639 - acc: 0.2367 - val_loss: 1.5927 - val_acc: 0.2761\n",
            "Epoch 2/25\n",
            "1068/1068 [==============================] - 79s 74ms/step - loss: 1.6148 - acc: 0.2651 - val_loss: 1.5694 - val_acc: 0.2952\n",
            "Epoch 3/25\n",
            "1068/1068 [==============================] - 79s 74ms/step - loss: 1.6001 - acc: 0.2755 - val_loss: 1.5519 - val_acc: 0.3134\n",
            "Epoch 4/25\n",
            "1068/1068 [==============================] - 79s 74ms/step - loss: 1.5773 - acc: 0.2952 - val_loss: 1.5359 - val_acc: 0.3270\n",
            "Epoch 5/25\n",
            "1068/1068 [==============================] - 79s 74ms/step - loss: 1.5570 - acc: 0.3106 - val_loss: 1.5216 - val_acc: 0.3433\n",
            "Epoch 6/25\n",
            "1068/1068 [==============================] - 79s 74ms/step - loss: 1.5443 - acc: 0.3179 - val_loss: 1.5047 - val_acc: 0.3460\n",
            "Epoch 7/25\n",
            "1068/1068 [==============================] - 79s 74ms/step - loss: 1.5314 - acc: 0.3296 - val_loss: 1.4885 - val_acc: 0.3569\n",
            "Epoch 8/25\n",
            "1068/1068 [==============================] - 79s 74ms/step - loss: 1.5173 - acc: 0.3352 - val_loss: 1.4722 - val_acc: 0.3715\n",
            "Epoch 9/25\n",
            "1068/1068 [==============================] - 79s 74ms/step - loss: 1.4950 - acc: 0.3500 - val_loss: 1.4562 - val_acc: 0.3806\n",
            "Epoch 10/25\n",
            "1068/1068 [==============================] - 79s 74ms/step - loss: 1.4744 - acc: 0.3607 - val_loss: 1.4384 - val_acc: 0.3860\n",
            "Epoch 11/25\n",
            "1068/1068 [==============================] - 79s 74ms/step - loss: 1.4590 - acc: 0.3725 - val_loss: 1.4209 - val_acc: 0.3996\n",
            "Epoch 12/25\n",
            "1068/1068 [==============================] - 79s 74ms/step - loss: 1.4438 - acc: 0.3738 - val_loss: 1.4032 - val_acc: 0.4069\n",
            "Epoch 13/25\n",
            "1068/1068 [==============================] - 79s 74ms/step - loss: 1.4248 - acc: 0.3858 - val_loss: 1.3863 - val_acc: 0.4114\n",
            "Epoch 14/25\n",
            "1068/1068 [==============================] - 79s 74ms/step - loss: 1.4040 - acc: 0.4031 - val_loss: 1.3680 - val_acc: 0.4187\n",
            "Epoch 15/25\n",
            "1068/1068 [==============================] - 79s 74ms/step - loss: 1.3788 - acc: 0.4064 - val_loss: 1.3505 - val_acc: 0.4187\n",
            "Epoch 16/25\n",
            "1068/1068 [==============================] - 79s 74ms/step - loss: 1.3612 - acc: 0.4125 - val_loss: 1.3343 - val_acc: 0.4296\n",
            "Epoch 17/25\n",
            "1068/1068 [==============================] - 79s 74ms/step - loss: 1.3458 - acc: 0.4180 - val_loss: 1.3206 - val_acc: 0.4369\n",
            "Epoch 18/25\n",
            "1068/1068 [==============================] - 79s 74ms/step - loss: 1.3364 - acc: 0.4260 - val_loss: 1.3049 - val_acc: 0.4432\n",
            "Epoch 19/25\n",
            "1068/1068 [==============================] - 79s 74ms/step - loss: 1.3106 - acc: 0.4375 - val_loss: 1.2941 - val_acc: 0.4369\n",
            "Epoch 20/25\n",
            "1068/1068 [==============================] - 79s 74ms/step - loss: 1.3002 - acc: 0.4355 - val_loss: 1.2837 - val_acc: 0.4351\n",
            "Epoch 21/25\n",
            "1068/1068 [==============================] - 79s 74ms/step - loss: 1.2845 - acc: 0.4366 - val_loss: 1.2760 - val_acc: 0.4378\n",
            "Epoch 22/25\n",
            "1068/1068 [==============================] - 79s 74ms/step - loss: 1.2771 - acc: 0.4389 - val_loss: 1.2682 - val_acc: 0.4387\n",
            "Epoch 23/25\n",
            "1068/1068 [==============================] - 79s 74ms/step - loss: 1.2623 - acc: 0.4522 - val_loss: 1.2600 - val_acc: 0.4396\n",
            "Epoch 24/25\n",
            "1068/1068 [==============================] - 79s 74ms/step - loss: 1.2514 - acc: 0.4572 - val_loss: 1.2541 - val_acc: 0.4342\n",
            "Epoch 25/25\n",
            "1068/1068 [==============================] - 79s 74ms/step - loss: 1.2495 - acc: 0.4528 - val_loss: 1.2472 - val_acc: 0.4378\n",
            "70/70 [==============================] - 5s 77ms/step - loss: 1.2138 - acc: 0.4787\n",
            "0.47873303294181824\n"
          ],
          "name": "stdout"
        },
        {
          "output_type": "display_data",
          "data": {
            "image/png": "[encoded data removed]",
            "text/plain": [
              "<Figure size 432x288 with 1 Axes>"
            ]
          },
          "metadata": {
            "tags": [],
            "needs_background": "light"
          }
        }
      ]
    },
    {
      "cell_type": "code",
      "metadata": {
        "id": "ahWhxygEFJnk",
        "outputId": "32969b54-3962-4fc4-b141-b7ab6ff666f4",
        "colab": {
          "base_uri": "https://localhost:8080/",
          "height": 86
        }
      },
      "source": [
        "growth_list"
      ],
      "execution_count": null,
      "outputs": [
        {
          "output_type": "execute_result",
          "data": {
            "text/plain": [
              "array([[0.17194571, 0.17058824, 0.17285068, 0.17873304, 0.18778281,\n",
              "        0.49547511],\n",
              "       [0.17420815, 0.17149322, 0.17285068, 0.17058824, 0.17737557,\n",
              "        0.47873303]])"
            ]
          },
          "metadata": {
            "tags": []
          },
          "execution_count": 64
        }
      ]
    },
    {
      "cell_type": "markdown",
      "metadata": {
        "id": "M1IY2OXgmJ7H"
      },
      "source": [
        "##### Annealing Updated (New Idea 1)"
      ]
    },
    {
      "cell_type": "markdown",
      "metadata": {
        "id": "WH3E3C5CmJ7P"
      },
      "source": [
        "###### Create NewSet"
      ]
    },
    {
      "cell_type": "code",
      "metadata": {
        "id": "xfbrixnymJ7P"
      },
      "source": [
        "from itertools import islice\n",
        "from itertools import accumulate  \n",
        "newsets=[]\n",
        "\n",
        "n=5\n",
        "\n",
        "arr=sorted_indices\n",
        "ratios=np.arange(n)[::-1] + 1\n",
        "new_ratios = ((np.array(ratios)/sum(ratios))*len(arr)).astype(np.int32)\n",
        "diff = np.abs(len(arr) - sum(new_ratios))\n",
        "new_ratios[-1 ] = new_ratios[-1 ] + diff\n",
        "length_to_split = list(new_ratios)\n",
        "print(diff,length_to_split)\n",
        "#\n",
        "\n",
        "big_sets = [arr[x - y: x] for x, y in zip(accumulate(length_to_split), length_to_split)]\n",
        "all_sets = np.array([np.array_split(np.random.permutation(d),n-i) for i,d in enumerate(big_sets)])\n",
        "all_sets[:4]\n",
        "for it1 in np.arange(n):\n",
        "  newitem=[]\n",
        "  for it2 in np.arange(it1+1):\n",
        "    #print(it1-it2,it2)\n",
        "    newitem = newitem+ list(all_sets[it1-it2][it2])\n",
        "  #print(\"-----\")\n",
        "  newsets.append(newitem)\n",
        "assert len(set.intersection(*map(set,newsets))) == 0\n",
        "print([len(i) for i in newsets])"
      ],
      "execution_count": null,
      "outputs": []
    },
    {
      "cell_type": "markdown",
      "metadata": {
        "id": "EuuY93O-mJ7R"
      },
      "source": [
        "###### Training all Equal epochs"
      ]
    },
    {
      "cell_type": "code",
      "metadata": {
        "id": "29bFyJGKmJ7R"
      },
      "source": [
        "seed=1\n",
        "growth_list=[]\n",
        "for nn in np.arange(2):\n",
        "  growth=[]\n",
        "  newa=[]\n",
        "  newb=[]\n",
        "  newc=[]\n",
        "  newy=[]\n",
        "  model1,atten_model1=bert_model(T)\n",
        "  for iter,batch_ind in enumerate(newsets):\n",
        "    a = indexer(train_input_ids,batch_ind)\n",
        "    b = indexer(train_attention_masks,batch_ind)\n",
        "    c = indexer(train_token_type_ids,batch_ind)\n",
        "    y = indexer(train_labels_categorical,batch_ind)\n",
        "    print(\"datapoints to be searched from this iteration and trained on\",len(a),\"datapoints\")\n",
        "    ####\n",
        "    tf.random.set_seed(seed) \n",
        "    random.seed(seed)\n",
        "    np.random.seed(seed)\n",
        "    model1,history = fit_model([np.array(a),np.array(b),np.array(c)],np.array(y),model1,verbose=1,epochs=9)\n",
        "    ###\n",
        "    growth.append(model1.evaluate([test_input_ids, test_attention_masks, test_token_type_ids],test_labels_categorical)[1])\n",
        "  plt.plot(growth)\n",
        "  growth_list.append(growth)\n",
        "  plt.hlines(NC,0, len(growth))\n",
        "  print(growth[-1])\n",
        "growth_list=np.array(growth_list)\n",
        "plt.show()"
      ],
      "execution_count": null,
      "outputs": []
    },
    {
      "cell_type": "code",
      "metadata": {
        "id": "PGpZ-OTtmJ7T"
      },
      "source": [
        "growth_list"
      ],
      "execution_count": null,
      "outputs": []
    },
    {
      "cell_type": "markdown",
      "metadata": {
        "id": "hgPbuTSemJ7V"
      },
      "source": [
        "###### Training More like the original Paper"
      ]
    },
    {
      "cell_type": "code",
      "metadata": {
        "id": "EsXMT4QwmJ7V"
      },
      "source": [
        "newsets_updated = deepcopy(newsets)\n",
        "newsets_updated.append(sorted_indices)# End with the whole data\n",
        "print([len(i) for i in newsets_updated])\n",
        "seed=0\n",
        "Batch_size=1600\n",
        "growth_list=[]\n",
        "for nn in np.arange(2):\n",
        "  growth=[]\n",
        "  newa=[]\n",
        "  newb=[]\n",
        "  newc=[]\n",
        "  newy=[]\n",
        "  model1,atten_model1=bert_model(T)\n",
        "  for iter,batch_ind in enumerate(newsets_updated):\n",
        "    a = indexer(train_input_ids,batch_ind)\n",
        "    b = indexer(train_attention_masks,batch_ind)\n",
        "    c = indexer(train_token_type_ids,batch_ind)\n",
        "    y = indexer(train_labels_categorical,batch_ind)\n",
        "    print(\"datapoints to be searched from this iteration and trained on\",len(a),\"datapoints\")\n",
        "    ####\n",
        "    tf.random.set_seed(seed) \n",
        "    random.seed(seed)\n",
        "    np.random.seed(seed)\n",
        "    if len(a)!=len(sorted_indices):\n",
        "      model1,history = fit_model([np.array(a),np.array(b),np.array(c)],np.array(y),model1,verbose=1,epochs=1)\n",
        "    else:\n",
        "      model1,history = fit_model([np.array(a),np.array(b),np.array(c)],np.array(y),model1,verbose=1,epochs=50)\n",
        "    ###\n",
        "    growth.append(model1.evaluate([test_input_ids, test_attention_masks, test_token_type_ids],test_labels_categorical)[1])\n",
        "  plt.plot(growth)\n",
        "  growth_list.append(growth)\n",
        "  plt.hlines(NC,0, len(growth))\n",
        "  print(growth[-1])\n",
        "growth_list=np.array(growth_list)\n",
        "plt.show()"
      ],
      "execution_count": null,
      "outputs": []
    },
    {
      "cell_type": "code",
      "metadata": {
        "id": "nji1vTPpmJ7X"
      },
      "source": [
        "growth_list"
      ],
      "execution_count": null,
      "outputs": []
    },
    {
      "cell_type": "markdown",
      "metadata": {
        "id": "1a3tMrb-FJ1l"
      },
      "source": [
        "##### Annealing Updated (New Idea 2)"
      ]
    },
    {
      "cell_type": "code",
      "metadata": {
        "id": "2p2HVxtgFJ1m"
      },
      "source": [
        "n=int(len(sorted_indices)/1600)\n",
        "print(n)"
      ],
      "execution_count": null,
      "outputs": []
    },
    {
      "cell_type": "code",
      "metadata": {
        "id": "CVXGsVnbFJ1q"
      },
      "source": [
        "np.arange(1)\n",
        "#    newitem = big_sets[it1-it2][it2]\n",
        "#    big_sets[0][0]\n",
        "#    big_sets[1][0] + big_sets[0][1]\n",
        "#    big_sets[2][0] + big_sets[1][1] + big_sets[0][2]\n",
        "#    big_sets[3][0] + big_sets[2][1] + big_sets[1][2] + big_sets[0][3]"
      ],
      "execution_count": null,
      "outputs": []
    },
    {
      "cell_type": "code",
      "metadata": {
        "id": "MqvP2L3kFJ1s"
      },
      "source": [
        "#set.intersection([[1,2],[2,3]])"
      ],
      "execution_count": null,
      "outputs": []
    },
    {
      "cell_type": "markdown",
      "metadata": {
        "id": "TtZOlqbDFJ1u"
      },
      "source": [
        "###### Create NewSet"
      ]
    },
    {
      "cell_type": "code",
      "metadata": {
        "id": "H2ovSmaTFJ1v"
      },
      "source": [
        "newsets=[]\n",
        "#temp=np.arange(50)+1\n",
        "temp=sorted_indices\n",
        "n=5\n",
        "big_sets = np.array_split(temp,n)\n",
        "all_sets = np.array([np.array_split(np.random.permutation(d),n-i) for i,d in enumerate(big_sets)])\n",
        "all_sets[:4]\n",
        "for it1 in np.arange(n):\n",
        "  newitem=[]\n",
        "  for it2 in np.arange(it1+1):\n",
        "    #print(it1-it2,it2)\n",
        "    newitem = newitem+ list(all_sets[it1-it2][it2])\n",
        "  #print(\"-----\")\n",
        "  newsets.append(newitem)\n",
        "assert len(set.intersection(*map(set,newsets))) == 0\n",
        "[len(i) for i in newsets]"
      ],
      "execution_count": null,
      "outputs": []
    },
    {
      "cell_type": "markdown",
      "metadata": {
        "id": "63ktM0TJFJ1z"
      },
      "source": [
        "###### Training all Equal epochs"
      ]
    },
    {
      "cell_type": "code",
      "metadata": {
        "id": "HjzxArsIFJ1z"
      },
      "source": [
        "seed=0\n",
        "growth_list=[]\n",
        "for nn in np.arange(7):\n",
        "  growth=[]\n",
        "  newa=[]\n",
        "  newb=[]\n",
        "  newc=[]\n",
        "  newy=[]\n",
        "  model1,atten_model1=bert_model(T)\n",
        "  for iter,batch_ind in enumerate(newsets):\n",
        "    a = indexer(train_input_ids,batch_ind)\n",
        "    b = indexer(train_attention_masks,batch_ind)\n",
        "    c = indexer(train_token_type_ids,batch_ind)\n",
        "    y = indexer(train_labels_categorical,batch_ind)\n",
        "    print(\"datapoints to be searched from this iteration and trained on\",len(a),\"datapoints\")\n",
        "    ####\n",
        "    tf.random.set_seed(seed) \n",
        "    random.seed(seed)\n",
        "    np.random.seed(seed)\n",
        "    model1,history = fit_model([np.array(a),np.array(b),np.array(c)],np.array(y),model1,verbose=1,epochs=10)\n",
        "    ###\n",
        "    growth.append(model1.evaluate([test_input_ids, test_attention_masks, test_token_type_ids],test_labels_categorical)[1])\n",
        "  plt.plot(growth)\n",
        "  growth_list.append(growth)\n",
        "  plt.hlines(NC,0, len(growth))\n",
        "  print(growth[-1])\n",
        "growth_list=np.array(growth_list)\n",
        "plt.show()"
      ],
      "execution_count": null,
      "outputs": []
    },
    {
      "cell_type": "code",
      "metadata": {
        "id": "j4VwfPbZFJ14"
      },
      "source": [
        "growth_list"
      ],
      "execution_count": null,
      "outputs": []
    },
    {
      "cell_type": "markdown",
      "metadata": {
        "id": "Ce2k9wrLFJ16"
      },
      "source": [
        "###### Training More like the original Paper"
      ]
    },
    {
      "cell_type": "code",
      "metadata": {
        "id": "lEy_3TURFJ17"
      },
      "source": [
        "newsets_updated = deepcopy(newsets)\n",
        "newsets_updated.append(sorted_indices)# End with the whole data\n",
        "print([len(i) for i in newsets_updated])\n",
        "seed=0\n",
        "Batch_size=1600\n",
        "growth_list=[]\n",
        "for nn in np.arange(7):\n",
        "  growth=[]\n",
        "  newa=[]\n",
        "  newb=[]\n",
        "  newc=[]\n",
        "  newy=[]\n",
        "  model1,atten_model1=bert_model(T)\n",
        "  for iter,batch_ind in enumerate(newsets_updated):\n",
        "    a = indexer(train_input_ids,batch_ind)\n",
        "    b = indexer(train_attention_masks,batch_ind)\n",
        "    c = indexer(train_token_type_ids,batch_ind)\n",
        "    y = indexer(train_labels_categorical,batch_ind)\n",
        "    print(\"datapoints to be searched from this iteration and trained on\",len(a),\"datapoints\")\n",
        "    ####\n",
        "    tf.random.set_seed(seed) \n",
        "    random.seed(seed)\n",
        "    np.random.seed(seed)\n",
        "    if len(a)!=len(sorted_indices):\n",
        "      model1,history = fit_model([np.array(a),np.array(b),np.array(c)],np.array(y),model1,verbose=1,epochs=1)\n",
        "    else:\n",
        "      model1,history = fit_model([np.array(a),np.array(b),np.array(c)],np.array(y),model1,verbose=1,epochs=50)\n",
        "    ###\n",
        "    growth.append(model1.evaluate([test_input_ids, test_attention_masks, test_token_type_ids],test_labels_categorical)[1])\n",
        "  plt.plot(growth)\n",
        "  growth_list.append(growth)\n",
        "  plt.hlines(NC,0, len(growth))\n",
        "  print(growth[-1])\n",
        "growth_list=np.array(growth_list)\n",
        "plt.show()"
      ],
      "execution_count": null,
      "outputs": []
    },
    {
      "cell_type": "code",
      "metadata": {
        "id": "c0tifux7QykP"
      },
      "source": [
        "growth_list"
      ],
      "execution_count": null,
      "outputs": []
    },
    {
      "cell_type": "markdown",
      "metadata": {
        "id": "XCr_aWp8WKFY"
      },
      "source": [
        "# OLD/Rough"
      ]
    },
    {
      "cell_type": "markdown",
      "metadata": {
        "id": "eel7WbDvFmLp"
      },
      "source": [
        "##### BABY STEPS"
      ]
    },
    {
      "cell_type": "code",
      "metadata": {
        "id": "Ep8t1xpJfosP"
      },
      "source": [
        " #np.array_split(sorted_indices,n)"
      ],
      "execution_count": null,
      "outputs": []
    },
    {
      "cell_type": "code",
      "metadata": {
        "id": "ymZT3Na6cSRS"
      },
      "source": [
        "seed=0\n",
        "Batch_size=1600\n",
        "growth_list=[]\n",
        "for nn in np.arange(2):\n",
        "  n=int(len(sorted_indices)/Batch_size)\n",
        "  growth=[]\n",
        "  newa=[]\n",
        "  newb=[]\n",
        "  newc=[]\n",
        "  newy=[]\n",
        "  model1,atten_model1=bert_model(T)\n",
        "  for iter,batch_ind in enumerate(np.array_split(sorted_indices,n)):\n",
        "    a = indexer(train_input_ids,batch_ind)\n",
        "    b = indexer(train_attention_masks,batch_ind)\n",
        "    c = indexer(train_token_type_ids,batch_ind)\n",
        "    y = indexer(train_labels_categorical,batch_ind)\n",
        "    newa.extend(a)\n",
        "    newb.extend(b)\n",
        "    newc.extend(c)\n",
        "    newy.extend(y)\n",
        "    print(\"datapoints to be searched from this iteration and trained on\",len(newa),\"datapoints\")\n",
        "    ####\n",
        "    tf.random.set_seed(seed) \n",
        "    random.seed(seed)\n",
        "    np.random.seed(seed)\n",
        "    model1,history = fit_model([np.array(newa),np.array(newb),np.array(newc)],np.array(newy),model1,verbose=1,epochs=10)\n",
        "    ###\n",
        "    growth.append(model1.evaluate([test_input_ids, test_attention_masks, test_token_type_ids],test_labels_categorical)[1])\n",
        "  plt.plot(growth)\n",
        "  growth_list.append(growth)\n",
        "  plt.hlines(NC,0, len(growth))\n",
        "  print(growth[-1])\n",
        "growth_list=np.array(growth_list)\n",
        "plt.show()"
      ],
      "execution_count": null,
      "outputs": []
    },
    {
      "cell_type": "code",
      "metadata": {
        "id": "DOpY2hu_GoQV"
      },
      "source": [
        "from copy import deepcopy\n",
        "seed=0\n",
        "Batch_size=1600\n",
        "growth_list=[]\n",
        "models=[]\n",
        "for nn in np.arange(1):\n",
        "  n=int(len(sorted_indices)/Batch_size)\n",
        "  growth=[]\n",
        "  newa=[]\n",
        "  newb=[]\n",
        "  newc=[]\n",
        "  newy=[]\n",
        "  model1,atten_model1=bert_model(T)\n",
        "  for iter,batch_ind in enumerate(np.array_split(sorted_indices,n)): \n",
        "    a = indexer(train_input_ids,batch_ind)\n",
        "    b = indexer(train_attention_masks,batch_ind)\n",
        "    c = indexer(train_token_type_ids,batch_ind)\n",
        "    y = indexer(train_labels_categorical,batch_ind)\n",
        "    newa.extend(a)\n",
        "    newb.extend(b)\n",
        "    newc.extend(c)\n",
        "    newy.extend(y)\n",
        "    print(\"datapoints to be searched from this iteration and trained on\",len(newa),\"datapoints\")\n",
        "    ####\n",
        "    tf.random.set_seed(seed) \n",
        "    random.seed(seed)\n",
        "    np.random.seed(seed)\n",
        "    model1,history = fit_model([np.array(newa),np.array(newb),np.array(newc)],np.array(newy),model1,verbose=1,epochs=10)\n",
        "    ###\n",
        "    model1.save_weights(\"baby\"+str(iter)+\".h5\")\n",
        "    #models.append(yeah but(model1))\n",
        "    growth.append(model1.evaluate([test_input_ids, test_attention_masks, test_token_type_ids],test_labels_categorical)[1])\n",
        "  plt.plot(growth)\n",
        "  growth_list.append(growth)\n",
        "  plt.hlines(NC,0, len(growth))\n",
        "  print(growth[-1])\n",
        "growth_list=np.array(growth_list)\n",
        "plt.show()"
      ],
      "execution_count": null,
      "outputs": []
    },
    {
      "cell_type": "code",
      "metadata": {
        "id": "dzh4boQWjw8F"
      },
      "source": [
        "len(models)"
      ],
      "execution_count": null,
      "outputs": []
    },
    {
      "cell_type": "code",
      "metadata": {
        "id": "D8Bgu_Zw81u6"
      },
      "source": [
        "baby_pass_models = models"
      ],
      "execution_count": null,
      "outputs": []
    },
    {
      "cell_type": "code",
      "metadata": {
        "id": "o9zSdsHNSWVt"
      },
      "source": [
        "bs_growth  = np.mean(growth_list,axis=0)\n",
        "bs_growth"
      ],
      "execution_count": null,
      "outputs": []
    },
    {
      "cell_type": "code",
      "metadata": {
        "id": "C_6vtHoyAKln"
      },
      "source": [
        "model1.evaluate([test_input_ids, test_attention_masks, test_token_type_ids],test_labels_categorical)"
      ],
      "execution_count": null,
      "outputs": []
    },
    {
      "cell_type": "code",
      "metadata": {
        "id": "IoRzNfnvtVaD"
      },
      "source": [
        ""
      ],
      "execution_count": null,
      "outputs": []
    },
    {
      "cell_type": "code",
      "metadata": {
        "id": "8PV9UZ_yzYJm"
      },
      "source": [
        "!zip baby.zip baby0.h5 baby1.h5 baby2.h5 baby3.h5 baby4.h5"
      ],
      "execution_count": null,
      "outputs": []
    },
    {
      "cell_type": "code",
      "metadata": {
        "id": "VJRz3XSc0JXM"
      },
      "source": [
        "!ls -lah"
      ],
      "execution_count": null,
      "outputs": []
    },
    {
      "cell_type": "markdown",
      "metadata": {
        "id": "LtlBrsczFqr8"
      },
      "source": [
        "#### ONE PASS"
      ]
    },
    {
      "cell_type": "code",
      "metadata": {
        "id": "dqCk07f0FtLu"
      },
      "source": [
        "\"\"\"#Batch_size=1700\n",
        "n=int(len(sorted_indices)/Batch_size)\n",
        "growth=[]\n",
        "newX=[]\n",
        "newy=[]\n",
        "model1=my_model()\n",
        "for batch_ind in np.array_split(sorted_indices,n):\n",
        "  newX=indexer(X_train,batch_ind)\n",
        "  newy=indexer(y_train,batch_ind)\n",
        "  print(\"datapoints to be searched from this iteration and trained on\",len(newX),\"datapoints\")\n",
        "  model1=fit_model(newX,newy,model1,verbose=0,epochs=30)\n",
        "  growth.append(model1.evaluate(X_test,y_test,verbose=0)[1])\n",
        "plt.plot(growth)\n",
        "plt.hlines(NC,0, len(growth))\"\"\""
      ],
      "execution_count": null,
      "outputs": []
    },
    {
      "cell_type": "code",
      "metadata": {
        "id": "ZP6kFTKh2pOn"
      },
      "source": [
        "seed=0\n",
        "Batch_size=1600#2000\n",
        "n=int(len(sorted_indices)/Batch_size)\n",
        "growth_list = []\n",
        "for nn in np.arange(1):\n",
        "  growth=[]\n",
        "  newa=[]\n",
        "  newb=[]\n",
        "  newc=[]\n",
        "  newy=[]\n",
        "  model1,atten_model1=bert_model(T)\n",
        "  for iter,batch_ind in enumerate(np.array_split(sorted_indices,n)):\n",
        "    a = indexer(train_input_ids,batch_ind)\n",
        "    b = indexer(train_attention_masks,batch_ind)\n",
        "    c = indexer(train_token_type_ids,batch_ind)\n",
        "    y = indexer(train_labels_categorical,batch_ind)\n",
        "    print(\"datapoints to be searched from this iteration and trained on\",len(a),\"datapoints\")\n",
        "    ####\n",
        "    tf.random.set_seed(seed) \n",
        "    random.seed(seed)\n",
        "    np.random.seed(seed)\n",
        "    model1,history = fit_model([np.array(a),np.array(b),np.array(c)],np.array(y),model1,verbose=1,epochs=10)\n",
        "    model1.save_weights(\"one\"+str(iter)+\".h5\")\n",
        "    ###\n",
        "    growth.append(model1.evaluate([test_input_ids, test_attention_masks, test_token_type_ids],test_labels_categorical)[1])\n",
        "  plt.plot(growth)\n",
        "  plt.hlines(NC,0, len(growth))\n",
        "  print(growth[-1])\n",
        "  growth_list.append(growth)\n",
        "plt.show()\n",
        "growth_list=np.array(growth_list)"
      ],
      "execution_count": null,
      "outputs": []
    },
    {
      "cell_type": "code",
      "metadata": {
        "id": "4Twl6RQGYJc4"
      },
      "source": [
        "op_growth  = np.mean(growth_list,axis=0)\n",
        "op_growth"
      ],
      "execution_count": null,
      "outputs": []
    },
    {
      "cell_type": "markdown",
      "metadata": {
        "id": "NykDWHMSagKA"
      },
      "source": [
        "### Individual"
      ]
    },
    {
      "cell_type": "code",
      "metadata": {
        "id": "nvonvN19I-Ov"
      },
      "source": [
        "\"\"\"#Batch_size=1700\n",
        "n=int(len(sorted_indices)/Batch_size)\n",
        "growth=[]\n",
        "for batch_ind in np.array_split(sorted_indices,n):\n",
        "  model1=my_model()\n",
        "  newX=indexer(X_train,batch_ind)\n",
        "  newy=indexer(y_train,batch_ind)\n",
        "  print(\"datapoints to be searched from this iteration and trained on\",len(newX),\"datapoints\")\n",
        "  model1=fit_model(newX,newy,model1,verbose=0,epochs=30)\n",
        "  growth.append(model1.evaluate(X_test,y_test,verbose=0)[1])\n",
        "plt.plot(growth)\n",
        "plt.hlines(NC,0, len(growth))\"\"\""
      ],
      "execution_count": null,
      "outputs": []
    },
    {
      "cell_type": "code",
      "metadata": {
        "id": "SLUZKnUX2y0o"
      },
      "source": [
        "Batch_size=2000\n",
        "seed=0\n",
        "n=int(len(sorted_indices)/Batch_size)\n",
        "growth_list=[]\n",
        "for runs in np.arange(5):\n",
        "  growth=[]\n",
        "  newa=[]\n",
        "  newb=[]\n",
        "  newc=[]\n",
        "  newy=[]\n",
        "  for batch_ind in np.array_split(sorted_indices,n):\n",
        "    model1,atten_model1=bert_model(T)\n",
        "    a = indexer(train_input_ids,batch_ind)\n",
        "    b = indexer(train_attention_masks,batch_ind)\n",
        "    c = indexer(train_token_type_ids,batch_ind)\n",
        "    y = indexer(train_labels_categorical,batch_ind)\n",
        "    newa.extend(a)\n",
        "    newb.extend(b)\n",
        "    newc.extend(c)\n",
        "    newy.extend(y)\n",
        "    print(\"datapoints to be searched from this iteration and trained on\",len(newa),\"datapoints\")\n",
        "    ####\n",
        "    tf.random.set_seed(seed) \n",
        "    random.seed(seed)\n",
        "    np.random.seed(seed)\n",
        "    model1,history = fit_model([np.array(newa),np.array(newb),np.array(newc)],np.array(newy),model1,verbose=1,epochs=10)\n",
        "    ###\n",
        "    growth.append(model1.evaluate([test_input_ids, test_attention_masks, test_token_type_ids],test_labels_categorical)[1])\n",
        "  plt.plot(growth)\n",
        "  plt.hlines(NC,0, len(growth))\n",
        "  print(growth[-1])\n",
        "  growth_list.append(growth)\n",
        "plt.show()\n",
        "growth_list=np.array(growth_list)"
      ],
      "execution_count": null,
      "outputs": []
    },
    {
      "cell_type": "code",
      "metadata": {
        "id": "z8qk7O7GiXWE"
      },
      "source": [
        "i_growth  = np.mean(growth_list,axis=0)\n",
        "i_growth"
      ],
      "execution_count": null,
      "outputs": []
    },
    {
      "cell_type": "code",
      "metadata": {
        "id": "DI_-p1V8ipua"
      },
      "source": [
        "plt.plot(op_growth)\n",
        "plt.plot(bs_growth)\n",
        "plt.plot(i_growth)"
      ],
      "execution_count": null,
      "outputs": []
    },
    {
      "cell_type": "code",
      "metadata": {
        "id": "6BDjleDKJTFZ"
      },
      "source": [
        "op_growth, bs_growth, i_growth"
      ],
      "execution_count": null,
      "outputs": []
    },
    {
      "cell_type": "code",
      "metadata": {
        "id": "JvpJBRf7F4dv"
      },
      "source": [
        "op_growth, bs_growth, i_growth(array([0.22533937, 0.26642535, 0.25945703, 0.22923077])\n",
        "[0.2759276 , 0.34515838, 0.43710408, 0.48153847]\n",
        " [0.2316742092370987,\n",
        "  0.2538461685180664,\n",
        "  0.45972850918769836,\n",
        "  0.4606334865093231,\n",
        "  0.442533940076828])"
      ],
      "execution_count": null,
      "outputs": []
    },
    {
      "cell_type": "markdown",
      "metadata": {
        "id": "qh32Mdea9Iiz"
      },
      "source": [
        "### Analyize sorted_indices: Try sum_neutral Baby steps"
      ]
    },
    {
      "cell_type": "code",
      "metadata": {
        "id": "9_AyUkYt9la9"
      },
      "source": [
        "#traindata,trainlabels\n",
        "#diff_neutral, sum_neutral, length, AdjCount"
      ],
      "execution_count": null,
      "outputs": []
    },
    {
      "cell_type": "code",
      "metadata": {
        "id": "uXtzAfXC9CfV"
      },
      "source": [
        "tries=indexer(traindata,sorted_indices)"
      ],
      "execution_count": null,
      "outputs": []
    },
    {
      "cell_type": "code",
      "metadata": {
        "id": "2fTXUD4R-l6m"
      },
      "source": [
        "plt.plot([sum_neutral(i) for i in tries])\n",
        "plt.plot(sorted([sum_neutral(i) for i in tries],reverse=False))"
      ],
      "execution_count": null,
      "outputs": []
    },
    {
      "cell_type": "code",
      "metadata": {
        "id": "1k-NZ4kFjpmq"
      },
      "source": [
        "costs=[sum_neutral(i) for i in traindata]\n",
        "sum_neutral_indices=[x for _, x in sorted(zip(costs,np.arange(len(costs))), key=lambda pair: pair[0],reverse=False)]"
      ],
      "execution_count": null,
      "outputs": []
    },
    {
      "cell_type": "code",
      "metadata": {
        "id": "G3sBDLDZopWZ"
      },
      "source": [
        "#plt.plot(costs)\n",
        "plt.plot([sum_neutral(traindata[i]) for i in sum_neutral_indices])"
      ],
      "execution_count": null,
      "outputs": []
    },
    {
      "cell_type": "code",
      "metadata": {
        "id": "KaJbA0DA-7fT"
      },
      "source": [
        "for _ in np.arange(5):\n",
        "  Batch_size=1000\n",
        "  n=int(len(sum_neutral_indices)/Batch_size)\n",
        "  growth=[]\n",
        "  newX=[]\n",
        "  newy=[]\n",
        "  model1=my_model()\n",
        "  for batch_ind in np.array_split(sum_neutral_indices,n):\n",
        "    newX.extend(indexer(X_train,batch_ind))\n",
        "    newy.extend(indexer(y_train,batch_ind))\n",
        "    print(\"datapoints to be searched from this iteration and trained on\",len(newX),\"datapoints\")\n",
        "    model1=fit_model(np.array(newX),np.array(newy),model1,verbose=0,epochs=30)\n",
        "    growth.append(model1.evaluate(X_test,y_test,verbose=0)[1])\n",
        "  plt.plot(growth)\n",
        "  print(growth[-1],growth[-2])\n",
        "plt.hlines(NC,0,len(growth))\n",
        "plt.show()"
      ],
      "execution_count": null,
      "outputs": []
    },
    {
      "cell_type": "markdown",
      "metadata": {
        "id": "T2ru6p8JTO-x"
      },
      "source": [
        "### Hyper Parameter: Batch_size *Tune*"
      ]
    },
    {
      "cell_type": "code",
      "metadata": {
        "id": "DW4tSImAJ79K"
      },
      "source": [
        "results=[]\n",
        "batch_size_list=[750,800,850,900,950,1000,1500,2000]\n",
        "batch_size_list=[500,750,800,950,1100,1200,1400,1550,1700]\n",
        "#batch_size_list=[2000,3000]\n",
        "for batch_size in batch_size_list:\n",
        "  print(\"####################\",batch_size,\"###############\")\n",
        "  n=int(len(aux_sorted_indices)/batch_size)\n",
        "  for _ in np.arange(3):\n",
        "    growth=[]\n",
        "    newX=[]\n",
        "    newy=[]\n",
        "    avg=[]\n",
        "    model1=my_model()\n",
        "    for batch_ind in np.array_split(aux_sorted_indices,n):\n",
        "      newX.extend(indexer(X_train,batch_ind))\n",
        "      newy.extend(indexer(y_train,batch_ind))\n",
        "      #print(\"datapoints to be searched from this iteration and trained on\",len(newX),\"datapoints\")\n",
        "      model1=fit_model(np.array(newX),np.array(newy),model1,verbose=0,epochs=30)\n",
        "      growth.append(model1.evaluate(X_test,y_test,verbose=0)[1])\n",
        "    plt.plot(growth)\n",
        "    print(growth[-1])\n",
        "    avg.append(growth[-1])\n",
        "    plt.hlines(NC,0, len(growth))\n",
        "  plt.show()\n",
        "  print(np.average(avg),NC)\n",
        "  results.append(np.average(avg))"
      ],
      "execution_count": null,
      "outputs": []
    },
    {
      "cell_type": "code",
      "metadata": {
        "id": "Rx-EOLM4f-Hx"
      },
      "source": [
        "plt.plot(batch_size_list,results)\n",
        "plt.hlines(NC,min(batch_size_list), max(batch_size_list))"
      ],
      "execution_count": null,
      "outputs": []
    },
    {
      "cell_type": "code",
      "metadata": {
        "id": "EL-QC9McWpNI"
      },
      "source": [
        "plt.plot(batch_size_list,results)\n",
        "plt.hlines(NC,min(batch_size_list), max(batch_size_list))"
      ],
      "execution_count": null,
      "outputs": []
    },
    {
      "cell_type": "code",
      "metadata": {
        "id": "so2cxs4dTNuF"
      },
      "source": [
        "results=[]\n",
        "batch_size_list=[500,600,700,800,900,1000,1100,1200,1300,1400,1500,1600,1700,1800,1900,2000]\n",
        "batch_size_list=[750,800,850,900,950,1000,1500,2000]\n",
        "batch_size_list=[500,800,1100,1400,1700,2000]\n",
        "for batch_size in batch_size_list:\n",
        "  print(\"####################\",batch_size,\"###############\")\n",
        "  randomval=[]\n",
        "  for rand in np.arange(5):\n",
        "    model=my_model()\n",
        "    model.compile(loss=\"categorical_crossentropy\",metrics=[\"acc\"],optimizer=\"Adam\")\n",
        "    allindices=list(np.arange(len(X_train)))\n",
        "    startt=1000\n",
        "    start_indexes=master_order[:startt]\n",
        "    newX=np.array(indexer(X_train,start_indexes))\n",
        "    newy=np.array(indexer(y_train,start_indexes))\n",
        "    top=startt-1\n",
        "    ## half starting\n",
        "    #newX=\n",
        "    growth=[]\n",
        "    while top+batch_size<len(X_train):\n",
        "      #print(\"training on\",len(newX),\"datapoints\")\n",
        "      model = fit_model(newX,newy,model,epochs=30)\n",
        "      t=model.evaluate(X_test,y_test,verbose=0)[1]\n",
        "      #print(t,\"performance on test data\")\n",
        "      growth.append(t)\n",
        "      nextindex_list=master_order[top:top+batch_size]###i\n",
        "      newX=np.concatenate([newX,np.  array(indexer(X_train,nextindex_list))])\n",
        "      newy=np.append(newy,np.array(indexer(y_train,nextindex_list)),axis=0)\n",
        "      top=top+batch_size\n",
        "    randomval.append(growth[-1])\n",
        "  results.append(np.average(randomval))"
      ],
      "execution_count": null,
      "outputs": []
    },
    {
      "cell_type": "markdown",
      "metadata": {
        "id": "1OG_JSfOhwxu"
      },
      "source": [
        "#### One Pass"
      ]
    },
    {
      "cell_type": "code",
      "metadata": {
        "id": "toaPiw12htYb"
      },
      "source": [
        "avg=[]\n",
        "Batch_size=1500\n",
        "n=int(len(aux_sorted_indices)/Batch_size)\n",
        "for _ in np.arange(2):\n",
        "  growth=[]\n",
        "  newX=[]\n",
        "  newy=[]\n",
        "  model1=my_model()\n",
        "  for batch_ind in np.array_split(aux_sorted_indices,n):\n",
        "    newX = indexer(X_train,batch_ind)\n",
        "    newy = indexer(y_train,batch_ind)\n",
        "    print(\"datapoints to be searched from this iteration and trained on\",len(newX),\"datapoints\")\n",
        "    model1=fit_model(np.array(newX),np.array(newy),model1,verbose=0,epochs=30)\n",
        "    growth.append(model1.evaluate(X_test,y_test,verbose=0)[1])\n",
        "  plt.plot(growth)\n",
        "  print(growth[-1])\n",
        "  avg.append(growth[-1])\n",
        "  plt.hlines(NC,0, len(growth))\n",
        "plt.show()\n",
        "print(np.average(avg),NC)"
      ],
      "execution_count": null,
      "outputs": []
    },
    {
      "cell_type": "code",
      "metadata": {
        "id": "GOx1zU0bZ4zZ"
      },
      "source": [
        "0.45565610859728506+0.4416289592760181+0.4416289592760181+0.45475113122171945+0.4425339366515837"
      ],
      "execution_count": null,
      "outputs": []
    },
    {
      "cell_type": "code",
      "metadata": {
        "id": "7P8DP1SCWWOj"
      },
      "source": [
        "def length(sentence):\n",
        "  return len(sentence.split(\" \"))\n",
        "scores=[length(i) for i in traindata]\n",
        "# master order is order of indices\n",
        "master_order=sorted(range(len(scores)), key=lambda k: scores[k])\n",
        "import seaborn as sns\n",
        "sns.heatmap(np.array(sorted(scores,reverse=False)).reshape(1,len(scores)))"
      ],
      "execution_count": null,
      "outputs": []
    },
    {
      "cell_type": "markdown",
      "metadata": {
        "id": "06tOeo0HIFZQ"
      },
      "source": [
        "### Aux Task Sentiwordnet"
      ]
    },
    {
      "cell_type": "code",
      "metadata": {
        "id": "bcQibo20Ix3f"
      },
      "source": [
        "def feature(sentence):\n",
        "  words=sentence.split(\" \")\n",
        "  l=len(words)\n",
        "  pos=0\n",
        "  neg=0\n",
        "  obj=0\n",
        "  for i in words:\n",
        "    if score(i)!=False:\n",
        "      p,n,o=score(i)\n",
        "      #print(p,n,i)\n",
        "      pos=pos+p\n",
        "      neg=neg+n\n",
        "      obj=obj+o\n",
        "  return np.array([l,pos,neg,obj,np.abs(pos-neg),pos/l,neg/l,obj/l,np.abs(pos-neg)/l])### The Higher the Easier"
      ],
      "execution_count": null,
      "outputs": []
    },
    {
      "cell_type": "code",
      "metadata": {
        "id": "2jpMdaOjIMKp"
      },
      "source": [
        "X_train_feat=np.array([feature(i) for i in traindata])\n",
        "X_test_feat=np.array([feature(i) for i in testdata])\n",
        "X_dev_feat=np.array([feature(i) for i in devdata])\n",
        "X_train_feat.shape,X_test_feat.shape,X_dev_feat.shape"
      ],
      "execution_count": null,
      "outputs": []
    },
    {
      "cell_type": "code",
      "metadata": {
        "id": "8E0dHPVzKB-n"
      },
      "source": [
        "#### Normalize aND Transform the vectors\n",
        "from sklearn.preprocessing import MinMaxScaler\n",
        "scaler = MinMaxScaler()\n",
        "scaler.fit(X_train_feat)\n",
        "X_train_feat=scaler.transform(X_train_feat)\n",
        "X_test_feat=scaler.transform(X_test_feat)\n",
        "X_dev_feat = scaler.transform(X_dev_feat)"
      ],
      "execution_count": null,
      "outputs": []
    },
    {
      "cell_type": "code",
      "metadata": {
        "id": "q4Pv8YGOKgaj"
      },
      "source": [
        "I=Input(shape=(9,))\n",
        "o=Dense(100,activation=\"relu\")(I)\n",
        "o=Dense(50,activation=\"relu\")(o)\n",
        "o=Dense(c,activation=\"softmax\")(o)\n",
        "aux_model=Model(inputs=I,outputs=o)\n",
        "#aux_model.summary()\n",
        "aux_model.compile(loss=\"categorical_crossentropy\",metrics=[\"acc\"],optimizer=\"Adam\")\n",
        "es = EarlyStopping(monitor='val_loss', mode='min', verbose=0, patience=10,restore_best_weights=True)\n",
        "history=aux_model.fit(x=X_train_feat,y=y_train,epochs=25,batch_size=130,validation_data=[X_dev_feat,y_dev],callbacks=[es])\n",
        "print(aux_model.evaluate(X_test_feat,y_test)[1])\n",
        "def mse(y,y_hat):\n",
        "  return np.sum(np.square(y-y_hat),axis=1)\n",
        "\n",
        "costs=mse(aux_model.predict(X_train_feat),y_train)\n",
        "aux_sorted_indices=[x for _, x in sorted(zip(costs,np.arange(len(costs))), key=lambda pair: pair[0],reverse=False)]\n",
        "aux_model.predict(np.array(indexer(X_train_feat,aux_sorted_indices[:5]))) , indexer(y_train,aux_sorted_indices[:5])"
      ],
      "execution_count": null,
      "outputs": []
    },
    {
      "cell_type": "code",
      "metadata": {
        "id": "HIUD56wmKO1F"
      },
      "source": [
        "sns.heatmap(np.array(sorted(costs,reverse=False)).reshape(1,len(costs)))"
      ],
      "execution_count": null,
      "outputs": []
    },
    {
      "cell_type": "markdown",
      "metadata": {
        "id": "bLN9wn3Ehpa2"
      },
      "source": [
        "#### Baby Steps Regular Code"
      ]
    },
    {
      "cell_type": "code",
      "metadata": {
        "id": "Zp-RlrQiNiiL"
      },
      "source": [
        "avg=[]\n",
        "batch_size=1100#LSTM\n",
        "batch_size=1400#cnn\n",
        "batch_size=1100#atLSTM\n",
        "n=int(len(aux_sorted_indices)/batch_size)\n",
        "for _ in np.arange(10):\n",
        "  growth=[]\n",
        "  newX=[]\n",
        "  newy=[]\n",
        "  model1=my_model()\n",
        "  for batch_ind in np.array_split(aux_sorted_indices,n):\n",
        "    newX.extend(indexer(X_train,batch_ind))\n",
        "    newy.extend(indexer(y_train,batch_ind))\n",
        "    print(\"datapoints to be searched from this iteration and trained on\",len(newX),\"datapoints\")\n",
        "    model1=fit_model(np.array(newX),np.array(newy),model1,verbose=0,epochs=30)\n",
        "    growth.append(model1.evaluate(X_test,y_test,verbose=0)[1])\n",
        "  plt.plot(growth)\n",
        "  print(growth[-1])\n",
        "  avg.append(growth[-1])\n",
        "  plt.hlines(NC,0, len(growth))\n",
        "plt.show()\n",
        "print(np.average(avg),NC)"
      ],
      "execution_count": null,
      "outputs": []
    },
    {
      "cell_type": "code",
      "metadata": {
        "id": "tcTdFesNK-4M"
      },
      "source": [
        ""
      ],
      "execution_count": null,
      "outputs": []
    },
    {
      "cell_type": "markdown",
      "metadata": {
        "id": "gtoBhH3kPvLm"
      },
      "source": [
        "## Curriculum: Sent Len"
      ]
    },
    {
      "cell_type": "code",
      "metadata": {
        "id": "ug2BXNt50m-A"
      },
      "source": [
        "traindata[0]"
      ],
      "execution_count": null,
      "outputs": []
    },
    {
      "cell_type": "code",
      "metadata": {
        "id": "e5nGcyl4TBkI"
      },
      "source": [
        "def length(sentence):\n",
        "  return len(sentence.split(\" \"))\n",
        "scores=[length(i) for i in traindata]\n",
        "scores=np.sum(train_attention_masks,axis=-1)\n",
        "# master order is order of indices\n",
        "master_order=sorted(range(len(scores)), key=lambda k: scores[k],reverse=True)\n",
        "import seaborn as sns\n",
        "sns.heatmap(np.array(sorted(scores,reverse=False)).reshape(1,len(scores)))"
      ],
      "execution_count": null,
      "outputs": []
    },
    {
      "cell_type": "code",
      "metadata": {
        "id": "Z_tZ7yOdfvHg"
      },
      "source": [
        ""
      ],
      "execution_count": null,
      "outputs": []
    },
    {
      "cell_type": "code",
      "metadata": {
        "id": "hf4wScOWJ0NF"
      },
      "source": [
        "#indexer(traindata,master_order)[:300]"
      ],
      "execution_count": null,
      "outputs": []
    },
    {
      "cell_type": "markdown",
      "metadata": {
        "id": "0CIq93EiRh4d"
      },
      "source": [
        "### Regular **Code**"
      ]
    },
    {
      "cell_type": "code",
      "metadata": {
        "id": "Ac3B7PKSe2VW"
      },
      "source": [
        "Batch_size=1500\n",
        "\n",
        "n=int(len(master_order)/Batch_size)\n",
        "growth=[]\n",
        "newa=[]\n",
        "newb=[]\n",
        "newc=[]\n",
        "newy=[]\n",
        "model1,atten_model1=bert_model(T)\n",
        "for batch_ind in np.array_split(master_order,n):\n",
        "  a = indexer(train_input_ids,batch_ind)\n",
        "  b = indexer(train_attention_masks,batch_ind)\n",
        "  c = indexer(train_token_type_ids,batch_ind)\n",
        "  y = indexer(train_labels_categorical,batch_ind)\n",
        "  newa.extend(a)\n",
        "  newb.extend(b)\n",
        "  newc.extend(c)\n",
        "  newy.extend(y)\n",
        "  print(\"datapoints to be searched from this iteration and trained on\",len(newa),\"datapoints\")\n",
        "  ####\n",
        "  tf.random.set_seed(seed) \n",
        "  random.seed(seed)\n",
        "  np.random.seed(seed)\n",
        "  model1,history = fit_model([np.array(newa),np.array(newb),np.array(newc)],np.array(newy),model1,verbose=1,epochs=10)\n",
        "  ###\n",
        "  growth.append(model1.evaluate([test_input_ids, test_attention_masks, test_token_type_ids],test_labels_categorical)[1])\n",
        "plt.plot(growth)\n",
        "plt.hlines(NC,0, len(growth))\n",
        "print(growth[-1])"
      ],
      "execution_count": null,
      "outputs": []
    },
    {
      "cell_type": "code",
      "metadata": {
        "id": "6_WEbdG6AADM"
      },
      "source": [
        "NC = 0.49\n",
        "plt.plot(growth)\n",
        "plt.hlines(NC,0, len(growth))\n",
        "print(growth[-1])"
      ],
      "execution_count": null,
      "outputs": []
    },
    {
      "cell_type": "code",
      "metadata": {
        "id": "3r-4gD2BAYig"
      },
      "source": [
        ""
      ],
      "execution_count": null,
      "outputs": []
    },
    {
      "cell_type": "code",
      "metadata": {
        "id": "Aa0HeBjmTBhu"
      },
      "source": [
        "import time\n",
        "start=time.time()\n",
        "allindices=list(np.arange(len(X_train)))\n",
        "multiruns=[]\n",
        "for rand in np.arange(10):\n",
        "  model=my_model()\n",
        "  model.compile(loss=\"categorical_crossentropy\",metrics=[\"acc\"],optimizer=\"Adam\")\n",
        "  startt=1000\n",
        "  batch_size=900#lstm\n",
        "  batch_size=750#cnn\n",
        "  batch_size=900#alstm\n",
        "  start_indexes=master_order[:startt]\n",
        "  newX=np.array(indexer(X_train,start_indexes))\n",
        "  newy=np.array(indexer(y_train,start_indexes))\n",
        "  top=startt-1\n",
        "  ## half starting\n",
        "  growth=[]\n",
        "  while top+batch_size<len(X_train):\n",
        "    print(\"training on\",len(newX),\"datapoints\")\n",
        "    model = fit_model(newX,newy,model,epochs=30)\n",
        "    t=model.evaluate(X_test,y_test)[1]\n",
        "    print(t,\"performance on test data\")\n",
        "    growth.append(t)\n",
        "    nextindex_list=master_order[top:top+batch_size]###i\n",
        "    newX=np.concatenate([newX,np.array(indexer(X_train,nextindex_list))])## Baby stepd\n",
        "    newy=np.append(newy,np.array(indexer(y_train,nextindex_list)),axis=0)\n",
        "    top=top+batch_size\n",
        "    print(\"=======================================\")\n",
        "  multiruns.append(growth)  \n",
        "end=time.time()\n",
        "TT=end-start"
      ],
      "execution_count": null,
      "outputs": []
    },
    {
      "cell_type": "code",
      "metadata": {
        "id": "FcRgKhrN7fpa"
      },
      "source": [
        "otemp=multiruns\n",
        "for growth in otemp:\n",
        "  print(TT)\n",
        "  plt.plot(growth)\n",
        "  plt.hlines(NC,0, len(growth))\n",
        "  print(growth[-1],NC)#batch size 1, starting 50 , AdjCOunts high easier\n",
        "  pickle.dump(growth,open(\"SST_sentlen_900_lstm.pickle\",\"wb\"))"
      ],
      "execution_count": null,
      "outputs": []
    },
    {
      "cell_type": "code",
      "metadata": {
        "id": "sSdG4kLxC_BK"
      },
      "source": [
        "0.438914030790329 0.4171040773391724 LSTM sentlen 900 "
      ],
      "execution_count": null,
      "outputs": []
    },
    {
      "cell_type": "code",
      "metadata": {
        "id": "cXxTjCN-YFUG"
      },
      "source": [
        "plt.hlines(ncc,0, len(growth))"
      ],
      "execution_count": null,
      "outputs": []
    },
    {
      "cell_type": "code",
      "metadata": {
        "id": "E_42JLYSfBVg"
      },
      "source": [
        "print(TT)\n",
        "plt.plot(growth)\n",
        "plt.hlines(NC,0, len(growth))\n",
        "print(growth[-1],NC)#batch size 1, starting 50 , AdjCOunts high easier\n",
        "pickle.dump(growth,open(\"SST_sentlen_50_500.pickle\",\"wb\"))"
      ],
      "execution_count": null,
      "outputs": []
    },
    {
      "cell_type": "markdown",
      "metadata": {
        "id": "3jY_VCvoBY8f"
      },
      "source": [
        "### Hyper Parameter: Batch_size Tune"
      ]
    },
    {
      "cell_type": "code",
      "metadata": {
        "id": "0vxFJYgATBd5"
      },
      "source": [
        "results=[]\n",
        "#batch_size_list=[500,600,700,800,900,1000,1100,1200,1300,1400,1500,1600,1700,1800,1900,2000]\n",
        "#batch_size_list=np.arange(1450,2000,100)\n",
        "batch_size_list=[500,600,700,800,900,1000,1100,1200,1300]\n",
        "for batch_size in batch_size_list:\n",
        "  print(\"####################\",batch_size,\"###############\")\n",
        "  randomval=[]\n",
        "  for rand in np.arange(4):\n",
        "    model=my_model()\n",
        "    model.compile(loss=\"categorical_crossentropy\",metrics=[\"acc\"],optimizer=\"Adam\")\n",
        "    allindices=list(np.arange(len(X_train)))\n",
        "    startt=1000\n",
        "    start_indexes=master_order[:startt]\n",
        "    newX=np.array(indexer(X_train,start_indexes))\n",
        "    newy=np.array(indexer(y_train,start_indexes))\n",
        "    top=startt-1\n",
        "    ## half starting\n",
        "    #newX=\n",
        "    growth=[]\n",
        "    while top+batch_size<len(X_train):\n",
        "      #print(\"training on\",len(newX),\"datapoints\")\n",
        "      model = fit_model(newX,newy,model,epochs=30)\n",
        "      t=model.evaluate(X_test,y_test,verbose=0)[1]\n",
        "      #print(t,\"performance on test data\")\n",
        "      growth.append(t)\n",
        "      nextindex_list=master_order[top:top+batch_size]###i\n",
        "      newX=np.concatenate([newX,np.  array(indexer(X_train,nextindex_list))])\n",
        "      newy=np.append(newy,np.array(indexer(y_train,nextindex_list)),axis=0)\n",
        "      top=top+batch_size\n",
        "    randomval.append(growth[-1])\n",
        "  results.append(np.average(randomval))"
      ],
      "execution_count": null,
      "outputs": []
    },
    {
      "cell_type": "code",
      "metadata": {
        "id": "qF_42VbwAE4c"
      },
      "source": [
        "plt.plot(batch_size_list,results)\n",
        "plt.hlines(NC,700, 1100)"
      ],
      "execution_count": null,
      "outputs": []
    },
    {
      "cell_type": "code",
      "metadata": {
        "id": "tPWAGm67uYiH"
      },
      "source": [
        "plt.plot(batch_size_list,results)\n",
        "plt.hlines(NC,500, 2000)"
      ],
      "execution_count": null,
      "outputs": []
    },
    {
      "cell_type": "code",
      "metadata": {
        "id": "rufF0PXBTBZO"
      },
      "source": [
        "plt.plot(batch_size_list,results)\n",
        "plt.hlines(NC,1300, 1600)"
      ],
      "execution_count": null,
      "outputs": []
    },
    {
      "cell_type": "code",
      "metadata": {
        "id": "OLqQlQ-mWY2X"
      },
      "source": [
        ""
      ],
      "execution_count": null,
      "outputs": []
    },
    {
      "cell_type": "code",
      "metadata": {
        "id": "yqk3aR58z5mH"
      },
      "source": [
        "batch_size_list,results"
      ],
      "execution_count": null,
      "outputs": []
    },
    {
      "cell_type": "code",
      "metadata": {
        "id": "t-Jm1NXK0pm5"
      },
      "source": [
        "[x for _,x in sorted(zip(results,batch_size_list),reverse=True)]"
      ],
      "execution_count": null,
      "outputs": []
    },
    {
      "cell_type": "code",
      "metadata": {
        "id": "Ml5fZV86TBWi"
      },
      "source": [
        "NC"
      ],
      "execution_count": null,
      "outputs": []
    },
    {
      "cell_type": "code",
      "metadata": {
        "id": "EEzHl2jHBhec"
      },
      "source": [
        ""
      ],
      "execution_count": null,
      "outputs": []
    },
    {
      "cell_type": "markdown",
      "metadata": {
        "id": "HwJLNgYeRBhI"
      },
      "source": [
        "### Test Batch Size"
      ]
    },
    {
      "cell_type": "code",
      "metadata": {
        "id": "7uWImIUKVsaY"
      },
      "source": [
        "import time\n",
        "start=time.time()\n",
        "\n",
        "model=my_model()\n",
        "startnumbers=50\n",
        "model.compile(loss=\"categorical_crossentropy\",metrics=[\"acc\"],optimizer=\"Adam\")\n",
        "allindices=list(np.arange(len(X_train)))\n",
        "start_indexes=random.sample(allindices,startnumbers)\n",
        "finalist=[]\n",
        "search =np.arange(1,50)\n",
        "for batchsize in search:\n",
        "  print(\"BATCH SIZE\",batchsize)\n",
        "  indices=allindices.copy()\n",
        "  indices = list(set(allindices) - set(start_indexes))\n",
        "  newX=np.array(indexer(X_train,start_indexes))\n",
        "  newy=np.array(indexer(y_train,start_indexes))\n",
        "  ## half starting\n",
        "  #newX=\n",
        "  growth=[]\n",
        "  while len(indices)>=10:\n",
        "    print(len(indices),\"datapoints to be searched from this iteration and trained on\",len(newX),\"datapoints\")\n",
        "    model = fit_model(newX,newy,model)\n",
        "    t=model.evaluate(X_test,y_test)[1]\n",
        "    print(t,\"performance on test data\")\n",
        "    growth.append(t)\n",
        "    nextindex_list=choose_next_batch_smallest_loss(model,[newX,newy],indices,batchsize)###index in which search needs to be done\n",
        "    newX=np.concatenate([newX,np.array(indexer(X_train,nextindex_list))])\n",
        "    newy=np.append(newy,indexer(y_train,nextindex_list))\n",
        "    indices=list(set(indices)-set(nextindex_list))\n",
        "  finalist.append(growth)\n",
        "\n",
        "result=[i[-1] for i in finalist]\n",
        "search\n",
        "end=time.time()\n",
        "TT=end-start\n"
      ],
      "execution_count": null,
      "outputs": []
    },
    {
      "cell_type": "code",
      "metadata": {
        "id": "LoMi8YriYJk1"
      },
      "source": [
        "plt.plot(np.arange(len(result)),result)\n",
        "plt.hlines(NC,0, len(result))\n",
        "plt.xticks(np.arange(len(result)),search)\n",
        "plt.show()"
      ],
      "execution_count": null,
      "outputs": []
    },
    {
      "cell_type": "code",
      "metadata": {
        "id": "HS5SIrNKyMZ7"
      },
      "source": [
        ""
      ],
      "execution_count": null,
      "outputs": []
    },
    {
      "cell_type": "markdown",
      "metadata": {
        "id": "L_DMJmxUCFV2"
      },
      "source": [
        "## BS Viz"
      ]
    },
    {
      "cell_type": "code",
      "metadata": {
        "id": "mGJnTLn0rgt7"
      },
      "source": [
        "result"
      ],
      "execution_count": null,
      "outputs": []
    },
    {
      "cell_type": "code",
      "metadata": {
        "nbpresent": {
          "id": "d0fcfbf2-b9dc-4866-bc3b-b18d781b5cdd"
        },
        "id": "iQT6RqYAy-d2"
      },
      "source": [
        "########taking\n",
        "import os\n",
        "files = os.listdir(\".\")\n",
        "files = [ i for i in files  if \".h5\" in i]"
      ],
      "execution_count": null,
      "outputs": []
    },
    {
      "cell_type": "code",
      "metadata": {
        "id": "TsiKNsy1kXSg"
      },
      "source": [
        "files = sorted(files)"
      ],
      "execution_count": null,
      "outputs": []
    },
    {
      "cell_type": "code",
      "metadata": {
        "id": "00CIHzfEy-d7"
      },
      "source": [
        "predictions_list=[]\n",
        "model,_ = bert_model(T)\n",
        "model.compile(\"adam\",\"categorical_crossentropy\")\n",
        "for file in files:\n",
        "  model.load_weights(file)\n",
        "  pred = model.predict([test_input_ids, test_attention_masks, test_token_type_ids])\n",
        "  true = test_labels_categorical\n",
        "  pred = np.argmax(pred,axis=-1)\n",
        "  true=np.argmax(true,axis=-1)\n",
        "  predictions_list.append(pred==true)\n",
        "  performance  = model.evaluate([test_input_ids, test_attention_masks, test_token_type_ids],test_labels_categorical)\n",
        "  print(performance)"
      ],
      "execution_count": null,
      "outputs": []
    },
    {
      "cell_type": "code",
      "metadata": {
        "id": "57QqT-1g57Sy"
      },
      "source": [
        "array([0.23167421, 0.23257919, 0.42533937, 0.48823529, 0.49773756])"
      ],
      "execution_count": null,
      "outputs": []
    },
    {
      "cell_type": "code",
      "metadata": {
        "id": "BpSvrqjn0gAS"
      },
      "source": [
        "[np.sum(predictions_list[i])/len(predictions_list[i]) for i in [0,1,2,3,4]]"
      ],
      "execution_count": null,
      "outputs": []
    },
    {
      "cell_type": "code",
      "metadata": {
        "id": "leX_vEuD6F0j"
      },
      "source": [
        "#zeros_score_list = \n",
        "l1 = np.sum(np.array(predictions_list).T,axis=-1)"
      ],
      "execution_count": null,
      "outputs": []
    },
    {
      "cell_type": "code",
      "metadata": {
        "id": "NLseq6H6_wKT"
      },
      "source": [
        "len(l1)"
      ],
      "execution_count": null,
      "outputs": []
    },
    {
      "cell_type": "code",
      "metadata": {
        "id": "bIddVQ7i_whv"
      },
      "source": [
        "l2 = list(np.array(predictions_list).T)"
      ],
      "execution_count": null,
      "outputs": []
    },
    {
      "cell_type": "code",
      "metadata": {
        "id": "dg7ObK3PARlq"
      },
      "source": [
        "newmatrix = [x for _, x in sorted(zip(l1,l2), key=lambda pair: pair[0],reverse=True)]"
      ],
      "execution_count": null,
      "outputs": []
    },
    {
      "cell_type": "code",
      "metadata": {
        "id": "8rOx7s-Q_QpH"
      },
      "source": [
        "#newmatrix  = [x for _,x in sorted(zip(l1,list(np.array(predictions_list).T)))]"
      ],
      "execution_count": null,
      "outputs": []
    },
    {
      "cell_type": "code",
      "metadata": {
        "id": "Vm1_rC0I9RTy"
      },
      "source": [
        "fig,ax = plt.subplots(figsize=(3,16))\n",
        "sns.heatmap(newmatrix)#,cmap= \"YlGnBu\")"
      ],
      "execution_count": null,
      "outputs": []
    },
    {
      "cell_type": "code",
      "metadata": {
        "id": "65uBDZoI-oR_"
      },
      "source": [
        ""
      ],
      "execution_count": null,
      "outputs": []
    },
    {
      "cell_type": "markdown",
      "metadata": {
        "id": "bt0-uZQRCBNC"
      },
      "source": [
        "### OP Viz"
      ]
    },
    {
      "cell_type": "code",
      "metadata": {
        "nbpresent": {
          "id": "d0fcfbf2-b9dc-4866-bc3b-b18d781b5cdd"
        },
        "id": "JC6nr51IB_wL"
      },
      "source": [
        "########taking\n",
        "import os\n",
        "files = os.listdir(\".\")\n",
        "files = [ i for i in files  if \"one\" in i]"
      ],
      "execution_count": null,
      "outputs": []
    },
    {
      "cell_type": "code",
      "metadata": {
        "id": "6zxKRPZhB_wP"
      },
      "source": [
        "files = sorted(files)"
      ],
      "execution_count": null,
      "outputs": []
    },
    {
      "cell_type": "code",
      "metadata": {
        "id": "SCJUMYcwB_wV"
      },
      "source": [
        "predictions_list=[]\n",
        "model,_ = bert_model(T)\n",
        "model.compile(\"adam\",\"categorical_crossentropy\")\n",
        "for file in files:\n",
        "  model.load_weights(file)\n",
        "  pred = model.predict([test_input_ids, test_attention_masks, test_token_type_ids])\n",
        "  true = test_labels_categorical\n",
        "  pred = np.argmax(pred,axis=-1)\n",
        "  true=np.argmax(true,axis=-1)\n",
        "  predictions_list.append(pred==true)\n",
        "  performance  = model.evaluate([test_input_ids, test_attention_masks, test_token_type_ids],test_labels_categorical)\n",
        "  print(performance)"
      ],
      "execution_count": null,
      "outputs": []
    },
    {
      "cell_type": "code",
      "metadata": {
        "id": "tRKonzCMB_wY"
      },
      "source": [
        "([0.23167421, 0.23257919, 0.42533937, 0.48823529, 0.49773756])"
      ],
      "execution_count": null,
      "outputs": []
    },
    {
      "cell_type": "code",
      "metadata": {
        "id": "o7QL5YBBB_wa"
      },
      "source": [
        "[np.sum(predictions_list[i])/len(predictions_list[i]) for i in [0,1,2,3,4]]"
      ],
      "execution_count": null,
      "outputs": []
    },
    {
      "cell_type": "code",
      "metadata": {
        "id": "gZ0nS8V7B_wc"
      },
      "source": [
        "#zeros_score_list = \n",
        "l1 = np.sum(np.array(predictions_list).T,axis=-1)"
      ],
      "execution_count": null,
      "outputs": []
    },
    {
      "cell_type": "code",
      "metadata": {
        "id": "z1kWxkTEB_we"
      },
      "source": [
        "len(l1)"
      ],
      "execution_count": null,
      "outputs": []
    },
    {
      "cell_type": "code",
      "metadata": {
        "id": "t1uvBQqZB_wh"
      },
      "source": [
        "l2 = list(np.array(predictions_list).T)"
      ],
      "execution_count": null,
      "outputs": []
    },
    {
      "cell_type": "code",
      "metadata": {
        "id": "qyybvf0jB_wl"
      },
      "source": [
        "newmatrix = [x for _, x in sorted(zip(l1,l2), key=lambda pair: pair[0],reverse=True)]"
      ],
      "execution_count": null,
      "outputs": []
    },
    {
      "cell_type": "code",
      "metadata": {
        "id": "CShuCHojB_wn"
      },
      "source": [
        "#newmatrix  = [x for _,x in sorted(zip(l1,list(np.array(predictions_list).T)))]"
      ],
      "execution_count": null,
      "outputs": []
    },
    {
      "cell_type": "code",
      "metadata": {
        "id": "dlt9qHDYB_wr"
      },
      "source": [
        "fig,ax = plt.subplots(figsize=(3,16))\n",
        "sns.heatmap(newmatrix,cmap=\"YlGnBu_r\")"
      ],
      "execution_count": null,
      "outputs": []
    },
    {
      "cell_type": "code",
      "metadata": {
        "id": "VnxvwaQPB_wt"
      },
      "source": [
        ""
      ],
      "execution_count": null,
      "outputs": []
    },
    {
      "cell_type": "code",
      "metadata": {
        "id": "6dD53ySQ-ogM"
      },
      "source": [
        ""
      ],
      "execution_count": null,
      "outputs": []
    },
    {
      "cell_type": "markdown",
      "metadata": {
        "id": "5xqfjOha6bnJ"
      },
      "source": [
        "##### Bug"
      ]
    },
    {
      "cell_type": "code",
      "metadata": {
        "id": "tTmsyKfx6fIl"
      },
      "source": [
        "from itertools import islice\n",
        "\n",
        "arr=[1, 2, 3, 4, 5, 6] \n",
        "length_to_split=[3,2,1]\n",
        "temp = iter(arr)\n",
        "print(arr, temp, length_to_split)\n",
        "print([list(islice(temp, elem)) for elem in length_to_split] )\n",
        "print([list(islice(iter(arr), elem)) for elem in length_to_split] )"
      ],
      "execution_count": null,
      "outputs": []
    },
    {
      "cell_type": "code",
      "metadata": {
        "id": "u9uqxwjA6bgc"
      },
      "source": [
        ""
      ],
      "execution_count": null,
      "outputs": []
    },
    {
      "cell_type": "code",
      "metadata": {
        "id": "qYJj28LjHiVN"
      },
      "source": [
        "\"\"\"\n",
        "PATH=\"/media/anvesh/Garden of EDEN/Academics/embedding_models/eng/\"\n",
        "\n",
        "\n",
        "from gensim.models import KeyedVectors\n",
        "embedding_model=KeyedVectors.load_word2vec_format(PATH + \"wiki-news-300d-1M.vec\")\n",
        "\n",
        "\n",
        "embedding_model=pickle.load(open(\"mrfasttext.pickle\",\"rb\"))\n",
        "\n",
        "\n",
        "!wget https://nlp.stanford.edu/data/glove.840B.300d.zip\n",
        "from zipfile import ZipFile\n",
        "with ZipFile('glove.840B.300d.zip','r') as f:\n",
        "  f.extractall()\n",
        "  \n",
        "!rm -rf glove.840B.300d.zip\n",
        "\n",
        "embedding_index = {}\n",
        "with open('glove.840B.300d.txt','r',encoding='utf-8') as f1:\n",
        "  for line in f1.readlines():\n",
        "    words = line.split(' ')\n",
        "    word = words[0]\n",
        "    embedding_vec = np.asarray(words[1:],dtype='float32')\n",
        "    embedding_index[word] = embedding_vec\n",
        "embedding_model = embedding_index\n",
        "\"\"\"\n"
      ],
      "execution_count": null,
      "outputs": []
    },
    {
      "cell_type": "code",
      "metadata": {
        "id": "RvbD761CIpq5"
      },
      "source": [
        "# LOAD DATA"
      ],
      "execution_count": null,
      "outputs": []
    },
    {
      "cell_type": "code",
      "metadata": {
        "id": "JjuWhfdqIrHT"
      },
      "source": [
        "Tx=50\n",
        "d=300\n",
        "c=len(set(trainlabels))\n",
        "tokenizer = Tokenizer(num_words=10000)\n",
        "tokenizer.fit_on_texts(Data+devdata)\n",
        "sequences = tokenizer.texts_to_sequences(Data)\n",
        "word_index = tokenizer.word_index\n",
        "print('Found %s unique tokens.' % len(word_index))\n",
        "\n",
        "data = pad_sequences(sequences, maxlen=Tx)\n",
        "\n",
        "print('Shape of Input:', data.shape)\n",
        "#print('Shape of label tensor:', labels.shape)\n",
        "\n",
        "#embedding_model\n",
        "unknown=[]\n",
        "\n",
        "embedding_matrix = np.zeros((len(word_index) + 1, d))\n",
        "for word, i in word_index.items():\n",
        "    if word not in embedding_model:\n",
        "        unknown.append(word)\n",
        "        embedding_matrix[i] = embedding_model[\"unk\"]\n",
        "    else:\n",
        "        embedding_matrix[i] = embedding_model[word]\n",
        "        \n",
        "embedding_layer = Embedding(len(word_index) + 1,d,weights=[embedding_matrix],input_length=Tx,trainable=False)\n",
        "#embedding_layer = Embedding(len(word_index) + 1,d,input_length=Tx,trainable=True)\n",
        "print(len(unknown),len(set(unknown)))\n",
        "\n",
        "X_train=pad_sequences(tokenizer.texts_to_sequences(traindata),maxlen=Tx)\n",
        "X_test=pad_sequences(tokenizer.texts_to_sequences(testdata),maxlen=Tx)\n",
        "X_dev=pad_sequences(tokenizer.texts_to_sequences(devdata),maxlen=Tx)\n",
        "y_train=to_categorical(trainlabels,num_classes=c)\n",
        "y_test=to_categorical(testlabels,num_classes=c)\n",
        "y_dev=to_categorical(devlabels,num_classes=c)\n",
        "\n",
        "\n",
        "def my_model_():\n",
        "  In=Input(shape=(Tx,),name=\"Input_Sentence\")\n",
        "  o=embedding_layer(In)\n",
        "  o=(LSTM(165,return_sequences=False))(o)\n",
        "  o=Dense(c,activation=\"softmax\")(o)\n",
        "  model=Model(inputs=In,outputs=o)\n",
        "  return model\n",
        "\n",
        "def my_model_():\n",
        "  In=Input(shape=(Tx,),name=\"Input_Sentence\")\n",
        "  o=embedding_layer(In)\n",
        "  o1=(Conv1D(filters=50,kernel_size=5))(o)\n",
        "  o1=(MaxPooling1D(Tx - 4))(o1)\n",
        "  o1=Flatten()(o1)\n",
        "\n",
        "  o2=(Conv1D(filters=50,kernel_size=4))(o)\n",
        "  o2=(MaxPooling1D(Tx -3))(o2)\n",
        "  o2=Flatten()(o2)\n",
        "  \n",
        "  o3=(Conv1D(filters=50,kernel_size=3))(o)\n",
        "  o3=(MaxPooling1D(Tx - 2))(o3)\n",
        "  o3=Flatten()(o3)\n",
        "  \n",
        "  o=Concatenate()([o1,o2,o3])\n",
        "  o=Dense(c,activation=\"softmax\")(o)\n",
        "  model=Model(inputs=In,outputs=o)\n",
        "  return model\n",
        "\n",
        "def Attention2layer(units,lo):\n",
        "  edense1=TimeDistributed(Dense(units,activation=\"tanh\",use_bias=True),name=\"dense1\")(lo)\n",
        "  edense2=TimeDistributed(Dense(1,activation=\"linear\",use_bias=True),name=\"dense2\")(edense1)\n",
        "  #temp=Reshape((20))(edense2)\n",
        "  temp=Flatten()(edense2)\n",
        "  print(temp.shape)\n",
        "  alp=Activation(\"softmax\")(temp)\n",
        "  dot=Dot(axes=1)([alp,lo])\n",
        "  return dot\n",
        "\n",
        "def my_model():\n",
        "  I=Input(shape=(Tx,),name=\"Input_Sentence\")\n",
        "  si=embedding_layer(I)\n",
        "  lo=(LSTM(165,return_sequences=True))(si)\n",
        "  units=10\n",
        "  ao=Attention2layer(10,lo)\n",
        "  do=Dense(100,activation=\"relu\")(ao)\n",
        "  o=Dense(c,activation=\"softmax\")(do)\n",
        "  model=Model(inputs=I,outputs=o)\n",
        "  return model\n",
        "\n",
        "def fit_model(XX,yy,model,verbose=0,epochs=25):\n",
        "  model.compile(loss=\"categorical_crossentropy\",metrics=[\"acc\"],optimizer=\"Adam\")\n",
        "  es = EarlyStopping(monitor='val_loss', mode='min', verbose=verbose, patience=10,restore_best_weights=True)\n",
        "  history=model.fit(x=XX,y=yy,epochs=epochs,batch_size=130,validation_data=[X_dev,y_dev],callbacks=[es],verbose=verbose)\n",
        "  return model"
      ],
      "execution_count": null,
      "outputs": []
    },
    {
      "cell_type": "markdown",
      "metadata": {
        "id": "WBs29OCfiRs3"
      },
      "source": [
        "### Curriculum: sentiwordnet \n",
        "\n",
        "> Based on just one score\n",
        "\n",
        "\n",
        "\n",
        "\n"
      ]
    },
    {
      "cell_type": "markdown",
      "metadata": {
        "id": "ZUPe5fT6RsbS"
      },
      "source": [
        "### Strategy"
      ]
    },
    {
      "cell_type": "code",
      "metadata": {
        "id": "hELsI8yBQfdR"
      },
      "source": [
        "import nltk\n",
        "nltk.download('sentiwordnet')\n",
        "nltk.download('wordnet')\n",
        "nltk.download('averaged_perceptron_tagger')\n",
        "nltk.download('punkt')\n",
        "from nltk.corpus import sentiwordnet as swn"
      ],
      "execution_count": null,
      "outputs": []
    },
    {
      "cell_type": "code",
      "metadata": {
        "id": "lzvfYPojTTD8"
      },
      "source": [
        "\n",
        "list(swn.senti_synsets('adsdas'))"
      ],
      "execution_count": null,
      "outputs": []
    },
    {
      "cell_type": "code",
      "metadata": {
        "id": "IHEfMzGr_y2Y"
      },
      "source": [
        "from nltk.corpus import wordnet as wn"
      ],
      "execution_count": null,
      "outputs": []
    },
    {
      "cell_type": "code",
      "metadata": {
        "id": "1aUC5nzQ_1j-"
      },
      "source": [
        "t=wn.synsets('king')[1].lemmas()\n",
        "print(wn.synsets('king'))"
      ],
      "execution_count": null,
      "outputs": []
    },
    {
      "cell_type": "code",
      "metadata": {
        "id": "wpld4YSCiFCA"
      },
      "source": [
        "def score(word):\n",
        "  l=list(swn.senti_synsets(word))\n",
        "  if len(l)==0:\n",
        "    return False\n",
        "  pos=[]\n",
        "  neg=[]\n",
        "  obj=[]\n",
        "  for i in l:\n",
        "    if i.pos_score()!=0.0 or i.neg_score()!=0.0:      \n",
        "      pos.append(i.pos_score())\n",
        "      neg.append(i.neg_score())\n",
        "      obj.append(i.obj_score())\n",
        "  #print(pos,neg)\n",
        "  if len(pos)==0:#means neg is also 0:\n",
        "    return False\n",
        "  return(np.mean(pos),np.mean(neg),np.mean(obj))\n",
        "\n",
        "score(\"great\"),score(\"greadasdst\")"
      ],
      "execution_count": null,
      "outputs": []
    },
    {
      "cell_type": "code",
      "metadata": {
        "id": "ol4K9vtmiIuM"
      },
      "source": [
        "def diff_neutral(sentence):\n",
        "  words=sentence.split(\" \")\n",
        "  pos=0\n",
        "  neg=0\n",
        "  for i in words:\n",
        "    if score(i)!=False:\n",
        "      p,n,_=score(i)\n",
        "      #print(p,n,i)\n",
        "      pos=pos+p\n",
        "      neg=neg+n\n",
        "  return -np.abs(pos-neg)### The Higher the Easier\n",
        "\n",
        "\n",
        "def sum_neutral(sentence):\n",
        "  words=sentence.split(\" \")\n",
        "  ret=0\n",
        "  for i in words:\n",
        "    if score(i)!=False:\n",
        "      _,_,obj=score(i)\n",
        "      #print(p,n,i)\n",
        "      ret=ret+obj\n",
        "  return (ret)#/len(sentence) ####  the more objective the more difficult.\n",
        "\n",
        "def length(sentence):\n",
        "  return len(sentence.split(\" \"))\n",
        "\n",
        "def AdjCount(sentence):\n",
        "  ct=list(zip(*nltk.pos_tag(nltk.word_tokenize(sentence))))[1]\n",
        "  return -ct.count(\"JJ\")/len(sentence)"
      ],
      "execution_count": null,
      "outputs": []
    },
    {
      "cell_type": "code",
      "metadata": {
        "id": "MKno1bBIOEQg"
      },
      "source": [
        "scores=[sum_neutral(i) for i in traindata]\n",
        "# master order is order of indices\n",
        "master_order=sorted(range(len(scores)), key=lambda k: scores[k])"
      ],
      "execution_count": null,
      "outputs": []
    },
    {
      "cell_type": "code",
      "metadata": {
        "id": "Y1KZy8zAie_0"
      },
      "source": [
        "#scores=[sum_neutral(i) for i in sorted_sentences]\n",
        "#scores=[sum_neutral(i) for i in sorted_sentences]"
      ],
      "execution_count": null,
      "outputs": []
    },
    {
      "cell_type": "code",
      "metadata": {
        "id": "ImwBem8xan8Y"
      },
      "source": [
        "import seaborn as sns\n",
        "master_order=sorted(range(len(scores)), key=lambda k: scores[k])\n",
        "t=[scores[i] for i in master_order]\n",
        "sns.heatmap(np.array((t)).reshape(1,len(t)))\n",
        "plt.show()\n",
        "sns.heatmap(np.array(([len(j.split(\" \")) for j in [traindata[i] for i in master_order]])).reshape(1,len(t)))"
      ],
      "execution_count": null,
      "outputs": []
    },
    {
      "cell_type": "code",
      "metadata": {
        "id": "lasXEs-wZDNX"
      },
      "source": [
        "master_order[:5]"
      ],
      "execution_count": null,
      "outputs": []
    },
    {
      "cell_type": "markdown",
      "metadata": {
        "id": "ssQrc2vXRp7d"
      },
      "source": [
        "### Regular **Code**"
      ]
    },
    {
      "cell_type": "code",
      "metadata": {
        "id": "uNpCFBw7TUeG"
      },
      "source": [
        "import time\n",
        "start=time.time()\n",
        "allindices=list(np.arange(len(X_train)))\n",
        "\n",
        "model=my_model()\n",
        "model.compile(loss=\"categorical_crossentropy\",metrics=[\"acc\"],optimizer=\"Adam\")\n",
        "startt=1000\n",
        "batch_size=800\n",
        "start_indexes=master_order[:startt]\n",
        "newX=np.array(indexer(X_train,start_indexes))\n",
        "newy=np.array(indexer(y_train,start_indexes))\n",
        "top=startt-1\n",
        "## half starting\n",
        "growth=[]\n",
        "while top+batch_size<len(X_train):\n",
        "  print(\"training on\",len(newX),\"datapoints\")\n",
        "  model = fit_model(newX,newy,model,epochs=30)\n",
        "  t=model.evaluate(X_test,y_test)[1]\n",
        "  print(t,\"performance on test data\")\n",
        "  growth.append(t)\n",
        "  nextindex_list=master_order[top:top+batch_size]###i\n",
        "  newX=np.concatenate([newX,np.array(indexer(X_train,nextindex_list))])\n",
        "  newy=np.append(newy,np.array(indexer(y_train,nextindex_list)),axis=0)\n",
        "  top=top+batch_size\n",
        "end=time.time()\n",
        "TT=end-start\n",
        "print(TT)\n",
        "plt.plot(growth)\n",
        "plt.hlines(NC,0, len(growth))\n",
        "print(growth[-1],NC)#batch size 1, starting 50 , AdjCOunts high easier\n",
        "pickle.dump(growth,open(\"SST_sentlen_50_500.pickle\",\"wb\"))#800"
      ],
      "execution_count": null,
      "outputs": []
    },
    {
      "cell_type": "code",
      "metadata": {
        "id": "5nmg-TssDZFm"
      },
      "source": [
        "import time\n",
        "start=time.time()\n",
        "allindices=list(np.arange(len(X_train)))\n",
        "multiruns=[]\n",
        "for rand in np.arange(20):\n",
        "  model=my_model()\n",
        "  model.compile(loss=\"categorical_crossentropy\",metrics=[\"acc\"],optimizer=\"Adam\")\n",
        "  startt=1000\n",
        "  batch_size=800\n",
        "  start_indexes=master_order[:startt]\n",
        "  newX=np.array(indexer(X_train,start_indexes))\n",
        "  newy=np.array(indexer(y_train,start_indexes))\n",
        "  top=startt-1\n",
        "  ## half starting\n",
        "  growth=[]\n",
        "  while top+batch_size<len(X_train):\n",
        "    print(\"training on\",len(newX),\"datapoints\")\n",
        "    model = fit_model(newX,newy,model,epochs=30)\n",
        "    t=model.evaluate(X_test,y_test)[1]\n",
        "    print(t,\"performance on test data\")\n",
        "    growth.append(t)\n",
        "    nextindex_list=master_order[top:top+batch_size]###i\n",
        "    newX=np.concatenate([newX,np.array(indexer(X_train,nextindex_list))])\n",
        "    newy=np.append(newy,np.array(indexer(y_train,nextindex_list)),axis=0)\n",
        "    top=top+batch_size\n",
        "  multiruns.append(growth)  \n",
        "end=time.time()\n",
        "TT=end-start"
      ],
      "execution_count": null,
      "outputs": []
    },
    {
      "cell_type": "code",
      "metadata": {
        "id": "jZv6rAqEQfy2"
      },
      "source": [
        "otemp=multiruns\n",
        "for growth in otemp:\n",
        "  print(TT)\n",
        "  plt.plot(growth)\n",
        "  plt.hlines(NC,0, len(growth))\n",
        "  print(growth[-1],NC)#batch size 1, starting 50 , AdjCOunts high easier\n",
        "  pickle.dump(growth,open(\"SST_sentlen_50_500.pickle\",\"wb\"))#800"
      ],
      "execution_count": null,
      "outputs": []
    },
    {
      "cell_type": "code",
      "metadata": {
        "id": "MVbhveGzP_du"
      },
      "source": [
        "otemp=multiruns\n",
        "for growth in otemp:\n",
        "  print(TT)\n",
        "  plt.plot(growth)\n",
        "  plt.hlines(ncc,0, len(growth))\n",
        "  print(growth[-1],NC)#batch size 1, starting 50 , AdjCOunts high easier\n",
        "  pickle.dump(growth,open(\"SST_sentlen_50_500.pickle\",\"wb\"))#1200"
      ],
      "execution_count": null,
      "outputs": []
    },
    {
      "cell_type": "code",
      "metadata": {
        "id": "91or9M0rQkPS"
      },
      "source": [
        "print(TT)\n",
        "plt.plot(growth)\n",
        "plt.hlines(NC,0, len(growth))\n",
        "print(growth[-1],NC)#batch size 1, starting 50 , AdjCOunts high easier\n",
        "pickle.dump(growth,open(\"SST_sentlen_50_500.pickle\",\"wb\"))"
      ],
      "execution_count": null,
      "outputs": []
    },
    {
      "cell_type": "code",
      "metadata": {
        "id": "Pu6zZw7VR1Wn"
      },
      "source": [
        ""
      ],
      "execution_count": null,
      "outputs": []
    },
    {
      "cell_type": "markdown",
      "metadata": {
        "id": "yEYVXnIoR1yY"
      },
      "source": [
        "### Hyper Parameter: Batch_size Tune"
      ]
    },
    {
      "cell_type": "code",
      "metadata": {
        "id": "Y8n-dNG6R1yZ"
      },
      "source": [
        "results=[]\n",
        "batch_size_list=[500,600,700,800,900,1000,1100,1200,1300,1400,1500,1600,1700,1800,1900,2000]\n",
        "batch_size_list=[750,800,850,900,950,1000,1500,2000]\n",
        "#batch_size_list=[500,800,1100,1400,1700,2000]\n",
        "for batch_size in batch_size_list:\n",
        "  print(\"####################\",batch_size,\"###############\")\n",
        "  randomval=[]\n",
        "  for rand in np.arange(5):\n",
        "    model=my_model()\n",
        "    model.compile(loss=\"categorical_crossentropy\",metrics=[\"acc\"],optimizer=\"Adam\")\n",
        "    allindices=list(np.arange(len(X_train)))\n",
        "    startt=1000\n",
        "    start_indexes=master_order[:startt]\n",
        "    newX=np.array(indexer(X_train,start_indexes))\n",
        "    newy=np.array(indexer(y_train,start_indexes))\n",
        "    top=startt-1\n",
        "    ## half starting\n",
        "    #newX=\n",
        "    growth=[]\n",
        "    while top+batch_size<len(X_train):\n",
        "      #print(\"training on\",len(newX),\"datapoints\")\n",
        "      model = fit_model(newX,newy,model,epochs=30)\n",
        "      t=model.evaluate(X_test,y_test,verbose=0)[1]\n",
        "      #print(t,\"performance on test data\")\n",
        "      growth.append(t)\n",
        "      nextindex_list=master_order[top:top+batch_size]###i\n",
        "      newX=np.concatenate([newX,np.  array(indexer(X_train,nextindex_list))])\n",
        "      newy=np.append(newy,np.array(indexer(y_train,nextindex_list)),axis=0)\n",
        "      top=top+batch_size\n",
        "    randomval.append(growth[-1])\n",
        "  results.append(np.average(randomval))"
      ],
      "execution_count": null,
      "outputs": []
    },
    {
      "cell_type": "code",
      "metadata": {
        "id": "hJGwJaTffmoC"
      },
      "source": [
        "plt.plot(batch_size_list,results)\n",
        "plt.hlines(NC,750, 950) #diff_neutral"
      ],
      "execution_count": null,
      "outputs": []
    },
    {
      "cell_type": "code",
      "metadata": {
        "id": "kToRHYdWTPte"
      },
      "source": [
        "plt.plot(batch_size_list,results)\n",
        "plt.hlines(NC,500, 1600) #diff_neutral"
      ],
      "execution_count": null,
      "outputs": []
    },
    {
      "cell_type": "code",
      "metadata": {
        "id": "7jhYFPwwUOiM"
      },
      "source": [
        "results"
      ],
      "execution_count": null,
      "outputs": []
    },
    {
      "cell_type": "code",
      "metadata": {
        "id": "kSpjTUOuHqY7"
      },
      "source": [
        "plt.plot([500,800,1100,1400,1700,2000],results)\n",
        "plt.hlines(NC,500,2000)"
      ],
      "execution_count": null,
      "outputs": []
    },
    {
      "cell_type": "code",
      "metadata": {
        "id": "9g996-GyR1yc"
      },
      "source": [
        "plt.plot(batch_size_list,results)\n",
        "plt.hlines(NC,1300, 1600) diff_neutral"
      ],
      "execution_count": null,
      "outputs": []
    },
    {
      "cell_type": "code",
      "metadata": {
        "id": "JPrjZy9jR1ye"
      },
      "source": [
        "plt.plot(batch_size_list,results)\n",
        "plt.hlines(NC,1300, 1600)"
      ],
      "execution_count": null,
      "outputs": []
    },
    {
      "cell_type": "code",
      "metadata": {
        "id": "JuFgnBm6R1yo"
      },
      "source": [
        "#batch_size_list,results"
      ],
      "execution_count": null,
      "outputs": []
    },
    {
      "cell_type": "code",
      "metadata": {
        "id": "clR9vnmgR1yq"
      },
      "source": [
        "[x for _,x in sorted(zip(results,batch_size_list),reverse=True)]"
      ],
      "execution_count": null,
      "outputs": []
    },
    {
      "cell_type": "code",
      "metadata": {
        "id": "-OJTeI8wtla4"
      },
      "source": [
        "def my_model_():\n",
        "  In=Input(shape=(Tx,),name=\"Input_Sentence\")\n",
        "  o=embedding_layer(In)\n",
        "  o=(LSTM(165,return_sequences=False))(o)\n",
        "  o=Dense(c,activation=\"softmax\")(o)\n",
        "  model=Model(inputs=In,outputs=o)\n",
        "  return model\n",
        "\n",
        "def my_model_():\n",
        "  In=Input(shape=(Tx,),name=\"Input_Sentence\")\n",
        "  o=embedding_layer(In)\n",
        "  o1=(Conv1D(filters=50,kernel_size=5))(o)\n",
        "  o1=(MaxPooling1D(Tx - 4))(o1)\n",
        "  o1=Flatten()(o1)\n",
        "\n",
        "  o2=(Conv1D(filters=50,kernel_size=4))(o)\n",
        "  o2=(MaxPooling1D(Tx -3))(o2)\n",
        "  o2=Flatten()(o2)\n",
        "  \n",
        "  o3=(Conv1D(filters=50,kernel_size=3))(o)\n",
        "  o3=(MaxPooling1D(Tx - 2))(o3)\n",
        "  o3=Flatten()(o3)\n",
        "  \n",
        "  o=Concatenate()([o1,o2,o3])\n",
        "  o=Dense(c,activation=\"softmax\")(o)\n",
        "  model=Model(inputs=In,outputs=o)\n",
        "  return model\n",
        "\n",
        "def Attention2layer(units,lo):\n",
        "  edense1=TimeDistributed(Dense(units,activation=\"tanh\",use_bias=True),name=\"dense1\")(lo)\n",
        "  edense2=TimeDistributed(Dense(1,activation=\"linear\",use_bias=True),name=\"dense2\")(edense1)\n",
        "  #temp=Reshape((20))(edense2)\n",
        "  temp=Flatten()(edense2)\n",
        "  print(temp.shape)\n",
        "  alp=Activation(\"softmax\")(temp)\n",
        "  dot=Dot(axes=1)([alp,lo])\n",
        "  return dot\n",
        "\n",
        "def my_model():\n",
        "  I=Input(shape=(Tx,),name=\"Input_Sentence\")\n",
        "  si=embedding_layer(I)\n",
        "  lo=(LSTM(165,return_sequences=True))(si)\n",
        "  units=10\n",
        "  ao=Attention2layer(10,lo)\n",
        "  do=Dense(100,activation=\"relu\")(ao)\n",
        "  o=Dense(c,activation=\"softmax\")(do)\n",
        "  model=Model(inputs=I,outputs=o)\n",
        "  return model\n",
        "\n",
        "def fit_model(XX,yy,model,verbose=0,epochs=25):\n",
        "  model.compile(loss=\"categorical_crossentropy\",metrics=[\"acc\"],optimizer=\"Adam\")\n",
        "  es = EarlyStopping(monitor='val_loss', mode='min', verbose=verbose, patience=10,restore_best_weights=True)\n",
        "  history=model.fit(x=XX,y=yy,epochs=epochs,batch_size=130,validation_data=[X_dev,y_dev],callbacks=[es],verbose=verbose)\n",
        "  return model\n",
        "\n",
        "def indexer(test_list,index_list,nparr=True):\n",
        "  if nparr==True:\n",
        "    return np.array([test_list[i] for i in index_list])\n",
        "  else:\n",
        "    return [test_list[i] for i in index_list]\n",
        "\n",
        "model=my_model()\n",
        "model.summary()\n",
        "#SVG(model_to_dot(model).create(prog='dot', format='svg'))"
      ],
      "execution_count": null,
      "outputs": []
    }
  ]
}